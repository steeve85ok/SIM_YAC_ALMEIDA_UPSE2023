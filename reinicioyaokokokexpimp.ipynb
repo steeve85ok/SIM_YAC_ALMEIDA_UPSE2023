{
  "nbformat": 4,
  "nbformat_minor": 0,
  "metadata": {
    "colab": {
      "provenance": [],
      "authorship_tag": "ABX9TyNPT7gOXT55LZ5ZajpNw1ee",
      "include_colab_link": true
    },
    "kernelspec": {
      "name": "python3",
      "display_name": "Python 3"
    },
    "language_info": {
      "name": "python"
    }
  },
  "cells": [
    {
      "cell_type": "markdown",
      "metadata": {
        "id": "view-in-github",
        "colab_type": "text"
      },
      "source": [
        "<a href=\"https://colab.research.google.com/github/steeve85ok/SIM_YAC_ALMEIDA_UPSE2023/blob/main/reinicioyaokokokexpimp.ipynb\" target=\"_parent\"><img src=\"https://colab.research.google.com/assets/colab-badge.svg\" alt=\"Open In Colab\"/></a>"
      ]
    },
    {
      "cell_type": "markdown",
      "source": [
        "Solucion Matriz Metodo explicito e implicito"
      ],
      "metadata": {
        "id": "Hi-aVYvvjML9"
      }
    },
    {
      "cell_type": "code",
      "source": [
        "# Revision d metodos explicito e implicito\n",
        "import numpy as np #vector\n",
        "import math"
      ],
      "metadata": {
        "id": "GInbMsMKjWDo"
      },
      "execution_count": 23,
      "outputs": []
    },
    {
      "cell_type": "code",
      "source": [
        "L=10000 # longitud de reservorio\n",
        "dx=2500 # separación de nodos\n",
        "Tiempo= 100000 # numero de días (division a dt se tiene numero de iteraciones)\n",
        "DT=1 # intervalo de tiempo en dias\n",
        "K=50 #Permeabilidad MD\n",
        "por=0.2 #Porosidad u\n",
        "vis=1 # viscocidad (centipoise)\n",
        "Beta=1 # factor volumetrico (se asume constante)\n",
        "CompTotal=1**-6 #compresibilidad total psi-1\n",
        "Area=200000 #ft**2 (area del reseervorio)\n",
        "\n"
      ],
      "metadata": {
        "id": "9OKpUBfSkbJp"
      },
      "execution_count": 24,
      "outputs": []
    },
    {
      "cell_type": "code",
      "source": [
        "Alpha=K/(vis*por*CompTotal) # da la forma de ecuación difusividad d2p/dx2=(1/alpha)dp/dt, alpha ya no es uno\n",
        "Alpha\n",
        "Eta=Alpha*DT/(dx**2) # para hallar estabilidad varia dx (100 a 2500), DT (100 a 1); oj comp 1**-6  ; si alpha es uno simplemente dx es doble DT\n",
        "Eta"
      ],
      "metadata": {
        "colab": {
          "base_uri": "https://localhost:8080/"
        },
        "id": "HHbpfUKYnmCZ",
        "outputId": "4ccbbcb4-6789-4fe9-d9ed-214a4fba7c89"
      },
      "execution_count": 25,
      "outputs": [
        {
          "output_type": "execute_result",
          "data": {
            "text/plain": [
              "4e-05"
            ]
          },
          "metadata": {},
          "execution_count": 25
        }
      ]
    },
    {
      "cell_type": "code",
      "source": [
        "#Esquema Explícito Pi(**)n+1=Pi(**)n + alphaDT/dx**2 [Pi-1(**)n - 2Pi(**)n + Pi+1(**)n], considerar Eta=alphaDT/dx2, Estable: Eta menor 0.5\n",
        "def Presdt(P0,P1,P2,Eta): # (funcion esquema eplicito usando Eta en lugar DT y dx)\n",
        "  Pdt=P1+Eta*(P0-2*P1+P2)\n",
        "  return(Pdt)\n",
        "\n",
        "Pexplicita=np.zeros((Tiempo//DT,L//dx)) # matriz que va a guardar todos los resultados. Filas N: Iteraciones, Columnas m: numero de Nodos\n"
      ],
      "metadata": {
        "id": "Hb64WPfpmdyD"
      },
      "execution_count": 26,
      "outputs": []
    },
    {
      "cell_type": "code",
      "source": [
        "# Condiciones Iniciales esquema explicito\n",
        "\n",
        "Pyac=1000 # presion de yacimiento psi # se da valores al vector de presiones inciales\n",
        "Piz=2000 # presion frontera izquierda psi\n",
        "Pder=0 # presion frontera derecha psi (todo flow)\n",
        "\n",
        "Pin=np.ones(L//dx) #vector de presiones iniciales (es cantidad de nodos y los datos están con unos)\n",
        "Pres=np.zeros(L//dx) #vector de resultados\n",
        "Pres2=np.zeros(L//dx) #vector de resultados para la solucion implicita\n",
        "Pin=Pin*Pyac #valores del vector incial como presion de yacimiento (tiempo=0)\n",
        "#Atribuir valores al vector d condiciones iniciales\n",
        "Pin[0]=Piz #primera celda (0) del vector Pin será Pizquierda (frontera izquierda)\n",
        "Pin[len(Pin)-1]=Pder #ultima celda del vector menos 1 es frontera derecha (en python)\n",
        "\n",
        "Pin"
      ],
      "metadata": {
        "id": "IR7P_Opb-0be",
        "outputId": "06f83cfd-7cae-48ee-8e2c-2b75a8770922",
        "colab": {
          "base_uri": "https://localhost:8080/"
        }
      },
      "execution_count": 27,
      "outputs": [
        {
          "output_type": "execute_result",
          "data": {
            "text/plain": [
              "array([2000., 1000., 1000.,    0.])"
            ]
          },
          "metadata": {},
          "execution_count": 27
        }
      ]
    },
    {
      "cell_type": "code",
      "source": [
        "Pin[len(Pin)-1]"
      ],
      "metadata": {
        "id": "sOEpgwvCd4Yb",
        "outputId": "201a322a-ca02-4c13-d10c-d7bd2d6883f6",
        "colab": {
          "base_uri": "https://localhost:8080/"
        }
      },
      "execution_count": 28,
      "outputs": [
        {
          "output_type": "execute_result",
          "data": {
            "text/plain": [
              "0.0"
            ]
          },
          "metadata": {},
          "execution_count": 28
        }
      ]
    },
    {
      "cell_type": "code",
      "source": [
        "t=DT\n",
        "Pexplicita[0]=Pin           # en la matriz Pexplicita, la presion de la primera fila será la presión incial\n",
        "while t<Tiempo:                  # Se empieza calculos con ciclo en base al tiempo, llenarán la fila 2,3,... (se tendran resultados con una iteracion menos)\n",
        "  for i in range(0,len(Pin)-1):  # creacion del ciclo de espacio (columnas: (0)es primer valor, (Pin)-1 es ultimo valor)\n",
        "    if i==0:                    # i==0 representa la posición del nodo en todos los puntos de la frontera izquierda\n",
        "      Pres[i]=Pin[0]            #Pin[i]=Piz definido en condiciones iniciales, (con vector de resultados Pres se llenan  todos los valores de la columna en i =0, frontera izq)\n",
        "    elif i==len(Pin)-1:         # posición de i en frontera derecha\n",
        "      Pres[i]=Pin[len(Pin)-1]   #Pin[len(Pin)-1]=Pder definido en condiciones iniciales, (así se llenan todos los valores de la columna final i = num nodos menos 1, frontera der)\n",
        "    else:                       # en todos los demás puntos  se llamará a la funcion denominada Presdt para las presiones futuras\n",
        "      Pres[i]=Presdt(Pin[i-1],Pin[i],Pin[i+1],Eta)  # triangulo de posicion i, i-1, i+1, con relacion a valores del vector anterior que sería la presion de i-1, presion de i, presion de i+1; factor Eta (dif a 1); con i da cambio nodo por nodo\n",
        "  Pexplicita[t//DT]=Pres         # Pres vector pone valores en la siguiente fila de la matriz (sale del condicional)\n",
        "  t=t+DT                        # siguiente ciclo\n",
        "  Pin=Pres                      # vector inicial recopila al vector de resultads anterior, y llena los triangulos sucesivamente"
      ],
      "metadata": {
        "id": "Ftymu3rF6KX6"
      },
      "execution_count": 29,
      "outputs": []
    },
    {
      "cell_type": "code",
      "source": [
        "Pexplicita                    # Resultados de la matriz seteada"
      ],
      "metadata": {
        "id": "nA9X5uq5f9go",
        "outputId": "9e51bf2a-63af-4c99-9a6b-cc353b835a93",
        "colab": {
          "base_uri": "https://localhost:8080/"
        }
      },
      "execution_count": 8,
      "outputs": [
        {
          "output_type": "execute_result",
          "data": {
            "text/plain": [
              "array([[2000.        , 1000.        , 1000.        ,    0.        ],\n",
              "       [2000.        , 1000.04      ,  999.96      ,    0.        ],\n",
              "       [2000.        , 1000.0799952 ,  999.9200064 ,    0.        ],\n",
              "       ...,\n",
              "       [2000.        , 1333.33146859,  666.66889757,    0.        ],\n",
              "       [2000.        , 1333.33146883,  666.66889732,    0.        ],\n",
              "       [2000.        , 1333.33146907,  666.66889706,    0.        ]])"
            ]
          },
          "metadata": {},
          "execution_count": 8
        }
      ]
    },
    {
      "cell_type": "code",
      "source": [
        "Pexplicita.shape"
      ],
      "metadata": {
        "id": "VuPe2IcWhp8w",
        "outputId": "94de378c-e58f-496e-cd7f-b47452fc4e53",
        "colab": {
          "base_uri": "https://localhost:8080/"
        }
      },
      "execution_count": 9,
      "outputs": [
        {
          "output_type": "execute_result",
          "data": {
            "text/plain": [
              "(100000, 4)"
            ]
          },
          "metadata": {},
          "execution_count": 9
        }
      ]
    },
    {
      "cell_type": "code",
      "source": [
        "# Esquema Implícito"
      ],
      "metadata": {
        "id": "mQFENiYkl3UK"
      },
      "execution_count": 30,
      "outputs": []
    },
    {
      "cell_type": "code",
      "source": [
        "# Solucion explicita con sistema de ecuaciones 1:41 del video\n",
        "# Matriz tridiagonal - Eta, 1+2Eta, -Eta\n",
        "# Matriz cuadrada NxN,  Tamaño depende de numero de triangulos, cada uno es ecuacion, num incogn es num ecuaciones, lineal\n",
        "# num ecuaciones N = #nodos-2\n",
        "# indices i,J de matriz, diagonal si i=J valor numérico del término es 1+2Eta\n",
        "# índice J-1 ó J+1 corresponden a valor numérico -Eta\n"
      ],
      "metadata": {
        "id": "Kkdfe_KTiW7Y"
      },
      "execution_count": 31,
      "outputs": []
    },
    {
      "cell_type": "code",
      "source": [
        "Pimplicita= np.zeros((Tiempo//DT,L//dx))    #  matriz implicita de rsutados (diferente a matriz donde se resolvera las presiones futura o Matriz de resolucion)\n",
        "Pin=np.ones(L//dx) #vector de presiones iniciales (es cantidad de nodos)\n",
        "Pres=np.zeros(L//dx) #vector de resultados de ceros\n",
        "Pin=Pin*Pyac #valores del vector incial como presion de yacimiento (tiempo=0)\n",
        "Pin[0]=Piz # #Atribuir valores al vector d condiciones iniciales, primera celda (0) del vector Pin será Pizquierda (frontera izquierda)\n",
        "Pin[len(Pin)-1]=Pder\n",
        "N=L//dx   # Numero de nodos= long yac / dx\n",
        "Matriz_resolucion=np.zeros([N-2,N-2]) # matriz que resolvera el sistema de ecuaciones, dimensiones N-2, N-2, cuadrada, tiene 2 nodos menos q la matriz de resultados Pimplicita\n"
      ],
      "metadata": {
        "id": "UGJmPqcDj6LZ"
      },
      "execution_count": 32,
      "outputs": []
    },
    {
      "cell_type": "code",
      "source": [
        "for i in range(N-2):              # Cilco espacio esquema implicito.-para Llenar valores de matriz de resultados Pimplicita se apoya de la matrz de resolucion. Pyton reconoce con indice 0 a frontera izq y der (primera y ult columna), en la matriz Pimplicita\n",
        "  Matriz_resolucion[i,i]=1+2*Eta  # Matriz de resolucion sst ecuaciones.-seteos de valores de diagonal versus asignacion de indices [i,i], filas igual a columnas. En Pyton, primera fila matriz resolucion tiene indice cero\n",
        "  if i>0:                          # Matriz de resolucion.-Pyton segunda fila, lado izquierdo de la diagonal i=1 (por debajo); el valor nuerico es -Eta\n",
        "    Matriz_resolucion[i,i-1]=-Eta\n",
        "  if i<(N-3):                     # Matriz de resolucion N-2 x N-2.- por encima de la diagonal  en N-3 (Pyton) el valor nuerico es -Eta (ver 2h15 min video)\n",
        "    Matriz_resolucion[i,i+1]=-Eta # Matriz q se usará en todos los tiempos\n"
      ],
      "metadata": {
        "id": "xyNNaQTom1Wn"
      },
      "execution_count": 33,
      "outputs": []
    },
    {
      "cell_type": "code",
      "source": [
        "# Resolucion de sistema ecuaciones matriciales en Pyton A.Pexp(n+1)= Poexp(n) ver video 2h30\n"
      ],
      "metadata": {
        "id": "IN_lbAZKsjLA"
      },
      "execution_count": 14,
      "outputs": []
    },
    {
      "cell_type": "code",
      "source": [
        "Pcal=np.zeros([N-2])      # vector vacio de tamaño N-2 de Presiones calculadas que se obtendrán sin incluir fronteras ni condiciones iniciales.\n",
        "Pcal=np.linalg.solve(Matriz_resolucion,Pin[1:-1]) # Pin[1:-1] Vector inicial sin los resultados de la frontera (desde el valor 1 al valor final -1)"
      ],
      "metadata": {
        "id": "MraTeOOXcA-4"
      },
      "execution_count": 34,
      "outputs": []
    },
    {
      "cell_type": "code",
      "source": [
        "Pcal"
      ],
      "metadata": {
        "id": "wRwO40BbfBU7",
        "outputId": "1fa94fad-c91a-49e5-cfb6-7c44826f446a",
        "colab": {
          "base_uri": "https://localhost:8080/"
        }
      },
      "execution_count": 16,
      "outputs": [
        {
          "output_type": "execute_result",
          "data": {
            "text/plain": [
              "array([999.9600016, 999.9600016])"
            ]
          },
          "metadata": {},
          "execution_count": 16
        }
      ]
    },
    {
      "cell_type": "code",
      "source": [
        "Pcal.shape"
      ],
      "metadata": {
        "id": "tPOsg-EXpOLz",
        "outputId": "66255d0d-dd9e-48d3-88db-294e4bc5494c",
        "colab": {
          "base_uri": "https://localhost:8080/"
        }
      },
      "execution_count": 37,
      "outputs": [
        {
          "output_type": "execute_result",
          "data": {
            "text/plain": [
              "(2,)"
            ]
          },
          "metadata": {},
          "execution_count": 37
        }
      ]
    },
    {
      "cell_type": "code",
      "source": [
        "Pres.shape"
      ],
      "metadata": {
        "id": "JKouq8S2o4Yy",
        "outputId": "f8019453-1ab3-4778-80dd-9c97edb759f4",
        "colab": {
          "base_uri": "https://localhost:8080/"
        }
      },
      "execution_count": 35,
      "outputs": [
        {
          "output_type": "execute_result",
          "data": {
            "text/plain": [
              "(4,)"
            ]
          },
          "metadata": {},
          "execution_count": 35
        }
      ]
    },
    {
      "cell_type": "code",
      "source": [
        "Pres2.shape #comprobacion de vector de resultados de presion"
      ],
      "metadata": {
        "id": "7aalGMCTo-2K",
        "outputId": "e2d5733a-1550-4c80-b7db-54670a350ab6",
        "colab": {
          "base_uri": "https://localhost:8080/"
        }
      },
      "execution_count": 36,
      "outputs": [
        {
          "output_type": "execute_result",
          "data": {
            "text/plain": [
              "(4,)"
            ]
          },
          "metadata": {},
          "execution_count": 36
        }
      ]
    },
    {
      "cell_type": "code",
      "source": [
        "Pcal"
      ],
      "metadata": {
        "id": "N1b6mb6cssTm",
        "outputId": "a2c87cfa-3d53-4a17-d403-1bd5caadd946",
        "colab": {
          "base_uri": "https://localhost:8080/"
        }
      },
      "execution_count": 38,
      "outputs": [
        {
          "output_type": "execute_result",
          "data": {
            "text/plain": [
              "array([999.9600016, 999.9600016])"
            ]
          },
          "metadata": {},
          "execution_count": 38
        }
      ]
    },
    {
      "cell_type": "code",
      "source": [
        "Pder # prueba de valores (forntera derecha)"
      ],
      "metadata": {
        "id": "b4VlJ70SswEb",
        "outputId": "f3eadd76-e6f2-4a8e-81d5-dd4250025b5f",
        "colab": {
          "base_uri": "https://localhost:8080/"
        }
      },
      "execution_count": 39,
      "outputs": [
        {
          "output_type": "execute_result",
          "data": {
            "text/plain": [
              "0"
            ]
          },
          "metadata": {},
          "execution_count": 39
        }
      ]
    },
    {
      "cell_type": "code",
      "source": [
        "Pres=np.concatenate  #al poner np.concatenate= , todo lo guardado, sobrescribe funcion y da error"
      ],
      "metadata": {
        "id": "68CLHWpIszNr"
      },
      "execution_count": null,
      "outputs": []
    },
    {
      "cell_type": "code",
      "source": [
        "#Condiciones de frontera (concatenate toma varios valores de matriz calculada y junta los valores de frontera)\n",
        "Pres2=np.concatenate(([Piz],Pcal,[Pder]))\n",
        "Pres2"
      ],
      "metadata": {
        "id": "QP3bOt9UdIY7",
        "outputId": "3df0cf60-cc28-4c43-87d0-b81e845c4836",
        "colab": {
          "base_uri": "https://localhost:8080/",
          "height": 209
        }
      },
      "execution_count": 22,
      "outputs": [
        {
          "output_type": "error",
          "ename": "TypeError",
          "evalue": "ignored",
          "traceback": [
            "\u001b[0;31m---------------------------------------------------------------------------\u001b[0m",
            "\u001b[0;31mTypeError\u001b[0m                                 Traceback (most recent call last)",
            "\u001b[0;32m<ipython-input-22-e3ab76474afd>\u001b[0m in \u001b[0;36m<cell line: 2>\u001b[0;34m()\u001b[0m\n\u001b[1;32m      1\u001b[0m \u001b[0;31m#Condiciones de frontera (concatenate toma varios valores de matriz calculada y junta los valores de frontera)\u001b[0m\u001b[0;34m\u001b[0m\u001b[0;34m\u001b[0m\u001b[0m\n\u001b[0;32m----> 2\u001b[0;31m \u001b[0mPres2\u001b[0m\u001b[0;34m=\u001b[0m\u001b[0mnp\u001b[0m\u001b[0;34m.\u001b[0m\u001b[0mconcatenate\u001b[0m\u001b[0;34m(\u001b[0m\u001b[0;34m(\u001b[0m\u001b[0;34m[\u001b[0m\u001b[0mPiz\u001b[0m\u001b[0;34m]\u001b[0m\u001b[0;34m,\u001b[0m\u001b[0mPcal\u001b[0m\u001b[0;34m,\u001b[0m\u001b[0;34m[\u001b[0m\u001b[0mPder\u001b[0m\u001b[0;34m]\u001b[0m\u001b[0;34m)\u001b[0m\u001b[0;34m)\u001b[0m\u001b[0;34m\u001b[0m\u001b[0;34m\u001b[0m\u001b[0m\n\u001b[0m\u001b[1;32m      3\u001b[0m \u001b[0mPres2\u001b[0m\u001b[0;34m\u001b[0m\u001b[0;34m\u001b[0m\u001b[0m\n",
            "\u001b[0;31mTypeError\u001b[0m: 'tuple' object is not callable"
          ]
        }
      ]
    },
    {
      "cell_type": "code",
      "source": [
        "#Pasos del ciclo tiempo del problema implícito\n",
        "Pimplicita[0]=Pin       # primiera fila de pimplicita es la presion inicial\n",
        "t=DT                    # primer tiempo es DT\n",
        "while t<Tiempo:          #ciclo en tiempo\n",
        "  Pcal=np.linalg.solve(Matriz_resolucion,Pin[1:-1])  #Presion calculada, secuencia de numeros de matriz solucion y pinicial\n",
        "  Pres=np.concatenate=(([Piz],Pcal,[Pder]))          #presion de resultados\n",
        ""
      ],
      "metadata": {
        "id": "c45QO0-3hHjC"
      },
      "execution_count": 18,
      "outputs": []
    },
    {
      "cell_type": "code",
      "source": [],
      "metadata": {
        "id": "OjUNTbUhnZVl"
      },
      "execution_count": null,
      "outputs": []
    },
    {
      "cell_type": "markdown",
      "source": [],
      "metadata": {
        "id": "87bn4vs5mKsC"
      }
    },
    {
      "cell_type": "code",
      "source": [],
      "metadata": {
        "id": "1EKOsu76gKrz"
      },
      "execution_count": null,
      "outputs": []
    }
  ]
}