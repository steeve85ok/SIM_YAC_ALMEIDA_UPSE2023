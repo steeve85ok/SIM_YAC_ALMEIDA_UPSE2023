{
  "nbformat": 4,
  "nbformat_minor": 0,
  "metadata": {
    "colab": {
      "provenance": [],
      "authorship_tag": "ABX9TyOxOqxgo4eQmxbF3GiMVsMb",
      "include_colab_link": true
    },
    "kernelspec": {
      "name": "python3",
      "display_name": "Python 3"
    },
    "language_info": {
      "name": "python"
    }
  },
  "cells": [
    {
      "cell_type": "markdown",
      "metadata": {
        "id": "view-in-github",
        "colab_type": "text"
      },
      "source": [
        "<a href=\"https://colab.research.google.com/github/steeve85ok/SIM_YAC_ALMEIDA_UPSE2023/blob/main/ejercydifusiv.ipynb\" target=\"_parent\"><img src=\"https://colab.research.google.com/assets/colab-badge.svg\" alt=\"Open In Colab\"/></a>"
      ]
    },
    {
      "cell_type": "markdown",
      "source": [
        "Funcion de 2 variables"
      ],
      "metadata": {
        "id": "xcVe_wWgjmRo"
      }
    },
    {
      "cell_type": "code",
      "source": [
        "z = lambda x,y:x+y"
      ],
      "metadata": {
        "id": "Xj_3LINpjry_"
      },
      "execution_count": 3,
      "outputs": []
    },
    {
      "cell_type": "code",
      "source": [
        "z (5,7)"
      ],
      "metadata": {
        "colab": {
          "base_uri": "https://localhost:8080/"
        },
        "id": "ProtObwWkJj1",
        "outputId": "e56d049e-2b26-4aa6-8908-427f7c689373"
      },
      "execution_count": 4,
      "outputs": [
        {
          "output_type": "execute_result",
          "data": {
            "text/plain": [
              "12"
            ]
          },
          "metadata": {},
          "execution_count": 4
        }
      ]
    },
    {
      "cell_type": "markdown",
      "source": [
        "Funcion cuadratica"
      ],
      "metadata": {
        "id": "VKB9oj5zlTEn"
      }
    },
    {
      "cell_type": "code",
      "source": [
        "def y(x):\n",
        "  return x*x"
      ],
      "metadata": {
        "id": "ukzyZrm2lYb6"
      },
      "execution_count": 20,
      "outputs": []
    },
    {
      "cell_type": "code",
      "source": [
        "y(8)"
      ],
      "metadata": {
        "colab": {
          "base_uri": "https://localhost:8080/"
        },
        "id": "u111yCXqmofm",
        "outputId": "0ac7a017-56e2-4f00-fa1b-954876c9a0e0"
      },
      "execution_count": 21,
      "outputs": [
        {
          "output_type": "execute_result",
          "data": {
            "text/plain": [
              "64"
            ]
          },
          "metadata": {},
          "execution_count": 21
        }
      ]
    },
    {
      "cell_type": "markdown",
      "source": [
        "Ecuacion Difusividad"
      ],
      "metadata": {
        "id": "I_oK6-1YoxfO"
      }
    },
    {
      "cell_type": "code",
      "source": [
        "P0 = 0\n",
        "P1 = 4000\n",
        "P2 = 4000\n",
        "P3 = 4000\n",
        "P4 = 4000\n",
        "P5 = 0\n",
        "deltat = 10\n",
        "deltax = 200"
      ],
      "metadata": {
        "id": "329kVKsVqbUo"
      },
      "execution_count": 22,
      "outputs": []
    },
    {
      "cell_type": "code",
      "source": [
        "#Datos Pn1"
      ],
      "metadata": {
        "id": "g3xR-TSrvPFA"
      },
      "execution_count": 23,
      "outputs": []
    },
    {
      "cell_type": "code",
      "source": [
        "def difus(P0, P1, P2, deltat, deltax):\n",
        "  return (((P0 - 2 * P1 + P2) / deltax**2) * deltat) + P1"
      ],
      "metadata": {
        "id": "cPM1e0jwsRlC"
      },
      "execution_count": 24,
      "outputs": []
    },
    {
      "cell_type": "markdown",
      "source": [
        "tercer triangulo"
      ],
      "metadata": {
        "id": "YsEOIei9wqXq"
      }
    },
    {
      "cell_type": "code",
      "source": [
        "Pin1 = difus(P0, P1, P2, deltat, deltax)\n",
        "print(Pin1)\n",
        "Pi1n1= difus(P1, P2, P3, deltat, deltax)\n",
        "print(Pi1n1)\n",
        "Pi2n1= difus(P2, P3, P4, deltat, deltax)\n",
        "print(Pi2n1)"
      ],
      "metadata": {
        "colab": {
          "base_uri": "https://localhost:8080/"
        },
        "id": "OGjDTJn-uD6R",
        "outputId": "0c2bc14c-1761-4f47-e9ed-172a65217c6d"
      },
      "execution_count": 25,
      "outputs": [
        {
          "output_type": "stream",
          "name": "stdout",
          "text": [
            "3999.0\n",
            "4000.0\n",
            "4000.0\n"
          ]
        }
      ]
    },
    {
      "cell_type": "markdown",
      "source": [
        "Cuarto Triangulo"
      ],
      "metadata": {
        "id": "aUhu2VzQxA_R"
      }
    },
    {
      "cell_type": "code",
      "source": [
        "Pin1 = difus(P0, P1, P2, deltat, deltax)\n",
        "print(Pin1)\n",
        "Pi1n1= difus(P1, P2, P3, deltat, deltax)\n",
        "print(Pi1n1)\n",
        "Pi2n1= difus(P2, P3, P4, deltat, deltax)\n",
        "print(Pi2n1)\n",
        "Pi3n1= difus(P3, P4, P5, deltat, deltax)\n",
        "print(Pi3n1)"
      ],
      "metadata": {
        "colab": {
          "base_uri": "https://localhost:8080/"
        },
        "id": "MbHG0w5FxD-R",
        "outputId": "b43dfb8c-2fc6-419e-81e1-37117dee28f3"
      },
      "execution_count": 26,
      "outputs": [
        {
          "output_type": "stream",
          "name": "stdout",
          "text": [
            "3999.0\n",
            "4000.0\n",
            "4000.0\n",
            "3999.0\n"
          ]
        }
      ]
    },
    {
      "cell_type": "code",
      "source": [
        "#Datos Pn2"
      ],
      "metadata": {
        "id": "XHEXjvuFxqHD"
      },
      "execution_count": 27,
      "outputs": []
    },
    {
      "cell_type": "code",
      "source": [
        "def difus1(P0, Pin1, Pi1n1, deltat, deltax):\n",
        "  return (((P0 - 2 * Pin1 + Pi1n1) / deltax**2) * deltat) + Pin1"
      ],
      "metadata": {
        "id": "qSmL46bex_lo"
      },
      "execution_count": 28,
      "outputs": []
    },
    {
      "cell_type": "code",
      "source": [
        "Pin2 = difus1(P0, Pin1, Pi1n1, deltat, deltax)\n",
        "print(Pin2)\n",
        "Pi1n2= difus1(Pin1, Pi1n1, Pi2n1, deltat, deltax)\n",
        "print(Pi1n2)\n",
        "Pi2n2= difus1(Pi1n1, Pi2n1, Pi3n1, deltat, deltax)\n",
        "print(Pi2n2)\n",
        "Pi3n2= difus1(Pi2n1, Pi3n1, P5, deltat, deltax)\n",
        "print(Pi3n2)"
      ],
      "metadata": {
        "colab": {
          "base_uri": "https://localhost:8080/"
        },
        "id": "F_ze3cNz041D",
        "outputId": "810e9d52-d54a-4e50-e6fe-1aa1b88e5c3e"
      },
      "execution_count": 29,
      "outputs": [
        {
          "output_type": "stream",
          "name": "stdout",
          "text": [
            "3998.0005\n",
            "3999.99975\n",
            "3999.99975\n",
            "3998.0005\n"
          ]
        }
      ]
    }
  ]
}