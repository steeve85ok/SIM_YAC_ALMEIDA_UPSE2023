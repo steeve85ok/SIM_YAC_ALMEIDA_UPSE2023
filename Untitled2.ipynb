{
  "nbformat": 4,
  "nbformat_minor": 0,
  "metadata": {
    "colab": {
      "provenance": [],
      "authorship_tag": "ABX9TyPcE9+WwaB/RX3Ss31PsXPn",
      "include_colab_link": true
    },
    "kernelspec": {
      "name": "python3",
      "display_name": "Python 3"
    },
    "language_info": {
      "name": "python"
    }
  },
  "cells": [
    {
      "cell_type": "markdown",
      "metadata": {
        "id": "view-in-github",
        "colab_type": "text"
      },
      "source": [
        "<a href=\"https://colab.research.google.com/github/steeve85ok/SIM_YAC_ALMEIDA_UPSE2023/blob/main/Untitled2.ipynb\" target=\"_parent\"><img src=\"https://colab.research.google.com/assets/colab-badge.svg\" alt=\"Open In Colab\"/></a>"
      ]
    },
    {
      "cell_type": "markdown",
      "source": [
        "Ecuacion difusividad (1)"
      ],
      "metadata": {
        "id": "4GVOwArl9ef9"
      }
    },
    {
      "cell_type": "code",
      "source": [
        "#Simulador ecuacion difusividad\n",
        "import numpy as np"
      ],
      "metadata": {
        "id": "_4k8A35W9nQm"
      },
      "execution_count": 1,
      "outputs": []
    },
    {
      "cell_type": "code",
      "source": [
        "P=[0, 4000, 4000, 4000, 0] # condiciones iniciales\n",
        "Nodos=len(P)\n",
        "Nodos2=[0,1,2,3,4]\n",
        "Tiempo=100\n",
        "DT=10\n",
        "dx=200\n",
        "#iniciamos\n",
        "interacciones=Tiempo/DT\n",
        "t=DT\n",
        "Pin=P\n",
        "Pin2=Pin #Resultado\n",
        "Pdt=[0,0,0,0,0]"
      ],
      "metadata": {
        "id": "efLugGOh9x6b"
      },
      "execution_count": 2,
      "outputs": []
    },
    {
      "cell_type": "code",
      "source": [
        "def Presdt(P1,P2,P3,deltat,deltax):\n",
        "  return(((P1-P2*P2+P3)/(deltax*deltax))*deltat)+P2"
      ],
      "metadata": {
        "id": "Jr1y54w0_z5Z"
      },
      "execution_count": 3,
      "outputs": []
    },
    {
      "cell_type": "code",
      "source": [
        "Presdt(P[0],P[1],P[2],DT,dx)"
      ],
      "metadata": {
        "colab": {
          "base_uri": "https://localhost:8080/"
        },
        "id": "Kq8H9kwqAjIK",
        "outputId": "a3d226b9-6f65-4802-d2df-70e0a422b6e1"
      },
      "execution_count": 4,
      "outputs": [
        {
          "output_type": "execute_result",
          "data": {
            "text/plain": [
              "1.0"
            ]
          },
          "metadata": {},
          "execution_count": 4
        }
      ]
    },
    {
      "cell_type": "code",
      "source": [
        "while t<Tiempo:\n",
        "  for i in (Nodos2):\n",
        "    if i==0:\n",
        "      Pdt[i]=P[0]\n",
        "    elif i==len(Nodos2)-1:\n",
        "      Pdt[i]=P[len(Nodos2)-1]\n",
        "    else:\n",
        "      Pdt[i]=Presdt(Pin[i-1],Pin[i],Pin[i+1],DT,dx)\n",
        "  t=t+DT\n",
        "  Pdt=Pin\n",
        "  Pin2=np.append(Pin2,Pdt)\n",
        "\n"
      ],
      "metadata": {
        "id": "iHT30OnLAzj5"
      },
      "execution_count": 5,
      "outputs": []
    }
  ]
}