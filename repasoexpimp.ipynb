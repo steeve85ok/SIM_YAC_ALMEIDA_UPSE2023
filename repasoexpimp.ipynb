{
  "nbformat": 4,
  "nbformat_minor": 0,
  "metadata": {
    "colab": {
      "provenance": [],
      "authorship_tag": "ABX9TyOHrtyQJ40vg+cj0AZ9wx56",
      "include_colab_link": true
    },
    "kernelspec": {
      "name": "python3",
      "display_name": "Python 3"
    },
    "language_info": {
      "name": "python"
    }
  },
  "cells": [
    {
      "cell_type": "markdown",
      "metadata": {
        "id": "view-in-github",
        "colab_type": "text"
      },
      "source": [
        "<a href=\"https://colab.research.google.com/github/steeve85ok/SIM_YAC_ALMEIDA_UPSE2023/blob/main/repasoexpimp.ipynb\" target=\"_parent\"><img src=\"https://colab.research.google.com/assets/colab-badge.svg\" alt=\"Open In Colab\"/></a>"
      ]
    },
    {
      "cell_type": "markdown",
      "source": [
        "Solucion Matriz Metodo explicito e implicito"
      ],
      "metadata": {
        "id": "Hi-aVYvvjML9"
      }
    },
    {
      "cell_type": "code",
      "source": [
        "# Revision d metodos explicito e implicito\n",
        "import numpy as np #vector\n",
        "import math"
      ],
      "metadata": {
        "id": "GInbMsMKjWDo"
      },
      "execution_count": null,
      "outputs": []
    },
    {
      "cell_type": "code",
      "source": [
        "L=10000 # longitud de reservorio\n",
        "dx=2500 # separación de nodos\n",
        "Tiempo= 100000 # numero de días (division a dt se tiene numero de iteraciones)\n",
        "DT=1 # intervalo de tiempo en dias\n",
        "K=50 #Permeabilidad MD\n",
        "por=0.2 #Porosidad u\n",
        "vis=1 # viscocidad (centipoise)\n",
        "Beta=1 # factor volumetrico (se asume constante)\n",
        "CompTotal=1**-6 #compresibilidad total psi-1\n",
        "Area=200000 #ft**2 (area del reseervorio)\n",
        "\n"
      ],
      "metadata": {
        "id": "9OKpUBfSkbJp"
      },
      "execution_count": null,
      "outputs": []
    },
    {
      "cell_type": "code",
      "source": [
        "Alpha=K/(vis*por*CompTotal) # da la forma de ecuación difusividad d2p/dx2=(1/alpha)dp/dt, alpha ya no es uno\n",
        "Alpha\n",
        "Eta=Alpha*DT/(dx**2) # para hallar estabilidad varia dx (100 a 2500), DT (100 a 1); oj comp 1**-6  ; si alpha es uno simplemente dx es doble DT\n",
        "Eta"
      ],
      "metadata": {
        "colab": {
          "base_uri": "https://localhost:8080/"
        },
        "id": "HHbpfUKYnmCZ",
        "outputId": "6e9a65be-f0cb-416b-ed46-77d1c677052c"
      },
      "execution_count": null,
      "outputs": [
        {
          "output_type": "execute_result",
          "data": {
            "text/plain": [
              "4e-05"
            ]
          },
          "metadata": {},
          "execution_count": 18
        }
      ]
    },
    {
      "cell_type": "code",
      "source": [
        "#Esquema Explícito Pi(**)n+1=Pi(**)n + alphaDT/dx**2 [Pi-1(**)n - 2Pi(**)n + Pi+1(**)n], considerar Eta=alphaDT/dx2, Estable: Eta menor 0.5\n",
        "def Presdt(P0,P1,P2,Eta): # (funcion esquema eplicito usando Eta en lugar DT y dx)\n",
        "  Pdt=P1+Eta*(P0-2*P1+P2)\n",
        "  return(Pdt)\n",
        "\n",
        "Pexplicita=np.zeros((Tiempo//DT,L//dx)) # matriz que va a guardar todos los resultados. Filas N: Iteraciones, Columnas m: numero de Nodos\n"
      ],
      "metadata": {
        "id": "Hb64WPfpmdyD"
      },
      "execution_count": null,
      "outputs": []
    },
    {
      "cell_type": "code",
      "source": [
        "Pexplicita"
      ],
      "metadata": {
        "colab": {
          "base_uri": "https://localhost:8080/"
        },
        "id": "urHH1iQtpJhM",
        "outputId": "a4fb2b90-fb41-4bfd-d715-30f091db47b2"
      },
      "execution_count": null,
      "outputs": [
        {
          "output_type": "execute_result",
          "data": {
            "text/plain": [
              "array([[0., 0., 0., 0.],\n",
              "       [0., 0., 0., 0.],\n",
              "       [0., 0., 0., 0.],\n",
              "       ...,\n",
              "       [0., 0., 0., 0.],\n",
              "       [0., 0., 0., 0.],\n",
              "       [0., 0., 0., 0.]])"
            ]
          },
          "metadata": {},
          "execution_count": 20
        }
      ]
    },
    {
      "cell_type": "code",
      "source": [
        "# Esquema Implícito"
      ],
      "metadata": {
        "id": "xyNNaQTom1Wn"
      },
      "execution_count": null,
      "outputs": []
    },
    {
      "cell_type": "code",
      "source": [],
      "metadata": {
        "id": "tmciwHit5WJn"
      },
      "execution_count": null,
      "outputs": []
    }
  ]
}