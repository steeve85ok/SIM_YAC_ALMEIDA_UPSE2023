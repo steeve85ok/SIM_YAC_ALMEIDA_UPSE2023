{
  "nbformat": 4,
  "nbformat_minor": 0,
  "metadata": {
    "colab": {
      "provenance": [],
      "include_colab_link": true
    },
    "kernelspec": {
      "name": "python3",
      "display_name": "Python 3"
    },
    "language_info": {
      "name": "python"
    }
  },
  "cells": [
    {
      "cell_type": "markdown",
      "metadata": {
        "id": "view-in-github",
        "colab_type": "text"
      },
      "source": [
        "<a href=\"https://colab.research.google.com/github/steeve85ok/SIM_YAC_ALMEIDA_UPSE2023/blob/main/transmisib17june.ipynb\" target=\"_parent\"><img src=\"https://colab.research.google.com/assets/colab-badge.svg\" alt=\"Open In Colab\"/></a>"
      ]
    },
    {
      "cell_type": "code",
      "execution_count": null,
      "metadata": {
        "id": "rAAn-qguPHyt"
      },
      "outputs": [],
      "source": [
        "import numpy  as np\n",
        "import math"
      ]
    },
    {
      "cell_type": "code",
      "source": [
        "L=10000\n",
        "dx=2500\n",
        "Tiempo=100\n",
        "DT=1\n",
        "K=50 #Permeabilidad MD\n",
        "por=0.2\n",
        "vis=1 # centipoise\n",
        "Beta=1\n",
        "CompTotal=1*10**(-6) #ps1-1\n",
        "A=200000#ft^2"
      ],
      "metadata": {
        "id": "lzMEBdsiRYqC"
      },
      "execution_count": null,
      "outputs": []
    },
    {
      "cell_type": "code",
      "source": [
        "Alpha=K/(vis*por*CompTotal)\n",
        "Alpha\n",
        "Eta=(Alpha*DT)/(dx**2)\n",
        "Eta"
      ],
      "metadata": {
        "colab": {
          "base_uri": "https://localhost:8080/"
        },
        "id": "QFRjhMD2RaOB",
        "outputId": "85f1029e-c22c-442d-d79b-12b514591436"
      },
      "execution_count": null,
      "outputs": [
        {
          "output_type": "execute_result",
          "data": {
            "text/plain": [
              "40.0"
            ]
          },
          "metadata": {},
          "execution_count": 165
        }
      ]
    },
    {
      "cell_type": "code",
      "source": [
        "#Condiciones inicialea\n",
        "Pyac=4000\n",
        "Piz=2000\n",
        "Pder=0\n",
        "Pin=np.ones((L//dx)+2)\n",
        "Qres=np.zeros((L//dx))\n",
        "Pres=np.zeros((L//dx)+2)\n",
        "Pin=Pin*Pyac #inicilaizamos vector con la prsion de yacimiento\n",
        "Pin[0]=2*Piz-Pin[1] #condicion de neuman\n",
        "Pin[len(Pin)-1]=2*Pder-Pin[len(Pin)-2]\n",
        "\n",
        "Pin.shape"
      ],
      "metadata": {
        "colab": {
          "base_uri": "https://localhost:8080/"
        },
        "id": "ogdMazLTRdGb",
        "outputId": "97d7afac-198d-4de3-9400-ef084207e88f"
      },
      "execution_count": null,
      "outputs": [
        {
          "output_type": "execute_result",
          "data": {
            "text/plain": [
              "(6,)"
            ]
          },
          "metadata": {},
          "execution_count": 166
        }
      ]
    },
    {
      "cell_type": "code",
      "source": [
        "#Esquema Implicito\n",
        "Pimplicita=np.zeros((Tiempo//DT,(L//dx)+2)) # matriz\n",
        "Qimplicita=np.zeros((Tiempo//DT,(L//dx))) # matriz\n",
        "# Pin=np.ones((L//dx)+2) jugar con codigo\n",
        "Pres=np.zeros((L//dx)+2)\n",
        "#Pin=Pin*Pyac\n",
        "#Pin[0]=Piz\n",
        "#Pin[len(Pin)-1]=Pder\n",
        "N=(L//dx)+2\n",
        "Baccumul=A*dx*por*CompTotal/Beta\n",
        "Transmisibilidad=(K*A/(vis*Beta*dx))*6.33*10**-3\n",
        "B=np.zeros([N-2,N-2])\n",
        "T=np.zeros([N-2,N-2])\n",
        "Transmisibilidad\n"
      ],
      "metadata": {
        "id": "HIRcSVddRgj6",
        "outputId": "838bded0-7e80-4d58-87c4-3cbebfd2a4a6",
        "colab": {
          "base_uri": "https://localhost:8080/"
        }
      },
      "execution_count": null,
      "outputs": [
        {
          "output_type": "execute_result",
          "data": {
            "text/plain": [
              "25.32"
            ]
          },
          "metadata": {},
          "execution_count": 167
        }
      ]
    },
    {
      "cell_type": "code",
      "source": [
        "for i in range(0,N-2):\n",
        "  B[i,i]=Baccumul#matriz diagonal\n",
        "\n",
        "\n",
        "for i in range(0,N-2):\n",
        "  T[i,i]=2*Transmisibilidad#matriz transmisibilidad\n",
        "  if i>0:\n",
        "    T[i,i-1]=-Transmisibilidad #arriba diag matriz\n",
        "  if i<(N-3):\n",
        "    T[i,i+1]=-Transmisibilidad #abajo\n",
        "T[0,0]=3*Transmisibilidad\n",
        "T[N-3,N-3]=Transmisibilidad\n",
        "\n",
        "T"
      ],
      "metadata": {
        "id": "SuXutK7zRjgK",
        "outputId": "c890e6bd-8ced-4183-f7d8-872ae5b4bc12",
        "colab": {
          "base_uri": "https://localhost:8080/"
        }
      },
      "execution_count": null,
      "outputs": [
        {
          "output_type": "execute_result",
          "data": {
            "text/plain": [
              "array([[ 75.96, -25.32,   0.  ,   0.  ],\n",
              "       [-25.32,  50.64, -25.32,   0.  ],\n",
              "       [  0.  , -25.32,  50.64, -25.32],\n",
              "       [  0.  ,   0.  , -25.32,  25.32]])"
            ]
          },
          "metadata": {},
          "execution_count": 168
        }
      ]
    },
    {
      "cell_type": "code",
      "source": [
        "Matriz_resolucion=np.zeros_like(T)\n",
        "Vector_sol=np.zeros_like(Pin[1:-1]) #Ec 3.41\n",
        "Matriz_resolucion=T+(B/DT)\n",
        "Vector_sol=np.matmul(B/DT,Pin[1:-1])\n",
        "#Pres=[]\n",
        "\n",
        "Q=np.zeros_like(Vector_sol)\n",
        "Q[0]=2*Transmisibilidad*Piz  # ec 3.41 unic que cambia con interacciones es el vector P\n",
        "Vector_sol=Vector_sol+Q\n",
        "Vector_sol\n",
        "Transmisibilidad"
      ],
      "metadata": {
        "id": "4vXaoHN1VUaX",
        "outputId": "b142f0ec-c4f6-4118-b0f0-23c3284ea357",
        "colab": {
          "base_uri": "https://localhost:8080/"
        }
      },
      "execution_count": null,
      "outputs": [
        {
          "output_type": "execute_result",
          "data": {
            "text/plain": [
              "25.32"
            ]
          },
          "metadata": {},
          "execution_count": 169
        }
      ]
    },
    {
      "cell_type": "code",
      "source": [
        "Pcal=np.linalg.solve(Matriz_resolucion,Vector_sol)"
      ],
      "metadata": {
        "id": "yDbMhP_cVj2-"
      },
      "execution_count": null,
      "outputs": []
    },
    {
      "cell_type": "code",
      "source": [
        "Pcal"
      ],
      "metadata": {
        "id": "8hEneq85mpsH",
        "outputId": "40e9998e-3f7d-48ec-a9df-c0b7326b5716",
        "colab": {
          "base_uri": "https://localhost:8080/"
        }
      },
      "execution_count": null,
      "outputs": [
        {
          "output_type": "execute_result",
          "data": {
            "text/plain": [
              "array([3409.70741128, 3897.79289447, 3982.21682344, 3996.40703774])"
            ]
          },
          "metadata": {},
          "execution_count": 171
        }
      ]
    },
    {
      "cell_type": "code",
      "source": [
        "Vector_sol"
      ],
      "metadata": {
        "colab": {
          "base_uri": "https://localhost:8080/"
        },
        "id": "GCpISbyUYlP9",
        "outputId": "088d84d5-9675-45cc-8d3b-322bbafe70e4"
      },
      "execution_count": null,
      "outputs": [
        {
          "output_type": "execute_result",
          "data": {
            "text/plain": [
              "array([501280., 400000., 400000., 400000.])"
            ]
          },
          "metadata": {},
          "execution_count": 172
        }
      ]
    },
    {
      "cell_type": "code",
      "source": [
        "Qimplicita[0]=Q #core principal de codigo\n",
        "t=DT\n",
        "while t<Tiempo:\n",
        "  Pcal=np.linalg.solve(Matriz_resolucion,Vector_sol)\n",
        "  Pres=np.concatenate(([Piz],Pcal,[Pder]))\n",
        "  Pimplicita[t//DT]=Pres\n",
        "  Vector_sol=np.matmul(B/DT,Pcal)+Q\n",
        "  Qimplicita[t//DT]=Vector_sol #primer vector Q\n",
        "  t=t+DT"
      ],
      "metadata": {
        "id": "aYKR1trZYmnY"
      },
      "execution_count": null,
      "outputs": []
    },
    {
      "cell_type": "code",
      "source": [],
      "metadata": {
        "id": "kODCV8mJcCGR"
      },
      "execution_count": null,
      "outputs": []
    },
    {
      "cell_type": "code",
      "source": [
        "import matplotlib.pyplot as plt\n",
        "\n",
        "imgplot = plt.imshow(Qimplicita,aspect='auto')\n",
        "plt.colorbar()\n"
      ],
      "metadata": {
        "colab": {
          "base_uri": "https://localhost:8080/",
          "height": 450
        },
        "id": "FMJHvMeVb3SD",
        "outputId": "076d33cb-1927-480e-8f5c-b84bb5afa34d"
      },
      "execution_count": null,
      "outputs": [
        {
          "output_type": "execute_result",
          "data": {
            "text/plain": [
              "<matplotlib.colorbar.Colorbar at 0x7f806f94ab30>"
            ]
          },
          "metadata": {},
          "execution_count": 174
        },
        {
          "output_type": "display_data",
          "data": {
            "text/plain": [
              "<Figure size 640x480 with 2 Axes>"
            ],
            "image/png": "[encoded data removed]"
          },
          "metadata": {}
        }
      ]
    },
    {
      "cell_type": "code",
      "source": [
        "import matplotlib.pyplot as plt\n",
        "\n",
        "imgplot = plt.imshow(Pimplicita,aspect='auto')\n",
        "plt.colorbar()"
      ],
      "metadata": {
        "id": "7w25zkWHb9OF",
        "outputId": "2d249cc4-b312-496e-8937-a34a109656cc",
        "colab": {
          "base_uri": "https://localhost:8080/",
          "height": 450
        }
      },
      "execution_count": null,
      "outputs": [
        {
          "output_type": "execute_result",
          "data": {
            "text/plain": [
              "<matplotlib.colorbar.Colorbar at 0x7f806f822650>"
            ]
          },
          "metadata": {},
          "execution_count": 175
        },
        {
          "output_type": "display_data",
          "data": {
            "text/plain": [
              "<Figure size 640x480 with 2 Axes>"
            ],
            "image/png": "[encoded data removed]"
          },
          "metadata": {}
        }
      ]
    },
    {
      "cell_type": "code",
      "source": [],
      "metadata": {
        "id": "nfkyMK3irTiX"
      },
      "execution_count": null,
      "outputs": []
    }
  ]
}