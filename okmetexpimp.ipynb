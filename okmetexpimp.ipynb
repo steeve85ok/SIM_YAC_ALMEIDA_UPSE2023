{
  "nbformat": 4,
  "nbformat_minor": 0,
  "metadata": {
    "colab": {
      "provenance": [],
      "authorship_tag": "ABX9TyNc1uwabA+Y63jz5mWSRSvA",
      "include_colab_link": true
    },
    "kernelspec": {
      "name": "python3",
      "display_name": "Python 3"
    },
    "language_info": {
      "name": "python"
    }
  },
  "cells": [
    {
      "cell_type": "markdown",
      "metadata": {
        "id": "view-in-github",
        "colab_type": "text"
      },
      "source": [
        "<a href=\"https://colab.research.google.com/github/steeve85ok/SIM_YAC_ALMEIDA_UPSE2023/blob/main/okmetexpimp.ipynb\" target=\"_parent\"><img src=\"https://colab.research.google.com/assets/colab-badge.svg\" alt=\"Open In Colab\"/></a>"
      ]
    },
    {
      "cell_type": "markdown",
      "source": [
        "Solucion Matriz Metodo explicito e implicito"
      ],
      "metadata": {
        "id": "Hi-aVYvvjML9"
      }
    },
    {
      "cell_type": "code",
      "source": [
        "# Revision d metodos explicito e implicito\n",
        "import numpy as np #vector\n",
        "import math"
      ],
      "metadata": {
        "id": "GInbMsMKjWDo"
      },
      "execution_count": null,
      "outputs": []
    },
    {
      "cell_type": "code",
      "source": [
        "L=10000 # longitud de reservorio\n",
        "dx=2500 # separación de nodos\n",
        "Tiempo= 100000 # numero de días (division a dt se tiene numero de iteraciones)\n",
        "DT=1 # intervalo de tiempo en dias\n",
        "K=50 #Permeabilidad MD\n",
        "por=0.2 #Porosidad u\n",
        "vis=1 # viscocidad (centipoise)\n",
        "Beta=1 # factor volumetrico (se asume constante)\n",
        "CompTotal=1**-6 #compresibilidad total psi-1\n",
        "Area=200000 #ft**2 (area del reseervorio)\n",
        "\n"
      ],
      "metadata": {
        "id": "9OKpUBfSkbJp"
      },
      "execution_count": null,
      "outputs": []
    },
    {
      "cell_type": "code",
      "source": [
        "Alpha=K/(vis*por*CompTotal) # da la forma de ecuación difusividad d2p/dx2=(1/alpha)dp/dt, alpha ya no es uno\n",
        "Alpha\n",
        "Eta=Alpha*DT/(dx**2) # para hallar estabilidad varia dx (100 a 2500), DT (100 a 1); oj comp 1**-6  ; si alpha es uno simplemente dx es doble DT\n",
        "Eta"
      ],
      "metadata": {
        "colab": {
          "base_uri": "https://localhost:8080/"
        },
        "id": "HHbpfUKYnmCZ",
        "outputId": "6e9a65be-f0cb-416b-ed46-77d1c677052c"
      },
      "execution_count": null,
      "outputs": [
        {
          "output_type": "execute_result",
          "data": {
            "text/plain": [
              "4e-05"
            ]
          },
          "metadata": {},
          "execution_count": 18
        }
      ]
    },
    {
      "cell_type": "code",
      "source": [
        "#Esquema Explícito Pi(**)n+1=Pi(**)n + alphaDT/dx**2 [Pi-1(**)n - 2Pi(**)n + Pi+1(**)n], considerar Eta=alphaDT/dx2, Estable: Eta menor 0.5\n",
        "def Presdt(P0,P1,P2,Eta): # (funcion esquema eplicito usando Eta en lugar DT y dx)\n",
        "  Pdt=P1+Eta*(P0-2*P1+P2)\n",
        "  return(Pdt)\n",
        "\n",
        "Pexplicita=np.zeros((Tiempo//DT,L//dx)) # matriz que va a guardar todos los resultados. Filas N: Iteraciones, Columnas m: numero de Nodos\n"
      ],
      "metadata": {
        "id": "Hb64WPfpmdyD"
      },
      "execution_count": null,
      "outputs": []
    },
    {
      "cell_type": "code",
      "source": [
        "# Condiciones Iniciales esquema explicito\n",
        "\n",
        "Pyac=1000 # presion de yacimiento psi # se da valores al vector de presiones inciales\n",
        "Piz=2000 # presion frontera izquierda psi\n",
        "Pder=0 # presion frontera derecha psi (todo flow)\n",
        "\n",
        "Pin=np.ones(L//dx) #vector de presiones iniciales (es cantidad de nodos y los datos están en uno)\n",
        "Pres=np.zeros(L//dx) #vector de resultados\n",
        "Pin=Pin*Pyac #valores del vector incial como presion de yacimiento (tiempo=0)\n",
        "#Atribuir valores al vector d condiciones iniciales\n",
        "Pin[0]=Piz #primera celda (0) del vector Pin será Pizquierda (frontera izquierda)\n",
        "Pin[len(Pin)-1]=Pder #ultima celda del vector menos 1 es frontera derecha (en python)\n",
        "\n",
        "Pin"
      ],
      "metadata": {
        "id": "IR7P_Opb-0be"
      },
      "execution_count": null,
      "outputs": []
    },
    {
      "cell_type": "markdown",
      "source": [],
      "metadata": {
        "id": "zwDCag5lNLy_"
      }
    },
    {
      "cell_type": "code",
      "source": [
        "Pexplicita"
      ],
      "metadata": {
        "colab": {
          "base_uri": "https://localhost:8080/"
        },
        "id": "urHH1iQtpJhM",
        "outputId": "a4fb2b90-fb41-4bfd-d715-30f091db47b2"
      },
      "execution_count": null,
      "outputs": [
        {
          "output_type": "execute_result",
          "data": {
            "text/plain": [
              "array([[0., 0., 0., 0.],\n",
              "       [0., 0., 0., 0.],\n",
              "       [0., 0., 0., 0.],\n",
              "       ...,\n",
              "       [0., 0., 0., 0.],\n",
              "       [0., 0., 0., 0.],\n",
              "       [0., 0., 0., 0.]])"
            ]
          },
          "metadata": {},
          "execution_count": 20
        }
      ]
    },
    {
      "cell_type": "code",
      "source": [
        "t=DT\n",
        "Pexplicita.shape\n",
        "while t<Tiempo:                  # Se empieza calculos con ciclo en base al tiempo, llenarán la fila 2,3,...\n",
        "  for i in range(0,len(Pin)-1)  # creacion del ciclo de espacio (columnas: (0)es primer valor, (Pin)-1 es ultimo valor)\n",
        "    if i==0:                    # i==0 representa la posición del nodo en todos los puntos de la frontera izquierda\n",
        "      Pres[i]=Pin[0]            #Pin[0]=Piz definido en condiciones iniciales, (con vector de resultados Pres se llenan  todos los valores de la columna en i =0, frontera izq)\n",
        "    elif i==len(Pin)-1:         # posición de i en frontera derecha\n",
        "      Pres[i]=Pin[len(Pin)-1]   #Pin[len(Pin)-1]=Pder definido en condiciones iniciales, (así se llenan todos los valores de la columna final i = num nodos menos 1, frontera der)\n",
        "    else:                        #en todos los demás puntos  se llamará a la funcion denominada Presdt para las presiones futuras\n",
        "      Press[i]=Presdt()         # triangulo de posicion i, i-1, i+1, con relacion a valores del vector anterior que sería\n"
      ],
      "metadata": {
        "colab": {
          "base_uri": "https://localhost:8080/"
        },
        "id": "Ftymu3rF6KX6",
        "outputId": "3d16f7f8-6c1f-4a65-ef1e-ea4f2b928f41"
      },
      "execution_count": null,
      "outputs": [
        {
          "output_type": "execute_result",
          "data": {
            "text/plain": [
              "(100000, 4)"
            ]
          },
          "metadata": {},
          "execution_count": 21
        }
      ]
    },
    {
      "cell_type": "code",
      "source": [
        "# Esquema Implícito"
      ],
      "metadata": {
        "id": "xyNNaQTom1Wn"
      },
      "execution_count": null,
      "outputs": []
    }
  ]
}