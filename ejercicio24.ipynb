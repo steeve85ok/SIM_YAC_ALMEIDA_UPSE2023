{
  "nbformat": 4,
  "nbformat_minor": 0,
  "metadata": {
    "colab": {
      "provenance": [],
      "authorship_tag": "ABX9TyOLTIzsFzZSTGz0gi8gEh/3",
      "include_colab_link": true
    },
    "kernelspec": {
      "name": "python3",
      "display_name": "Python 3"
    },
    "language_info": {
      "name": "python"
    }
  },
  "cells": [
    {
      "cell_type": "markdown",
      "metadata": {
        "id": "view-in-github",
        "colab_type": "text"
      },
      "source": [
        "<a href=\"https://colab.research.google.com/github/steeve85ok/SIM_YAC_ALMEIDA_UPSE2023/blob/main/ejercicio24.ipynb\" target=\"_parent\"><img src=\"https://colab.research.google.com/assets/colab-badge.svg\" alt=\"Open In Colab\"/></a>"
      ]
    },
    {
      "cell_type": "markdown",
      "source": [
        "26.\tResuelva el siguiente ejercicio implementando un esquema explicito obteniendo distribución de Presiones en PSI y Caudales en Ft^3/Hora"
      ],
      "metadata": {
        "id": "MNIYLwu9VZR0"
      }
    },
    {
      "cell_type": "markdown",
      "source": [
        "![image.png](data:image/png;base64,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)"
      ],
      "metadata": {
        "id": "aViFlciOsMbw"
      }
    },
    {
      "cell_type": "code",
      "source": [
        "import numpy  as np\n",
        "import math"
      ],
      "metadata": {
        "id": "Ww0mTzrBdpJb"
      },
      "execution_count": 12,
      "outputs": []
    },
    {
      "cell_type": "code",
      "source": [
        "L=30000                 #Longitud total del yacimiento ft\n",
        "dx=150                  #espacios entre nodos\n",
        "Tiempo=100000           # tiempo en días es obtenido por (numero de iteraciones * dt= numero de días)\n",
        "DT=10                   # intervalo de tiempo por día\n",
        "K=50                    #Permeabilidad MD\n",
        "por=0.5                 #porosidad\n",
        "vis=1                   # centipoise      #viscosidad\n",
        "Beta=0.7                #factor volumetrico\n",
        "CompTotal=1.2**(-6)     #psi-1 #compresibilidad total\n",
        "A=200000                #ft^2           #area de yacimiento"
      ],
      "metadata": {
        "id": "8qzJbesjeail"
      },
      "execution_count": 13,
      "outputs": []
    },
    {
      "cell_type": "code",
      "source": [
        "\n",
        "Alpha=K/(vis*por*CompTotal)\n",
        "Alpha\n",
        "Eta=(Alpha*DT)/(dx**2) #por lo general eta es < que 0.5 para que el sistema sea estable\n",
        "Eta"
      ],
      "metadata": {
        "id": "4EnxVQ22fu_-",
        "colab": {
          "base_uri": "https://localhost:8080/"
        },
        "outputId": "a7f55a3a-8d6f-44a7-b2a2-ec10d44389d7"
      },
      "execution_count": 14,
      "outputs": [
        {
          "output_type": "execute_result",
          "data": {
            "text/plain": [
              "0.13271039999999995"
            ]
          },
          "metadata": {},
          "execution_count": 14
        }
      ]
    },
    {
      "cell_type": "code",
      "source": [
        "#Esquema Explícito Pi(**)n+1=Pi(**)n + alphaDT/dx**2 [Pi-1(**)n - 2Pi(**)n + Pi+1(**)n], considerar Eta=alphaDT/dx2, Estable: Eta menor 0.5\n",
        "def Presdt(P0,P1,P2,Eta):    # (funcion esquema eplicito usando Eta en lugar DT y dx)\n",
        "  Pdt=P1+Eta*(P0-(2*P1)+P2)\n",
        "  return(Pdt)\n",
        "#corrección de condicion de frontera de dirichlet generalmente se la usa en la frontera izquierda   Pi(**)n+1 = eta(2Pbizq-Pi(**)n) + (1-2eta)Pi(**)n + eta Pi+1(**)n\n",
        "Pexplicita=np.zeros((Tiempo//DT,(L//dx)+2)) #  matriz que va a guardar todos los resultados. Filas N: Iteraciones, Columnas m: numero de Nodos: division long yac para dx = 200 (+2 que son las fronteras)\n"
      ],
      "metadata": {
        "id": "DhLWEEHUhIMi"
      },
      "execution_count": 15,
      "outputs": []
    },
    {
      "cell_type": "code",
      "source": [
        "#Condiciones iniciales esuqema explícito\n",
        "Pyac=2000                 # presion de yacimiento psi # se da valores al vector de presiones inciales\n",
        "Piz=0                     # presion frontera izquierda psi\n",
        "Pder=1000                 # presion frontera derecha psi\n",
        "Pin=np.ones((L//dx)+2)    # vector de presiones iniciales (es cantidad de nodos y los datos están con unos), la corrección de condiciones de frontera es añadir dos nodos uno por extremo, es por esta razon que sumamos 2\n",
        "Pres=np.zeros((L//dx)+2)  # vector de resultados: vector vacio zeros que representa las condiciones iniciales.(cantidad de nodos de la matriz+2) creación de una matriz vacia con las mismas dimensiones de la matriz de donde se guardara todo los resultados\n",
        "Pres2=np.zeros((L//dx)+2) # vector de resultados para la solucion implicita (si fuera necesario)\n",
        "Pin=Pin*Pyac              # valores del vector incial como presion de yacimiento (tiempo=0); definición para obtener las demas celdas de la primera fila de la matriz sin contar los extremos\n",
        "#Atribuir valores al vector d condiciones iniciales\n",
        "Pin[0]=2*Piz-Pin[1]       # primera celda (0) del vector Pin será Presión CORREGIDA  igual a dos veces de la presion de la izquierda menos la presión pinicial de 1\n",
        "Pin[len(Pin)-1]=2*Pder-Pin[len(Pin)-2]    # ultima celda del vector Pin menos 1 en python es presión final CORREGIDA es igual a  a dos veces la presión de la derecha menos la presión de la anterior que seria la longitud  de Pin menos 2\n",
        "\n",
        "Pin\n"
      ],
      "metadata": {
        "id": "kfxB6IfMmU3W",
        "outputId": "e5db868f-16f2-4182-cb8e-2a0f83028cdf",
        "colab": {
          "base_uri": "https://localhost:8080/"
        }
      },
      "execution_count": 20,
      "outputs": [
        {
          "output_type": "execute_result",
          "data": {
            "text/plain": [
              "array([-2000.,  2000.,  2000.,  2000.,  2000.,  2000.,  2000.,  2000.,\n",
              "        2000.,  2000.,  2000.,  2000.,  2000.,  2000.,  2000.,  2000.,\n",
              "        2000.,  2000.,  2000.,  2000.,  2000.,  2000.,  2000.,  2000.,\n",
              "        2000.,  2000.,  2000.,  2000.,  2000.,  2000.,  2000.,  2000.,\n",
              "        2000.,  2000.,  2000.,  2000.,  2000.,  2000.,  2000.,  2000.,\n",
              "        2000.,  2000.,  2000.,  2000.,  2000.,  2000.,  2000.,  2000.,\n",
              "        2000.,  2000.,  2000.,  2000.,  2000.,  2000.,  2000.,  2000.,\n",
              "        2000.,  2000.,  2000.,  2000.,  2000.,  2000.,  2000.,  2000.,\n",
              "        2000.,  2000.,  2000.,  2000.,  2000.,  2000.,  2000.,  2000.,\n",
              "        2000.,  2000.,  2000.,  2000.,  2000.,  2000.,  2000.,  2000.,\n",
              "        2000.,  2000.,  2000.,  2000.,  2000.,  2000.,  2000.,  2000.,\n",
              "        2000.,  2000.,  2000.,  2000.,  2000.,  2000.,  2000.,  2000.,\n",
              "        2000.,  2000.,  2000.,  2000.,  2000.,  2000.,  2000.,  2000.,\n",
              "        2000.,  2000.,  2000.,  2000.,  2000.,  2000.,  2000.,  2000.,\n",
              "        2000.,  2000.,  2000.,  2000.,  2000.,  2000.,  2000.,  2000.,\n",
              "        2000.,  2000.,  2000.,  2000.,  2000.,  2000.,  2000.,  2000.,\n",
              "        2000.,  2000.,  2000.,  2000.,  2000.,  2000.,  2000.,  2000.,\n",
              "        2000.,  2000.,  2000.,  2000.,  2000.,  2000.,  2000.,  2000.,\n",
              "        2000.,  2000.,  2000.,  2000.,  2000.,  2000.,  2000.,  2000.,\n",
              "        2000.,  2000.,  2000.,  2000.,  2000.,  2000.,  2000.,  2000.,\n",
              "        2000.,  2000.,  2000.,  2000.,  2000.,  2000.,  2000.,  2000.,\n",
              "        2000.,  2000.,  2000.,  2000.,  2000.,  2000.,  2000.,  2000.,\n",
              "        2000.,  2000.,  2000.,  2000.,  2000.,  2000.,  2000.,  2000.,\n",
              "        2000.,  2000.,  2000.,  2000.,  2000.,  2000.,  2000.,  2000.,\n",
              "        2000.,  2000.,  2000.,  2000.,  2000.,  2000.,  2000.,  2000.,\n",
              "        2000.,     0.])"
            ]
          },
          "metadata": {},
          "execution_count": 20
        }
      ]
    },
    {
      "cell_type": "code",
      "source": [
        "Pin.shape # matriz de 200 nodos mas 2; division long yac para dx = 200 (+2 que son las fronteras)"
      ],
      "metadata": {
        "id": "VGB6sOXkyOtK",
        "outputId": "948e6818-9c7b-42ce-fa6d-6523ebd284f8",
        "colab": {
          "base_uri": "https://localhost:8080/"
        }
      },
      "execution_count": 24,
      "outputs": [
        {
          "output_type": "execute_result",
          "data": {
            "text/plain": [
              "(202,)"
            ]
          },
          "metadata": {},
          "execution_count": 24
        }
      ]
    },
    {
      "cell_type": "code",
      "source": [
        "Pin[0] # Orden de ubcaciones de pyton:valor de la primera celda (primera fila y primera columna); representa la correccion de la frontera izquierda"
      ],
      "metadata": {
        "id": "mo_3unaayVz4",
        "outputId": "4c871947-c4cd-451d-c06c-6e04c8649a08",
        "colab": {
          "base_uri": "https://localhost:8080/"
        }
      },
      "execution_count": 25,
      "outputs": [
        {
          "output_type": "execute_result",
          "data": {
            "text/plain": [
              "-2000.0"
            ]
          },
          "metadata": {},
          "execution_count": 25
        }
      ]
    },
    {
      "cell_type": "code",
      "source": [
        "Pin[len(Pin)-1] # Orden de ubcaciones de pyton: valor de la ultima celda (primera fila y última columna y ); representa la correccion de la frontera izquierda"
      ],
      "metadata": {
        "id": "HDTpv87bxRUw",
        "outputId": "66395e00-5cc5-47fc-8799-387269df115f",
        "colab": {
          "base_uri": "https://localhost:8080/"
        }
      },
      "execution_count": 18,
      "outputs": [
        {
          "output_type": "execute_result",
          "data": {
            "text/plain": [
              "0.0"
            ]
          },
          "metadata": {},
          "execution_count": 18
        }
      ]
    }
  ]
}