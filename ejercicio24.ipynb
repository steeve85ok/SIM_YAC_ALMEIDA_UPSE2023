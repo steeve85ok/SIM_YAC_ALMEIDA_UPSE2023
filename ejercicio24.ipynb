{
  "nbformat": 4,
  "nbformat_minor": 0,
  "metadata": {
    "colab": {
      "provenance": [],
      "authorship_tag": "ABX9TyN38nR8Em52z0++mCcXF4WM",
      "include_colab_link": true
    },
    "kernelspec": {
      "name": "python3",
      "display_name": "Python 3"
    },
    "language_info": {
      "name": "python"
    }
  },
  "cells": [
    {
      "cell_type": "markdown",
      "metadata": {
        "id": "view-in-github",
        "colab_type": "text"
      },
      "source": [
        "<a href=\"https://colab.research.google.com/github/steeve85ok/SIM_YAC_ALMEIDA_UPSE2023/blob/main/ejercicio24.ipynb\" target=\"_parent\"><img src=\"https://colab.research.google.com/assets/colab-badge.svg\" alt=\"Open In Colab\"/></a>"
      ]
    },
    {
      "cell_type": "markdown",
      "source": [
        "24.\tResuelva el siguiente ejercicio implementando un esquema explicito obteniendo distribución de Presiones en PSI y Caudales en Ft^3/Hora"
      ],
      "metadata": {
        "id": "MNIYLwu9VZR0"
      }
    },
    {
      "cell_type": "markdown",
      "source": [
        "![image.png](data:image/png;base64,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)"
      ],
      "metadata": {
        "id": "DBrFOUKSdxeV"
      }
    },
    {
      "cell_type": "code",
      "source": [
        "import numpy  as np\n",
        "import math"
      ],
      "metadata": {
        "id": "Ww0mTzrBdpJb"
      },
      "execution_count": 1,
      "outputs": []
    },
    {
      "cell_type": "code",
      "source": [
        "L=30000                 #Longitud total del yacimiento ft\n",
        "dx=150                  #espacios entre nodos\n",
        "Tiempo=100000           # tiempo en días es obtenido por (numero de iteraciones * dt= numero de días)\n",
        "DT=10                   # intervalo de tiempo por día\n",
        "K=50                    #Permeabilidad MD\n",
        "por=0.5                 #porosidad\n",
        "vis=1                   # centipoise      #viscosidad\n",
        "Beta=0.7                #factor volumetrico\n",
        "CompTotal=1.2**(-6)     #psi-1 #compresibilidad total\n",
        "A=200000                #ft^2           #area de yacimiento"
      ],
      "metadata": {
        "id": "8qzJbesjeail"
      },
      "execution_count": 2,
      "outputs": []
    },
    {
      "cell_type": "code",
      "source": [
        "\n",
        "Alpha=K/(vis*por*CompTotal)\n",
        "Alpha\n",
        "Eta=(Alpha*DT)/(dx**2) #por lo general eta es < que 0.5 para que el sistema sea estable\n",
        "Eta"
      ],
      "metadata": {
        "id": "4EnxVQ22fu_-",
        "colab": {
          "base_uri": "https://localhost:8080/"
        },
        "outputId": "848257d3-d9de-4918-b49e-efbb31216e9c"
      },
      "execution_count": 4,
      "outputs": [
        {
          "output_type": "execute_result",
          "data": {
            "text/plain": [
              "0.13271039999999995"
            ]
          },
          "metadata": {},
          "execution_count": 4
        }
      ]
    },
    {
      "cell_type": "code",
      "source": [
        "#Esquema Explícito Pi(**)n+1=Pi(**)n + alphaDT/dx**2 [Pi-1(**)n - 2Pi(**)n + Pi+1(**)n], considerar Eta=alphaDT/dx2, Estable: Eta menor 0.5\n",
        "def Presdt(P0,P1,P2,Eta):    # (funcion esquema eplicito usando Eta en lugar DT y dx)\n",
        "  Pdt=P1+Eta*(P0-(2*P1)+P2)\n",
        "  return(Pdt)\n",
        "#corrección de condicion de frontera de dirichlet generalmente se la usa en la frontera izquierda   Pi(**)n+1 = eta(2Pbizq-Pi(**)n) + (1-2eta)Pi(**)n + eta Pi+1(**)n\n",
        "Pexplicita=np.zeros((Tiempo//DT,(L//dx)+2)) #  matriz que va a guardar todos los resultados. Filas N: Iteraciones, Columnas m: numero de Nodos (+2 que son las fronteras)\n"
      ],
      "metadata": {
        "id": "DhLWEEHUhIMi"
      },
      "execution_count": null,
      "outputs": []
    },
    {
      "cell_type": "code",
      "source": [
        "#Condiciones iniciales\n",
        "Pyac=2000                 # presion de yacimiento\n",
        "Piz=0                  #presion frontera izquierda psi\n",
        "Pder=1000                   # presion frontera derecha psi\n",
        "Pin=np.ones((L//dx)+2)    # la corrección de condiciones de frontera es añadir dos nodos uno por extremo, es por esta razon que sumamos 2\n",
        "Pres=np.zeros((L//dx)+2)  # vector vacio zeros que representa las condiciones iniciales.(cantidad de nodos de la matriz+2) creación de una matriz vacia con las mismas dimensiones de la matriz de donde se guardara todo los resultados\n",
        "Pres2=np.zeros((L//dx)+2)\n",
        "Pin=Pin*Pyac              ## definición para obtener las demas celdas de la primera colulmna de la matriz sin contar los extremos\n",
        "Pin[0]=2*Piz-Pin[1]       # Presión0 corregida esigual a dos veces de la presion de la izquierda menos la presión pinicial de 1\n",
        "Pin[len(Pin)-1]=2*Pder-Pin[len(Pin)-2] #presión final es igual a  a dos veces la presión de la derecha menos la presión de la anterior que seria la longitud  de Pin menos 2\n",
        "\n",
        "Pin.shape"
      ],
      "metadata": {
        "id": "kfxB6IfMmU3W"
      },
      "execution_count": null,
      "outputs": []
    }
  ]
}