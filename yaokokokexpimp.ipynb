{
  "nbformat": 4,
  "nbformat_minor": 0,
  "metadata": {
    "colab": {
      "provenance": [],
      "authorship_tag": "ABX9TyPcFRliRgIVNqF//GfmF7B7",
      "include_colab_link": true
    },
    "kernelspec": {
      "name": "python3",
      "display_name": "Python 3"
    },
    "language_info": {
      "name": "python"
    }
  },
  "cells": [
    {
      "cell_type": "markdown",
      "metadata": {
        "id": "view-in-github",
        "colab_type": "text"
      },
      "source": [
        "<a href=\"https://colab.research.google.com/github/steeve85ok/SIM_YAC_ALMEIDA_UPSE2023/blob/main/yaokokokexpimp.ipynb\" target=\"_parent\"><img src=\"https://colab.research.google.com/assets/colab-badge.svg\" alt=\"Open In Colab\"/></a>"
      ]
    },
    {
      "cell_type": "markdown",
      "source": [
        "Solucion Matriz Metodo explicito e implicito"
      ],
      "metadata": {
        "id": "Hi-aVYvvjML9"
      }
    },
    {
      "cell_type": "code",
      "source": [
        "# Revision d metodos explicito e implicito\n",
        "import numpy as np #vector\n",
        "import math"
      ],
      "metadata": {
        "id": "GInbMsMKjWDo"
      },
      "execution_count": null,
      "outputs": []
    },
    {
      "cell_type": "code",
      "source": [
        "L=10000 # longitud de reservorio\n",
        "dx=2500 # separación de nodos\n",
        "Tiempo= 100000 # numero de días (division a dt se tiene numero de iteraciones)\n",
        "DT=1 # intervalo de tiempo en dias\n",
        "K=50 #Permeabilidad MD\n",
        "por=0.2 #Porosidad u\n",
        "vis=1 # viscocidad (centipoise)\n",
        "Beta=1 # factor volumetrico (se asume constante)\n",
        "CompTotal=1**-6 #compresibilidad total psi-1\n",
        "Area=200000 #ft**2 (area del reseervorio)\n",
        "\n"
      ],
      "metadata": {
        "id": "9OKpUBfSkbJp"
      },
      "execution_count": null,
      "outputs": []
    },
    {
      "cell_type": "code",
      "source": [
        "Alpha=K/(vis*por*CompTotal) # da la forma de ecuación difusividad d2p/dx2=(1/alpha)dp/dt, alpha ya no es uno\n",
        "Alpha\n",
        "Eta=Alpha*DT/(dx**2) # para hallar estabilidad varia dx (100 a 2500), DT (100 a 1); oj comp 1**-6  ; si alpha es uno simplemente dx es doble DT\n",
        "Eta"
      ],
      "metadata": {
        "colab": {
          "base_uri": "https://localhost:8080/"
        },
        "id": "HHbpfUKYnmCZ",
        "outputId": "097c20cf-5e9c-4795-b995-5f09b07144da"
      },
      "execution_count": null,
      "outputs": [
        {
          "output_type": "execute_result",
          "data": {
            "text/plain": [
              "4e-05"
            ]
          },
          "metadata": {},
          "execution_count": 4
        }
      ]
    },
    {
      "cell_type": "code",
      "source": [
        "#Esquema Explícito Pi(**)n+1=Pi(**)n + alphaDT/dx**2 [Pi-1(**)n - 2Pi(**)n + Pi+1(**)n], considerar Eta=alphaDT/dx2, Estable: Eta menor 0.5\n",
        "def Presdt(P0,P1,P2,Eta): # (funcion esquema eplicito usando Eta en lugar DT y dx)\n",
        "  Pdt=P1+Eta*(P0-2*P1+P2)\n",
        "  return(Pdt)\n",
        "\n",
        "Pexplicita=np.zeros((Tiempo//DT,L//dx)) # matriz que va a guardar todos los resultados. Filas N: Iteraciones, Columnas m: numero de Nodos\n"
      ],
      "metadata": {
        "id": "Hb64WPfpmdyD"
      },
      "execution_count": null,
      "outputs": []
    },
    {
      "cell_type": "code",
      "source": [
        "# Condiciones Iniciales esquema explicito\n",
        "\n",
        "Pyac=1000 # presion de yacimiento psi # se da valores al vector de presiones inciales\n",
        "Piz=2000 # presion frontera izquierda psi\n",
        "Pder=0 # presion frontera derecha psi (todo flow)\n",
        "\n",
        "Pin=np.ones(L//dx) #vector de presiones iniciales (es cantidad de nodos y los datos están con unos)\n",
        "Pres=np.zeros(L//dx) #vector de resultados\n",
        "Pin=Pin*Pyac #valores del vector incial como presion de yacimiento (tiempo=0)\n",
        "#Atribuir valores al vector d condiciones iniciales\n",
        "Pin[0]=Piz #primera celda (0) del vector Pin será Pizquierda (frontera izquierda)\n",
        "Pin[len(Pin)-1]=Pder #ultima celda del vector menos 1 es frontera derecha (en python)\n",
        "\n",
        "Pin"
      ],
      "metadata": {
        "id": "IR7P_Opb-0be",
        "outputId": "1725c196-c1e9-48e2-d3a1-a08342063c05",
        "colab": {
          "base_uri": "https://localhost:8080/"
        }
      },
      "execution_count": null,
      "outputs": [
        {
          "output_type": "execute_result",
          "data": {
            "text/plain": [
              "array([2000., 1000., 1000.,    0.])"
            ]
          },
          "metadata": {},
          "execution_count": 6
        }
      ]
    },
    {
      "cell_type": "code",
      "source": [
        "Pin[len(Pin)-1]"
      ],
      "metadata": {
        "id": "sOEpgwvCd4Yb",
        "outputId": "6fa3de98-9e3c-4684-f998-a404e3fcd277",
        "colab": {
          "base_uri": "https://localhost:8080/"
        }
      },
      "execution_count": null,
      "outputs": [
        {
          "output_type": "execute_result",
          "data": {
            "text/plain": [
              "0.0"
            ]
          },
          "metadata": {},
          "execution_count": 7
        }
      ]
    },
    {
      "cell_type": "code",
      "source": [
        "t=DT\n",
        "Pexplicita[0]=Pin           # en la matriz Pexplicita, la presion de la primera fila será la presión incial\n",
        "while t<Tiempo:                  # Se empieza calculos con ciclo en base al tiempo, llenarán la fila 2,3,... (se tendran resultados con una iteracion menos)\n",
        "  for i in range(0,len(Pin)-1):  # creacion del ciclo de espacio (columnas: (0)es primer valor, (Pin)-1 es ultimo valor)\n",
        "    if i==0:                    # i==0 representa la posición del nodo en todos los puntos de la frontera izquierda\n",
        "      Pres[i]=Pin[0]            #Pin[i]=Piz definido en condiciones iniciales, (con vector de resultados Pres se llenan  todos los valores de la columna en i =0, frontera izq)\n",
        "    elif i==len(Pin)-1:         # posición de i en frontera derecha\n",
        "      Pres[i]=Pin[len(Pin)-1]   #Pin[len(Pin)-1]=Pder definido en condiciones iniciales, (así se llenan todos los valores de la columna final i = num nodos menos 1, frontera der)\n",
        "    else:                       # en todos los demás puntos  se llamará a la funcion denominada Presdt para las presiones futuras\n",
        "      Pres[i]=Presdt(Pin[i-1],Pin[i],Pin[i+1],Eta)  # triangulo de posicion i, i-1, i+1, con relacion a valores del vector anterior que sería la presion de i-1, presion de i, presion de i+1; factor Eta (dif a 1); con i da cambio nodo por nodo\n",
        "  Pexplicita[t//DT]=Pres         # Pres vector pone valores en la siguiente fila de la matriz (sale del condicional)\n",
        "  t=t+DT                        # siguiente ciclo\n",
        "  Pin=Pres                      # vector inicial recopila al vector de resultads anterior, y llena los triangulos sucesivamente"
      ],
      "metadata": {
        "id": "Ftymu3rF6KX6"
      },
      "execution_count": null,
      "outputs": []
    },
    {
      "cell_type": "code",
      "source": [
        "Pexplicita                    # Resultados de la matriz seteada"
      ],
      "metadata": {
        "id": "nA9X5uq5f9go",
        "outputId": "9c8cb7ed-6ce2-4408-8649-49491c52833e",
        "colab": {
          "base_uri": "https://localhost:8080/"
        }
      },
      "execution_count": null,
      "outputs": [
        {
          "output_type": "execute_result",
          "data": {
            "text/plain": [
              "array([[2000.        , 1000.        , 1000.        ,    0.        ],\n",
              "       [2000.        , 1000.04      ,  999.96      ,    0.        ],\n",
              "       [2000.        , 1000.0799952 ,  999.9200064 ,    0.        ],\n",
              "       ...,\n",
              "       [2000.        , 1333.33146859,  666.66889757,    0.        ],\n",
              "       [2000.        , 1333.33146883,  666.66889732,    0.        ],\n",
              "       [2000.        , 1333.33146907,  666.66889706,    0.        ]])"
            ]
          },
          "metadata": {},
          "execution_count": 9
        }
      ]
    },
    {
      "cell_type": "code",
      "source": [
        "Pexplicita.shape"
      ],
      "metadata": {
        "id": "VuPe2IcWhp8w",
        "outputId": "259b8bf9-d3cc-4357-bc96-1964bedcee58",
        "colab": {
          "base_uri": "https://localhost:8080/"
        }
      },
      "execution_count": null,
      "outputs": [
        {
          "output_type": "execute_result",
          "data": {
            "text/plain": [
              "(100000, 4)"
            ]
          },
          "metadata": {},
          "execution_count": 10
        }
      ]
    },
    {
      "cell_type": "code",
      "source": [
        "# Esquema Implícito"
      ],
      "metadata": {
        "id": "mQFENiYkl3UK"
      },
      "execution_count": null,
      "outputs": []
    },
    {
      "cell_type": "code",
      "source": [
        "# Solucion explicita con sistema de ecuaciones 1:41 del video\n",
        "# Matriz tridiagonal - Eta, 1+2Eta, -Eta\n",
        "# Matriz cuadrada NxN,  Tamaño depende de numero de triangulos, cada uno es ecuacion, num incogn es num ecuaciones, lineal\n",
        "# num ecuaciones N = #nodos-2\n",
        "# indices i,J de matriz, diagonal si i=J valor numérico del término es 1+2Eta\n",
        "# índice J-1 ó J+1 corresponden a valor numérico -Eta\n"
      ],
      "metadata": {
        "id": "Kkdfe_KTiW7Y"
      },
      "execution_count": null,
      "outputs": []
    },
    {
      "cell_type": "code",
      "source": [
        "Pimplicita= np.zeros((Tiempo//DT,L//dx))    #  matriz implicita de rsutados (diferente a matriz donde se resolvera las presiones futura o Matriz de resolucion)\n",
        "Pin=np.ones(L//dx) #vector de presiones iniciales (es cantidad de nodos)\n",
        "Pres=np.zeros(L//dx) #vector de resultados de ceros\n",
        "Pin=Pin*Pyac #valores del vector incial como presion de yacimiento (tiempo=0)\n",
        "Pin[0]=Piz # #Atribuir valores al vector d condiciones iniciales, primera celda (0) del vector Pin será Pizquierda (frontera izquierda)\n",
        "Pin[len(Pin)-1]=Pder\n",
        "N=L//dx   # Numero de nodos= long yac / dx\n",
        "Matriz_resolucion=np.zeros([N-2,N-2]) # matriz que resolvera el sistema de ecuaciones, dimensiones N-2, N-2, cuadrada, tiene 2 nodos menos q la matriz de resultados Pimplicita\n"
      ],
      "metadata": {
        "id": "UGJmPqcDj6LZ"
      },
      "execution_count": null,
      "outputs": []
    },
    {
      "cell_type": "code",
      "source": [
        "for i in range(N-2):              # para Llenar valores de matriz de resultados Pimplicita se apoya de la matrz de resolucion. Pyton reconoce con indice 0 a frontera izq y der (primera y ult columna), en la matriz Pimplicita\n",
        "  Matriz_resolucion[i,i]=1+2*Eta  # Matriz de resolucion sst ecuaciones.-seteos de valores de diagonal versus asignacion de indices [i,i], filas igual a columnas. En Pyton, primera fila matriz resolucion tiene indice cero\n",
        "  if i>0:                          # Matriz de resolucion.-Pyton segunda fila, lado izquierdo de la diagonal i=1 (por debajo); el valor nuerico es -Eta\n",
        "    Matriz_resolucion[i,i-1]=-Eta\n",
        "  if i<(N-3):                     # Matriz de resolucion N-2 x N-2.- por encima de la diagonal  en N-3 (Pyton) el valor nuerico es -Eta (ver 2h15 min video)\n",
        "    Matriz_resolucion[i,i+1]=-Eta\n",
        ""
      ],
      "metadata": {
        "id": "xyNNaQTom1Wn"
      },
      "execution_count": null,
      "outputs": []
    },
    {
      "cell_type": "code",
      "source": [
        "# Resolucion de sistema ecuaciones matriciales en Pyton A.Pexp(n+1)= Poexp(n) ver video 2h30\n"
      ],
      "metadata": {
        "id": "IN_lbAZKsjLA"
      },
      "execution_count": null,
      "outputs": []
    }
  ]
}