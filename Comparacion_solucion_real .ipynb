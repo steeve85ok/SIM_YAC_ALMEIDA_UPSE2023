{
  "nbformat": 4,
  "nbformat_minor": 0,
  "metadata": {
    "colab": {
      "provenance": [],
      "include_colab_link": true
    },
    "kernelspec": {
      "name": "python3",
      "display_name": "Python 3"
    },
    "language_info": {
      "name": "python"
    }
  },
  "cells": [
    {
      "cell_type": "markdown",
      "metadata": {
        "id": "view-in-github",
        "colab_type": "text"
      },
      "source": [
        "<a href=\"https://colab.research.google.com/github/steeve85ok/SIM_YAC_ALMEIDA_UPSE2023/blob/main/Comparacion_solucion_real%20.ipynb\" target=\"_parent\"><img src=\"https://colab.research.google.com/assets/colab-badge.svg\" alt=\"Open In Colab\"/></a>"
      ]
    },
    {
      "cell_type": "code",
      "execution_count": null,
      "metadata": {
        "colab": {
          "base_uri": "https://localhost:8080/"
        },
        "id": "j7B6KltRIAGF",
        "outputId": "ade923fd-2257-4059-cee9-2c4ee4716307"
      },
      "outputs": [
        {
          "output_type": "stream",
          "name": "stdout",
          "text": [
            "[1 1 1 1 1 1 1 1 1 1 1 1 1 1 1 1 1 1 1 1 1]\n"
          ]
        }
      ],
      "source": [
        "# Simulador ecuacion de la difusividad \n",
        "import numpy as np\n",
        "import math\n",
        "L=1000 #distancia total \n",
        "dx=50 #delta x\n",
        "Distance=np.arange(0,L+1,dx) #Crear un vector de las distancias\n",
        "P01=np.ones_like(Distance) #Vector inical de Presiones \n",
        "print(P01)\n"
      ]
    },
    {
      "cell_type": "code",
      "source": [
        "PYac=1000\n",
        "PFrontd=0 #Frontera derecha\n",
        "PFronti=0 #Frontera izquierda\n",
        "Tiempo=400000\n",
        "DT=1000\n",
        "VectorTiempo=np.arange(0,math.floor(Tiempo/DT)*DT,DT)\n",
        "PXX=np.zeros((math.floor(Tiempo/DT),len(Distance)))\n",
        "Pdt=np.zeros_like(Distance)"
      ],
      "metadata": {
        "id": "gRHSrE7yIWtQ"
      },
      "execution_count": null,
      "outputs": []
    },
    {
      "cell_type": "code",
      "source": [
        "PXX=np.zeros((math.floor(Tiempo/DT),len(Distance)))\n",
        "print(PXX)"
      ],
      "metadata": {
        "colab": {
          "base_uri": "https://localhost:8080/"
        },
        "id": "vtxejXk5W9e3",
        "outputId": "6278851a-8b72-47a8-adc6-c725c273587b"
      },
      "execution_count": null,
      "outputs": [
        {
          "output_type": "stream",
          "name": "stdout",
          "text": [
            "[[0. 0. 0. ... 0. 0. 0.]\n",
            " [0. 0. 0. ... 0. 0. 0.]\n",
            " [0. 0. 0. ... 0. 0. 0.]\n",
            " ...\n",
            " [0. 0. 0. ... 0. 0. 0.]\n",
            " [0. 0. 0. ... 0. 0. 0.]\n",
            " [0. 0. 0. ... 0. 0. 0.]]\n"
          ]
        }
      ]
    },
    {
      "cell_type": "code",
      "source": [
        "P01"
      ],
      "metadata": {
        "colab": {
          "base_uri": "https://localhost:8080/"
        },
        "id": "vbt8Ovav9GuN",
        "outputId": "435dcada-d355-437d-9314-bc2fc70364f0"
      },
      "execution_count": null,
      "outputs": [
        {
          "output_type": "execute_result",
          "data": {
            "text/plain": [
              "array([1, 1, 1, 1, 1, 1, 1, 1, 1, 1, 1, 1, 1, 1, 1, 1, 1, 1, 1, 1, 1])"
            ]
          },
          "metadata": {},
          "execution_count": 355
        }
      ]
    },
    {
      "cell_type": "code",
      "source": [
        "\n",
        "P01=PYac*np.sin(math.pi*Distance/L)\n",
        "P01[0]=PFronti\n",
        "P01[len(P01)-1]=PFrontd\n",
        "P0in=P01 #Condicion inicial \n",
        "Pdt=P01 #Vector de resultados dt\n",
        "t=DT #primera interaccion"
      ],
      "metadata": {
        "id": "X3e55AnkIo8J"
      },
      "execution_count": null,
      "outputs": []
    },
    {
      "cell_type": "code",
      "source": [
        "P0in\n"
      ],
      "metadata": {
        "colab": {
          "base_uri": "https://localhost:8080/"
        },
        "id": "0apZTPQSI0ip",
        "outputId": "fe38eb7f-2a58-4ee7-c11a-b24d244efe75"
      },
      "execution_count": null,
      "outputs": [
        {
          "output_type": "execute_result",
          "data": {
            "text/plain": [
              "array([   0.        ,  156.43446504,  309.01699437,  453.99049974,\n",
              "        587.78525229,  707.10678119,  809.01699437,  891.00652419,\n",
              "        951.0565163 ,  987.6883406 , 1000.        ,  987.6883406 ,\n",
              "        951.0565163 ,  891.00652419,  809.01699437,  707.10678119,\n",
              "        587.78525229,  453.99049974,  309.01699437,  156.43446504,\n",
              "          0.        ])"
            ]
          },
          "metadata": {},
          "execution_count": 357
        }
      ]
    },
    {
      "cell_type": "code",
      "source": [
        "Preal=np.ones_like(PXX)\n",
        "Preal.shape\n",
        "P0in.shape"
      ],
      "metadata": {
        "colab": {
          "base_uri": "https://localhost:8080/"
        },
        "id": "g6KyXLy8JZ2l",
        "outputId": "40550bfe-ccd2-4e8c-f1f2-5c4051019bd1"
      },
      "execution_count": null,
      "outputs": [
        {
          "output_type": "execute_result",
          "data": {
            "text/plain": [
              "(21,)"
            ]
          },
          "metadata": {},
          "execution_count": 361
        }
      ]
    },
    {
      "cell_type": "code",
      "source": [
        "Preal.shape[1]"
      ],
      "metadata": {
        "colab": {
          "base_uri": "https://localhost:8080/"
        },
        "id": "jEC2tNuJwD28",
        "outputId": "ae477be7-b97d-4a6d-8cd7-9325c842383e"
      },
      "execution_count": null,
      "outputs": [
        {
          "output_type": "execute_result",
          "data": {
            "text/plain": [
              "21"
            ]
          },
          "metadata": {},
          "execution_count": 362
        }
      ]
    },
    {
      "cell_type": "code",
      "source": [
        "#Calculo real\n",
        "from mpmath import mp\n",
        "def Prealsum2(alpha,t,x,L,Pini):\n",
        "  sumpexc=0\n",
        "  Pexct=Pini*np.sin(math.pi*x/L)*mp.exp(-(alpha**2*math.pi**2)*t/(L**2))\n",
        "  return Pexct"
      ],
      "metadata": {
        "id": "JNDtdh5H6jDQ"
      },
      "execution_count": null,
      "outputs": []
    },
    {
      "cell_type": "code",
      "source": [
        "Pexct=Prealsum2(1,10,500,1000,1000)\n",
        "print(Pexct)"
      ],
      "metadata": {
        "colab": {
          "base_uri": "https://localhost:8080/"
        },
        "id": "GGG_TAPPauZ2",
        "outputId": "87390b30-46f5-4b51-c82c-0646e44acd4e"
      },
      "execution_count": null,
      "outputs": [
        {
          "output_type": "stream",
          "name": "stdout",
          "text": [
            "999.901308826284\n"
          ]
        }
      ]
    },
    {
      "cell_type": "code",
      "source": [
        "\n",
        "\n"
      ],
      "metadata": {
        "id": "zV1MoJrEYrVV"
      },
      "execution_count": null,
      "outputs": []
    },
    {
      "cell_type": "code",
      "source": [],
      "metadata": {
        "id": "awM2rhtD9WPN"
      },
      "execution_count": null,
      "outputs": []
    },
    {
      "cell_type": "code",
      "source": [
        "# Ecuacion de la difusividad solucion Real \n",
        "Preal=np.ones_like(PXX)\n",
        "Preal[0]=P0in\n",
        "for j in range(0,Preal.shape[0]-1):\n",
        "  for i in range(0,Preal.shape[1]-1):\n",
        "      if i==0:\n",
        "        Preal[j][i]=P0in[0]\n",
        "      elif i==Preal.shape[1]-1:\n",
        "        Preal[j][i]=P0in[Preal.shape[1]-1]\n",
        "      else:\n",
        "        k=1\n",
        "        Preal[j][i]=Prealsum2(1,(j+1)*DT,(i+1)*dx,L,1000)\n"
      ],
      "metadata": {
        "id": "-v6Mx4d7fN9u"
      },
      "execution_count": null,
      "outputs": []
    },
    {
      "cell_type": "code",
      "source": [
        "# Ecuacion de la difusividad solucion Real \n",
        "Preal[0]"
      ],
      "metadata": {
        "colab": {
          "base_uri": "https://localhost:8080/"
        },
        "id": "fuvdUCpZwnvN",
        "outputId": "009453e0-e464-43db-a475-9502a56844b5"
      },
      "execution_count": null,
      "outputs": [
        {
          "output_type": "execute_result",
          "data": {
            "text/plain": [
              "array([0.00000000e+00, 3.05982120e+02, 4.49531832e+02, 5.82012578e+02,\n",
              "       7.00162243e+02, 8.01071590e+02, 8.82255896e+02, 9.41716133e+02,\n",
              "       9.77988194e+02, 9.90178940e+02, 9.77988194e+02, 9.41716133e+02,\n",
              "       8.82255896e+02, 8.01071590e+02, 7.00162243e+02, 5.82012578e+02,\n",
              "       4.49531832e+02, 3.05982120e+02, 1.54898113e+02, 1.21261947e-13,\n",
              "       0.00000000e+00])"
            ]
          },
          "metadata": {},
          "execution_count": 366
        }
      ]
    },
    {
      "cell_type": "code",
      "source": [
        "def Presdt(P1,P2,P3,deltat,deltax):\n",
        "  return(((round(P1,7)-2*round(P2,7)+round(P3,7))/(deltax*deltax))*deltat)+round(P2,7) \n"
      ],
      "metadata": {
        "id": "h1CFqMipI2aN"
      },
      "execution_count": null,
      "outputs": []
    },
    {
      "cell_type": "code",
      "source": [
        "PXX[0]=P01\n",
        "P0in=P01"
      ],
      "metadata": {
        "id": "Up_s1Mv8GTi5"
      },
      "execution_count": null,
      "outputs": []
    },
    {
      "cell_type": "code",
      "source": [
        "\n",
        "while t<Tiempo:\n",
        "    for i in range(0,len(P0in)-1):\n",
        "      if i==0:\n",
        "        Pdt[i]=P0in[0]\n",
        "      elif i==len(P0in)-1:\n",
        "        Pdt[i]=P0in[len(P0in)-1]\n",
        "      else:\n",
        "        Pdt[i]=Presdt(P0in[i-1],P0in[i],P0in[i+1],DT,dx)\n",
        "    PXX[math.floor(t/DT)]=Pdt\n",
        "    t=t+DT\n",
        "    P0in=Pdt\n",
        "   \n"
      ],
      "metadata": {
        "id": "gjh5A9G-K_zi"
      },
      "execution_count": null,
      "outputs": []
    },
    {
      "cell_type": "code",
      "source": [
        "PXX\n"
      ],
      "metadata": {
        "colab": {
          "base_uri": "https://localhost:8080/"
        },
        "id": "VvpjLU0wLxRi",
        "outputId": "b2402778-0e6b-4535-edd0-65a7e8042698"
      },
      "execution_count": null,
      "outputs": [
        {
          "output_type": "execute_result",
          "data": {
            "text/plain": [
              "array([[0.00000000e+00, 1.56434465e+02, 3.09016994e+02, ...,\n",
              "        3.09016994e+02, 1.56434465e+02, 0.00000000e+00],\n",
              "       [0.00000000e+00, 1.54893691e+02, 3.05357075e+02, ...,\n",
              "        3.02454052e+02, 1.52268514e+02, 0.00000000e+00],\n",
              "       [0.00000000e+00, 1.53121568e+02, 3.01542055e+02, ...,\n",
              "        2.96021507e+02, 1.48862306e+02, 0.00000000e+00],\n",
              "       ...,\n",
              "       [0.00000000e+00, 2.45378580e-01, 4.80742180e-01, ...,\n",
              "        4.21427220e-01, 2.11591540e-01, 0.00000000e+00],\n",
              "       [0.00000000e+00, 2.41372600e-01, 4.72893720e-01, ...,\n",
              "        4.14547080e-01, 2.08137140e-01, 0.00000000e+00],\n",
              "       [0.00000000e+00, 2.37432000e-01, 4.65173340e-01, ...,\n",
              "        4.07779260e-01, 2.04739140e-01, 0.00000000e+00]])"
            ]
          },
          "metadata": {},
          "execution_count": 370
        }
      ]
    },
    {
      "cell_type": "code",
      "source": [
        "PXX.shape\n"
      ],
      "metadata": {
        "id": "8h2isKLCNGaU",
        "colab": {
          "base_uri": "https://localhost:8080/"
        },
        "outputId": "e11c5b85-4653-4df1-e3a0-de2d176a6591"
      },
      "execution_count": null,
      "outputs": [
        {
          "output_type": "execute_result",
          "data": {
            "text/plain": [
              "(400, 21)"
            ]
          },
          "metadata": {},
          "execution_count": 371
        }
      ]
    },
    {
      "cell_type": "code",
      "source": [
        "Distance.shape"
      ],
      "metadata": {
        "colab": {
          "base_uri": "https://localhost:8080/"
        },
        "id": "jZTIS5p4bvFp",
        "outputId": "062b4584-172c-458f-c9a3-f233c2fc1601"
      },
      "execution_count": null,
      "outputs": [
        {
          "output_type": "execute_result",
          "data": {
            "text/plain": [
              "(21,)"
            ]
          },
          "metadata": {},
          "execution_count": 372
        }
      ]
    },
    {
      "cell_type": "code",
      "source": [
        "import matplotlib.pyplot as plt\n",
        "\n",
        "imgplot = plt.imshow(Preal,aspect='auto')\n",
        "plt.colorbar()"
      ],
      "metadata": {
        "colab": {
          "base_uri": "https://localhost:8080/",
          "height": 452
        },
        "id": "ITZn9PDOTjd3",
        "outputId": "e56024b5-14a4-4223-d13f-9173ed6acab7"
      },
      "execution_count": null,
      "outputs": [
        {
          "output_type": "execute_result",
          "data": {
            "text/plain": [
              "<matplotlib.colorbar.Colorbar at 0x7fad8da5b970>"
            ]
          },
          "metadata": {},
          "execution_count": 373
        },
        {
          "output_type": "display_data",
          "data": {
            "text/plain": [
              "<Figure size 640x480 with 2 Axes>"
            ],
            "image/png": "[encoded data removed]"
          },
          "metadata": {}
        }
      ]
    },
    {
      "cell_type": "code",
      "source": [
        "PXX[0]"
      ],
      "metadata": {
        "colab": {
          "base_uri": "https://localhost:8080/"
        },
        "id": "rCUqu8mEBIVu",
        "outputId": "b19e465f-5e36-4b0a-a23c-5bf4410dcab8"
      },
      "execution_count": null,
      "outputs": [
        {
          "output_type": "execute_result",
          "data": {
            "text/plain": [
              "array([   0.        ,  156.43446504,  309.01699437,  453.99049974,\n",
              "        587.78525229,  707.10678119,  809.01699437,  891.00652419,\n",
              "        951.0565163 ,  987.6883406 , 1000.        ,  987.6883406 ,\n",
              "        951.0565163 ,  891.00652419,  809.01699437,  707.10678119,\n",
              "        587.78525229,  453.99049974,  309.01699437,  156.43446504,\n",
              "          0.        ])"
            ]
          },
          "metadata": {},
          "execution_count": 374
        }
      ]
    },
    {
      "cell_type": "code",
      "source": [
        "\n",
        "c = plt.pcolormesh(Distance,VectorTiempo,PXX)\n",
        "plt.colorbar(c)\n",
        " \n",
        "plt.title('Distribucion de Presiones', fontweight =\"bold\")\n",
        "plt.show()"
      ],
      "metadata": {
        "colab": {
          "base_uri": "https://localhost:8080/",
          "height": 452
        },
        "id": "oJrtLNCGav9H",
        "outputId": "23e0380f-6e50-43c4-90d6-67567d2109e6"
      },
      "execution_count": null,
      "outputs": [
        {
          "output_type": "display_data",
          "data": {
            "text/plain": [
              "<Figure size 640x480 with 2 Axes>"
            ],
            "image/png": "[encoded data removed]"
          },
          "metadata": {}
        }
      ]
    },
    {
      "cell_type": "code",
      "source": [
        "PXX.shape\n"
      ],
      "metadata": {
        "colab": {
          "base_uri": "https://localhost:8080/"
        },
        "id": "OIgztDUiBYK2",
        "outputId": "b1c084a3-62c3-415d-9d91-c9dbd03773c8"
      },
      "execution_count": null,
      "outputs": [
        {
          "output_type": "execute_result",
          "data": {
            "text/plain": [
              "(400, 21)"
            ]
          },
          "metadata": {},
          "execution_count": 376
        }
      ]
    },
    {
      "cell_type": "code",
      "source": [
        "math.pi"
      ],
      "metadata": {
        "colab": {
          "base_uri": "https://localhost:8080/"
        },
        "id": "1gcolFMsHZ7J",
        "outputId": "53cee5f0-eff5-463d-fb2a-28f869d9082a"
      },
      "execution_count": null,
      "outputs": [
        {
          "output_type": "execute_result",
          "data": {
            "text/plain": [
              "3.141592653589793"
            ]
          },
          "metadata": {},
          "execution_count": 377
        }
      ]
    },
    {
      "cell_type": "code",
      "source": [
        "%matplotlib inline\n",
        "import matplotlib.pyplot as plt\n",
        "\n",
        "from matplotlib import animation, rc\n",
        "from IPython.display import HTML\n",
        "import matplotlib.animation as animation\n",
        "\n",
        "\n",
        "# First set up the figure, the axis, and the plot element we want to animate\n",
        "fig, ax = plt.subplots()\n",
        "\n",
        "ax.set_xlim(( 0, 1000))\n",
        "ax.set_ylim((-1000, 2000))\n",
        "\n",
        "line, = ax.plot([], [], lw=2)\n",
        "line2, = ax.plot([], [], lw=2)\n",
        "# initialization function: plot the background of each frame\n",
        "def init():\n",
        "    line.set_data([], [])\n",
        "    return (line,)\n",
        "\n",
        "def init():\n",
        "    line2.set_data([], [])\n",
        "    return (line2,)\n",
        "\n",
        "# animation function. This is called sequentially\n",
        "def animate(i):\n",
        "    x = Distance\n",
        "    y = PXX[i]\n",
        "    y2=Preal[i]\n",
        "    line.set_data(x, y)\n",
        "    line2.set_data(x, y2)\n",
        "    ax.set(title='Presion  days ' + str(i*DT))\n",
        "    return (line,)\n",
        "\n",
        "# call the animator. blit=True means only re-draw the parts that have changed.\n",
        "anim = animation.FuncAnimation(fig, animate, init_func=init,\n",
        "                               frames=range(0,math.floor(Tiempo/DT),20), interval=200, blit=True)\n",
        "\n",
        "HTML(anim.to_html5_video())"
      ],
      "metadata": {
        "colab": {
          "base_uri": "https://localhost:8080/",
          "height": 936
        },
        "id": "haX6cvvfcnD-",
        "outputId": "d3692346-656b-4d52-d6d8-ec40ed4eccb0"
      },
      "execution_count": null,
      "outputs": [
        {
          "output_type": "execute_result",
          "data": {
            "text/plain": [
              "<IPython.core.display.HTML object>"
            ],
            "text/html": [
              "<video width=\"640\" height=\"480\" controls autoplay loop>\n",
              "  <source type=\"video/mp4\" src=\"data:video/mp4;base64,AAAAHGZ0eXBNNFYgAAACAGlzb21pc28yYXZjMQAAAAhmcmVlAAB5IW1kYXQAAAKtBgX//6ncRem9\n",
              "5tlIt5Ys2CDZI+7veDI2NCAtIGNvcmUgMTU1IHIyOTE3IDBhODRkOTggLSBILjI2NC9NUEVHLTQg\n",
              "QVZDIGNvZGVjIC0gQ29weWxlZnQgMjAwMy0yMDE4IC0gaHR0cDovL3d3dy52aWRlb2xhbi5vcmcv\n",
              "eDI2NC5odG1sIC0gb3B0aW9uczogY2FiYWM9MSByZWY9MyBkZWJsb2NrPTE6MDowIGFuYWx5c2U9\n",
              "MHgzOjB4MTEzIG1lPWhleCBzdWJtZT03IHBzeT0xIHBzeV9yZD0xLjAwOjAuMDAgbWl4ZWRfcmVm\n",
              "PTEgbWVfcmFuZ2U9MTYgY2hyb21hX21lPTEgdHJlbGxpcz0xIDh4OGRjdD0xIGNxbT0wIGRlYWR6\n",
              "b25lPTIxLDExIGZhc3RfcHNraXA9MSBjaHJvbWFfcXBfb2Zmc2V0PS0yIHRocmVhZHM9MyBsb29r\n",
              "YWhlYWRfdGhyZWFkcz0xIHNsaWNlZF90aHJlYWRzPTAgbnI9MCBkZWNpbWF0ZT0xIGludGVybGFj\n",
              "ZWQ9MCBibHVyYXlfY29tcGF0PTAgY29uc3RyYWluZWRfaW50cmE9MCBiZnJhbWVzPTMgYl9weXJh\n",
              "bWlkPTIgYl9hZGFwdD0xIGJfYmlhcz0wIGRpcmVjdD0xIHdlaWdodGI9MSBvcGVuX2dvcD0wIHdl\n",
              "aWdodHA9MiBrZXlpbnQ9MjUwIGtleWludF9taW49NSBzY2VuZWN1dD00MCBpbnRyYV9yZWZyZXNo\n",
              "PTAgcmNfbG9va2FoZWFkPTQwIHJjPWNyZiBtYnRyZWU9MSBjcmY9MjMuMCBxY29tcD0wLjYwIHFw\n",
              "bWluPTAgcXBtYXg9NjkgcXBzdGVwPTQgaXBfcmF0aW89MS40MCBhcT0xOjEuMDAAgAAAJTdliIQA\n",
              "E//+97GPgU3IAA2XOop6H+EVsfSQUXqx2aBk6gAAAwAAAwAAAwIoF7XikDCZXnXgAAAZMhT38jUW\n",
              "HiAKxzwAItYqor2xfO/E/4BuDl9qB67gXR8Ol+MOiYz0Hs4jC1iQWtUYrP4B6UUZipq+kRfcG5zG\n",
              "753NpDciG9j5/QIDDoaPf4HD7hFKiCqpoLZOYam4bEJ6HDpH0YfEQK5xFOGIevdQ1sufH7YYgrdJ\n",
              "Wo213edv3/Ho/7E16Xsh8HTNA2/xTkAM8lnlAYxRHgJW76VE1W3Cy+9+FGbHpXddvNSDohKBD7Ml\n",
              "zXGb0whvZpvAD2NaUybMDeFuXt/Zdra4KgwSk1uIbc9Ay5jCH6aecCIP+J0kuSyygX09ro6FMtGn\n",
              "wctmwkTJzL6B8trcZ0F8Va0/T+cLP5PHxQ/o0p1j+9Lzy+2zPqbHfclc5KAVpmIuxEJbdSrGS5bX\n",
              "tTqiOzJRw+Mqgq2wX/K3071mtMJ8Me6o7hF69ZkGLWlKFwjKz/WhwJxqMSj6PHbtMYUoQFBgovKf\n",
              "k4eT4bMG8xZ3floQU/uEN2PGZm5BMcYf5suLdGPgH0DoesXZ5zBXMlTuvP23g34+HB7keDNot2QK\n",
              "NXZJumD/TGJtN+PjZHmCXolS3La/H/oi0xlYYwrx7ycMAZvUnyLikoJnZHDgsAn83ANg8QsviomH\n",
              "35xS/GLTU8yaAmYJDGc8a0Zllqvfv9tRDy9adhX0FU/QzpszqJdE/IfFzDOI/0dwuKwl/1gWIVDn\n",
              "qaa2m+107feNS8ChyCLW61Il3+xcwMJCC4ZqldLnbpfJTk11SqY1P4a3Ac1UylDvWft2JsctNzHO\n",
              "KXn2Ob6m0eDGaW26Xep45JQyoPCT1ajyJVJCwxS68FV+onawwPNk1+YZwSlEU4+9WnXsq+xwW1I4\n",
              "PMQcGdv3GuzjuJu3zxO91TdfPI4q/i5OMRsBWAotuC/fsnWew6TELcOrgxcJWpz8XJSKhpUS1xje\n",
              "RUL0Ngyu/E6iE2VR6R8DeCemEoynAd0Bx+ZyxpmRLI5p65JoaaFOgPXBxHr6bK+77/FGBixrBSZn\n",
              "bg8CXW5WWEBleSsak8ixnc0QLM96QWikYRrZAvJoj/aItscSTIq7SiSh55zlCh3hQP/WRdX3pzCE\n",
              "cNlOLn7+kUg5QaH6YkN4Cy2ZJa8x1/h6cIyVEpxGEvalp3Ty076pV+uj+6xL+v5gJyv8DMHjdAuf\n",
              "V+jga5jZuLe9Is5BQpnVlVRaCY8Z2/JbtNOeQ/rsMFDeg1ZQZp2a0Ny+F9rbDTxAngmvzS/bFJTq\n",
              "SKO5venPXK0E4GX/D1mNy7ZWC5GeJ9m++VlBRWeLHaHwA8coYZBnQM6KDtOmgotdOaxivgTfP/Mi\n",
              "/tXsVeRCR0A9G1Hyfy8xIaC1Chlm1PDSpkkbSo6C6mmRl435slcBGVQ1EtPKNudEhl8+5QUkYESY\n",
              "Ulrn9bd8z8Dh7ljEBS+KmBbMS9E9rnJB1e5UmniR2yGX0PhM78/IXVWjoyOSseMoFib5nefLrhEG\n",
              "bMOAQjLIH2yn4P451WwnWTBMggbC30SUJG1t8/Ge/kb/4W3DNd3e0VmKa6any7mc/oUntt/qHtRJ\n",
              "7r7FulSwB/v2pl7Gl+B+1uAHb2sidffyXc7+LVtscdnvOPGVzDV9opNeoqTETeaGay4Zu+LUm90q\n",
              "1IK8ApXuP0l0HBknSnJGKx+3yS0Ai/6y9LwfSl5KCG8PxmcS18S8BIGpY04HHQfHfPwrb5d1l+rQ\n",
              "yOWjeGAwshyXj1TiHsoNIFZg/1DZXVnx78tclvvV9w7Rj7W4i3anw8ts83GVyVXdE0O2hHc371gl\n",
              "ha4fiLnnMovQNguZnrnQB3XfNWNcnrT/pWnoIxtAcP+qP2i+bfqS1N1MZK9lyclcCi2AJMYyrVMF\n",
              "4cjD/JxRi35tDlOQWk5da0hB4gtXqo1i9MholmoQejWUNs18Dl9V1C+RLsvxDUV04btvC484LrZX\n",
              "7+PePHq7lB4/XnethukYv2UfHl8Py/XoM2JDU9DEMbYZINl8HCCt1RlY44ailSDSaxpy6w/3Af1D\n",
              "XZztK75UPGmDFdABogp0G7G9Kuy3H56LJRpIbhkBJ4bBLMCZPENuJBYJPIRdMScStlNvcN3MAEbE\n",
              "BUQEBaABaB26jWiZnqcIf2D+B91omdrPZJgPr8EPzN2DoAyk0mqhFCfHpZUBdy40YY6bAYOe6Gam\n",
              "UHR7AcmzyJSVe/e0vamJcveEi6hNMHQ287u/gdM++dQ4p5CnDyBkr71HKk5HkP+9DO2JCb3IRjpE\n",
              "mX99BWcuRV7U8HNFkZhL8/woi0PXNVCiE2b0tvrmtwa0SxYIsuNRBt6NbkYAdOK2MRohMKIGw1Kb\n",
              "GKuvKfPydMUVdsoVjLUb8sN1eEnIWwguEe/yo/5mXFGfyuOG7R5XIb7V4McQkLPlz8GmCLPlYQ3K\n",
              "kyFR8vp91PJqWtWAVk/UvMwrG0xhx+nHx13hwYBCUF7fWDJYgPgtOYlIp0yzMqy0PP4WdKskuLsC\n",
              "+JsD5cYstH6cGeVu+Iqs99AsdPsdWPw8T2Qd6j7cPpfDNvC+d9Ag7vEuWTaN6DbrJYv/jJHOwi21\n",
              "FvGVpitR3wYOyjJI6ZrOO7pHBa6X4s7XUqdqcUhXsTbJAAH+CPV/Fcy89cwDfYmrdcAAADiEMIhR\n",
              "Nvj2gArkLlvenCLjzDk1ox0dgDk5yjjy3JGjn1JUJoHWglRzFlNy/pH+Ngdd9h2kdOrnmo5CSD2b\n",
              "Xrync1C+Y9pwvTPSTQypUOjcWvtyjnjWr34+AhRiM4rzsiJCOyNQPa1YZy8/f7dt5i03uHGmH+cf\n",
              "EmPLZzEo0i+7fOh6yJIXniuD2SgRO4wGHaqsv2uOrWIv7kdvionbPK0QEMm5kbeTQyNWJeFqcglH\n",
              "qSQtXLH3aGpdVKFf/7mO1D4Rbs99IiCyPNI8DZo8roTNaJjkRWSATr2b6x6vR2Ac6uiaDPDvwwjs\n",
              "9+JQbAzY4GT8wj7A38IegpSyhBV6qMBEAQ6i4bjvwmLj6PngWiywA+H23H8HKbxOWQ20iI2cGP1x\n",
              "LliCjqYOkASilsYvs476NgQLRQLGTqY2JH1017VpiNV//+q3ERVi//fsmmq0oD1a3ZLVQ645x8+f\n",
              "Y7fwwccwLVougcSbqCadS1QL08xR+Ss4mOC2IyqeZI2FIcvI/3EITidG97oH9Qb3ELci06DKMIBX\n",
              "yALsHZBteMyAHnjET3LDbI4aBpn9dvjcqHrpg9s4SoVgYSNSrR7RRNHuzpOOzTagqUIWCOPxsC2T\n",
              "yZ79Q4KH/KFR6X+pmXdggkhJ8qeunhkC0X4duEVZgIMk+oTUN3JLKhkA5MKWgPsIB6PqzaKOkbXd\n",
              "PRiNsEDD9xX/Q7qvdaBx0ps2kX8L2ypi2BnCPZWe3/e/RI7VO2+Ze9YEKyas1EQVu4hsM3r57vvc\n",
              "djhEyjdiYvd6GU4zw2UNnLuEw1a8+htGsvYVWBPQj3t07dofBYE+mYBef+42Qe82wOZnNkG+Sw/s\n",
              "ehFYtx4FHqAc1ow/K5KZXPK0TVaXBnRCHEwWr5BLPQn8hTc9/6rfB7LMDO19T6UzHsvQPsRXhiiN\n",
              "f7lyb1ktQuiMPagYqhd9Q6nzwqbK9dlLB6HS24HY57TfUp3/2x0Clq2UgzINzNJhYhH8RmVQB1JN\n",
              "0aVZ11SnPuLWb4mJ3CsmA72HmBQWnp/RZkzvcw5ILzKrTxX1puLZqy5NI/s4BC9Ous6C12H8t9LJ\n",
              "ywWsaFYQxBvOHkeh4Xq8BrvLKoY9r4C2WxB3eABy/7WNK2xS7lHiG6ZQg5ry5uhl4TBjS+ncJGk7\n",
              "dpMlaoGZIKx+fR69sdtCLLQORLNENmfv8t+7hn0ITnZx5J+6X0Jacc6IvwbvYxnhUItx4/wIsc0E\n",
              "1V6TA8UorJ9czZ7Bmb7lU383hOEE//6fIDbBgQStvk2Zj6HAMUe3UwbTWd3Nc12NF4KyosEcpw7w\n",
              "wZZh3nUVqS7+TDDLrYQCz7/kD0zkag249/1CBW0W7/Z40+CMhRO8F7XgIUf0yzDjK6DVsuBjKmA/\n",
              "uvs3WTFC/e4/vy5MNS+dEDxvY3AOVdMaPcyfSNVSVy4U6PzrvmRzdQwSZgci7Z+8kaCyOOpv8QXX\n",
              "Bt2nBY1Rh1iIuRrAfWYHRvE6kuvkkJeZNsG0zObUzrCq+kIFsILzKbQ+QaNVbmGSWb/KJCQbk01J\n",
              "7YFoKgKOyEhRR4OIgZyPp9VdN/AydCHy+xGfU+VcSS2TgzuF1FCJbQVHxMigU6XIqjFa+SlR4jCT\n",
              "CRxkXz9OBE9yMEDUeSAQ0wAIqPnYDL/pTl43uEmjD/k4Z90WrkCNsBspwcL9xR7jxfeYfE9MdqaQ\n",
              "JotgIZY5DaKNVfeBnr4yxiv+YraQGl9wLn5VkCPDTzEv70Rp4lxarwiBQUTpIBu+Vq3ec9AFJjjH\n",
              "4ZJq6imXdd52749Mi1rwpz7lpr2DPO/4DbFklxyA4K1L3RczvXYw/y5ID32OvPG6BlvItiK0nHhD\n",
              "1cFsF1LTwNfqmL7hBWUhz64zkn60z9x+6EjPpqwApvIpsqCPA2tR+Pp3Y1CYxrxgS88gnsyTQvCg\n",
              "1Rmj9IoTP/u65hhp9oi1MIhrz1jvPVl0jRAy4tB+marH2NbGmYDlbOkbHEw6rfZ1CptCwGBMt2kM\n",
              "SOOGKyQqtbJoeGsBEsUYu2q+omFEDSw/gbVIgIb8uIoSe215fjNBLb8MZB4MTjsFhertpJQPa9BP\n",
              "4oJk29vsm7MOeVsj9gkC1jMMQHn2caS81ahNifck4HzHvwQkDxNqv8fmOJp9gVeSvFh9iAz5M4cQ\n",
              "WYjAG+vOnl7vMp9vVnTRcvn7TPP5N43PZl/0pgBacMPDa9mFdqWmyZUqAyrF+5+87uwh5Qf8fWOg\n",
              "qyZCjTox3YTEfiEve8jgtkV01NRasMzmHhdAGo7WlY9IoTl1QXRsSZxjWiWWsXRAPGttgXYVxWxS\n",
              "bNtBfGXrZQWhw8Ov3Pg5spNArmqgfzgoxNC7mw+HCCKcIogDXI2uPRoZnid8JBc2O1es+VQPR/mD\n",
              "I1lv6GzIkrGki051zuORnY/g+8PZDv98zsuOH0ThMW9gA7I4GMW64rp+IL8sV8f8nPfd+jp6NFit\n",
              "xx85noLS3vRygt61MeDq+OYXkB6yPcFGH0n3alIaBwiDSoE0GnmnyThRIuIsEt9dOFSPfvkbJgPT\n",
              "HAUvLTlWYtOTUYbKiv+PsILjeEt62swxNBBsGcoHSpwSf3rHf4OENbS+oY/umrzvgEYlQHh+ZkgE\n",
              "NKnWc2jEA3yRjxuBTc+ZtoAaqqzXAgkqbRGYfcMxvaTpVvqnIaRAGYoMoz4dY8LdP+kgjPc3J5JY\n",
              "eSrLedFBvSHoQAbX8dVEEaj1o3RyF6Y/MQ3jBrE/BtoHE1jrUKvOQdob5ci4IioA3RFPrDPOfGHW\n",
              "4Lsw/5FwOJVekVt164YyXPgPvhs7afnqDhtf3ZuKt7ynJnKd0DivME3MamoIeba4MarhABaPsr1A\n",
              "NorqAithy1zAJSyXeMTzVQr+Cf34nDzkn39vwxiP/fAIC27hx3T1Ke59B9FeBNQAJKw+SiC0OdxB\n",
              "bnxpuzAZmAXuIdH7N+u8tOPfX33nUuHl6TgK4LBfbp8SP/9kAAGBbxrh0KA9RAE2fcgP/Wzf5sfl\n",
              "8TKduwLz/lXdf/zqs+T9LwhqAvw7nP2r2FyTvezy7bbNbpj3ov/r1Eq69z5ueZjOLsGcH9Myaobd\n",
              "am5x/zDujABwNL9CjmNRwi4p0iHx/dKRTVgZ8Y/DxGOWqVbku1TUmIrr3/AOlV4D8D6gl3iMJcot\n",
              "RFrY3clFNFyTZXBxZjbhQFMcTU4E6mvWYvU0tnUbQTv6iSHqitINi82G2g91uSCwRAgpQ97exCG0\n",
              "+Bf7e0Ei6W3koZHgLytoLtuvdpLIXCimw/BTUrHwBPNbL/vV+YNO63K8bcZ7Snd74cgZlVCTtex7\n",
              "+cTWgTjAfdzl/Te7vQ2mbZziTJBD3PL1fj7ZS6OqYbIyKNdS91G+FfczEvxgEad+u139/XCSbtnQ\n",
              "EapTAUTb5WYm6eNVX/FH6DOcA1qRRFJjGScVqOP9Jg8c1xTfxoZPzm0oCSgiRJGrhJAFDFFBRpCY\n",
              "QKtWKACvbuRqFOOXQq/NCBixEY+cieNnh/Vowhui0lR9uDBtnG+bhSF6rCw5uK/ypvPCiPpt/RPd\n",
              "eSpn5zBWNN5CohtLotqjg3ZqGBMhp1rco0bz0k0xAlGXsdwfFF4II/ZWusjANRZKrnuvyHi/2NgF\n",
              "iKkFCOOgpXe7kqacTgbRgqr6t9biBRQ//ol2HcmeSHliaSMu2iLL1xiIiF9qC0NDE+sMwpklSY8S\n",
              "W1DhZV432Frw9mNoSNluUjPYA/DX6lnp2AdQH0uIyKN5jK7Hixu/wfsHccXh6X6cKdSq0vgx9Vri\n",
              "aaaLSpwJ1ncdoOaMfomflyujsfgm1ab+qgZkm0JDVcdj31dCQvdBhFC/PuMN/Y5bOWWqK3ADF1Ys\n",
              "cFvuM3O+lDAcnLPX2U7Yh1VVJTAZKOj8mZCM2xY7qf2w7cNMbgwxtAu3l+KUAF2bfdqBfCdRA/SI\n",
              "CFOYCktCSlDaAqqMXSkYYlf/s13q38gyx0e72+ulQHOa2qbIL0dsbhpHgZrQPSJ7g7J8YBjXtJ6t\n",
              "GvGH4ip4SV8aYT6PPdMWsTOZccemWa5uV8Wmay4cnbYZeXGOWla03e6qUaORfRlV5tDmiik7g1aH\n",
              "vo049VkWbjrF149fhgA4gQ3vLT6D2ownFR3Vtw800XdlEgKA1eJ+TzYdHyjT2BQ1wAq0vCiBOnC1\n",
              "uCUwzyTweYJf0CPDekmN4fk01f4uW9WBQTiZbh/8iYYK03GKVCPreoGOlTu4DpztaXH2f/Jms/vf\n",
              "D3QgWACHiKSTc1sfWcqpgDDkJIhd+kvctusDw2ZbYiBpJCQpsLZnepK2AGRqknP04HW8bPC5CU/w\n",
              "Jl4Z5wCm3cyGJcpfnJI9k5thzF2Q9Gj/4FWotx2USz2S0VEYv2iRP5I8ziUwq1EtmZAOxaBjy7Le\n",
              "arPtO5QEb+01UEoX2u22UfUfJlK/L14r++9Bgw9de9Al81dpsZ4EuTyApL2/UVtYN45AAnOtYaRP\n",
              "LhhwNLpBej3Qjxc/smMqdYXUxDFCC5rsLyPBmMVZK8VQeR6rd9obyKVtgFqD6YvVvQnBAcSaSqIh\n",
              "+6s0ag/hTM+HWnYa1f4upEtKkFi1aOodWIKvYF6nky1nZ0TK7rI7MzIGi07UDsQ9bxl3ftx2bmAW\n",
              "6TxKh9p9GdByX4A7SnY1IfwvxLhiYPsme0aBgYzZgp9Kjb1sLuN1v1T/66JLKgJRXD8HiTGBflP3\n",
              "2UFT8xDRaVJphAecYdAbZmiXPoU0dDCJsN35ViRWcaBlXLfsANAn12AWpnJUVi+0Tpf6VxY4tyUF\n",
              "c4RChs/hWnz2CHS+gXmbl/83n3dR9LCpLGbzAV8x2a0RyJvZwoNQB+NJTyKzWL5aqpM+o+tn1oCU\n",
              "ox+GrHpKq5853pVOgCfGGxyfzEDQUq5mJDWwcZb5XLnH339m+/icf+x0p2ARQsjUJ2lbhrm7hIn6\n",
              "4Kshi/f8XXMzFUZVWYJiGe/0iyDPQ4Nu6qnE0XLfcqziKcvoeKReM7wF4Dhi11ZN/UHbYG6GpHsi\n",
              "7CzQB5CYzlenvT+euGIpF3WWHw7I/uKRZyYkc2u5dFZ1hHcLJ2ikAQQMhCWN+FJnp8Dj5qc1FpsV\n",
              "05e7+7Q6sxAhAOJEbWTaRIyBrxyc9AHWNRs+o7IPgaQoy0zn4Kh8omHX9mde79fpwCvo4SSYV8lO\n",
              "LvoRGjWPjAQsfVK2mVkKX0Vp0HoGAGSOtJLrv85/s6LLNdBO/BH/ucJnIKJpUdDd1ktM4rgJ9zMK\n",
              "a8rgjQ7w/PO18KA7265xRkJ/p6plGxXWWULPyAFdZ+xd4q++h6f8x1X0c4jDrMLzP/sDOU1beU5G\n",
              "fozjEHZX7pDw3s+59Y7/1hSNQORGhB0umAaf/aq1nAeBhplcpEsG4+d1gOT7hZTg446ZiAl6Baq0\n",
              "9FfeGO3QZuNc2WMlYIjwAShzlBu/QHb9e+hiQp5aC197Jj2eL7B6lsuJndWSs57mxj2o72E8tHYi\n",
              "s8TrztRwWcvtgxrwYorhLkAmIA1x4D3dBgP9GNL4ypf3Uzo7nQXQ2spmc5o000HTz8Q741mCQ2vY\n",
              "rrZNMe5SaZwYSVf7MNxgZT0TOS2g6h2JrtyLdDK/1X2vEsHuO0DLhGFwnvhBomkwC+2KS9q/Pl02\n",
              "R2IT41ZT/lUMRXPWNm6QCMb3k/nlz7UEE3QFNmZDoVy3QftbAsnGY3z77ap9aCEtSe4Xkagi/apq\n",
              "kzX2clu9/ZSd4aH+NxK6bazMuppO89Wontxop1XSaCmp5DKxd4IDMo0ytbTK6uN+T5ZnjHy5G6s2\n",
              "7yt+G7VvP189Snnr99ui4EzCoIF8kBto12LbYD4CHiYQABExlhnQ0qFSYUHMsMY8A+64+OjT4OwS\n",
              "OckhfhnDqcB55dj/HcM1p1VMDjmjyAisz0kpPm1BOBrUSGxWmzPD8/yLSOnl+v/LIdgBQbtIq74v\n",
              "QVw1qSFsvbFggj83ITGMoHh0JybI0aQSFU513yqouGy+B39hnYYaitejBkGCJIEi11wAykp4qG8J\n",
              "BUr1KAdLQ7Xb/o+HI9xNckwEN7x3BlyuGbhy8qzuItqrLgWVWFOVz3WnfPSUTg40UZs2oFOigsOe\n",
              "S5IPcBFXQAOmoMF5qzDNHZQij24kwU4dJVZe134z/aQGtbmium79sebeI5ypR3PHZjMmT8BVFztQ\n",
              "+o4bCihShgtNTGByok77KQLnE+zTHHf0X1DWfLkIPbkbbgQofAD6Ol44jf8yMUtNungOPT65DVEg\n",
              "EcjHqOTql8Q7SNJPIFaugA2pgJbkd4DGMFNECrMVO491DEh2IPc81bgdk85zAKmS1Af0VC9efjQh\n",
              "2bsPmMrDyvVdSTB57fJk+7BKWldv3Lulh25BTIs0r8I2s82kMC6QqaJ2CoAAEmcaQJytHO+068wo\n",
              "0DcN/3mcNLuaSwkxuM5jykEDwZOc6veROaMW3JNAl2Mjwo9Sgc5+jQDIUjEmZ/jP47nnFObt1+EA\n",
              "Bjd90W+g5XW5JpZQzHO9djuiAtp21pWt3U/uTs8oZr9Yr6mEJQJMEpT4b1jkBEOaM+Gja7Ro1uaj\n",
              "1O62ZhnMcFal3jZK5nhJCDnJ+seRpeP1X2HolQRJVmT3f99GDljr8iqwRHBp2jJ/y2oDadjXzZBI\n",
              "2tY2DsB1o15m2DXpM0jQQsQan77rKRDLNVw4I8zKxcuG/E2JEoyf1ZLH4p8LZizqcdF70rVIFegd\n",
              "a1beW1R6jPGNjCiwy/jRivroEF2KJZMj5aPvtTXFk+xnxh5N9fLp7wmvVBEcRceeRvy0fqZGSJDJ\n",
              "X1cbXJWVhMAtI6BCjj33PJCqJzkBVOioDWkjNQIQozkUibImwvERYx//280jJmGNrxgwXJnJwVir\n",
              "I020J02+qkiUCVRZN0VPtTLdlztMcWKPjDV0qeKl/y5ptgUnbV7TfiR6gB8W6QNeKF33GYzCS75A\n",
              "ASzrKU7kIL62aJEh4+hulC/U+143a077mEoin/4+Th+Sqbi6rnLuenyA1wq15qCO+/T7ZrYJhqqs\n",
              "maKCVJMStEQfOxEyAR0/TadnIAB8PNVELJ+o+xzF1CI3oJJwoFm3zBa2XjG2CEsSUcT8MtT0eK6w\n",
              "rE6kNQIHyoNX7zPft4UtX4Nwpk2CzUg6phOwnL732nEffiigvTkMqqt4aa4QOqzUcwJn/iRLg0eC\n",
              "5vcb62yMyQmf73MtJvByAhg9ujA4n1QvBx08firASme+VfqIE/9JvPkP52huHoWQ+9kCoZ83C7ko\n",
              "JJnlv4B6oBq/ET66Vw9Ts6qKTraW/Ia5Cxfm4Ns+7A3X8lNBz8bX4LX19zJsy08NU7IPxwEMW0VG\n",
              "ehP7uqgBv9z4A1MQydapfoXBgvfwqklVh82PoBeoIrw+3ub3rW8DEpBowmEW34934jNDGO1cCBG3\n",
              "RVhodZaHBLHmI458qyqrlBdXNhzMm4reiYQAopOJjK2kxoPkdo+lStAbCWf6mq5yzKXcyJOAAAAD\n",
              "ADv/1lbiC/GxHt9esBccd0+7vnH3abHaXSecye36DgzPW/b1+xqOR3j18D8p8Epjm5yCfxYjoLAP\n",
              "EkoOeCFuKdRCXftFMpwGgacPaBrQodDSsh/lv8igPDWokaYkdVPvuQjVGLA0FO0ieFCWchJXkQg/\n",
              "NCj0M8flGZnHQiy8GkUscjeA8fjhXvSSo5sTVmKB4AttioRFgcR7aCLOn9UKNgPFwDfi5HuhCS+5\n",
              "vnFFcHhe2r7IsSbSPf566vkjWkI7n23rxCyiN6UfHidjDVkS3nuciSihF2FLeGyx3fQp96WBxnsc\n",
              "jnvM7b3/6sYhSVXWFKsZCn/iAu99S2Vqdg7IUGgx/F0VMackY4O6VnAxefkOXqAPUKRW9uJdUh9l\n",
              "wv2Hex0VPpqyEiqk46P4xzg36qp2SOX/O+bBq4gmkyUuGI/HIe5elOqgwcKvOXLirlP77D/uYe0P\n",
              "wMP0N/LjDMjssRKnoh0w68JfltSRjp4OmOPxyaXrF6I88NQ0IITr9LwoHEZbNpNIXdVWbtURlYAc\n",
              "5f0WqbV/H46YbdVAttFrlV3ee0RnMHCccAZJeNouKV6E62N/GzuEJ0hfgEvHc9z7n1wSMRp41JNo\n",
              "54fPv/1XwNCEKbMLJvmPBSlFsqvobkYeBRprx81urFCHEkdsmgF8Can+rHa/n3CVAAv7OodO0VMk\n",
              "op0tLZVzzQTdDQXOlYspBt46y0VN9xhkkCMmuphu1sak+BRyooPjvYUHsObrHFIjJu7PdmlDQfAq\n",
              "5rJOXA+LItn4EMXurqMsx9M3ZPQL7jQoqcxf25n8sciSIWAGcZclopU3qEvmM+l8eb+MK/XH65yM\n",
              "dUGaIg7DH//HdFZdeUBCNtxMdAx9ikS37m0I162S8SvMOLOQ6BsmN+tpnp0jaT6iMSwS+2pcrROL\n",
              "FAY84eP9PFtXWZHPbA7A00n4z+x2dOpwXHVvHsRmkcEPOJgFOUrBhWGnVgLigQOII2YCORJ+ldTd\n",
              "qz+VwO68xLgpa/TI2lT4Xf0n5N5zWLI243LQMkTM6uyH4lUk4pmuOUudc3x0tAaUWBE22susTrif\n",
              "DA559p0rHcbjNw4FvfFCQKtwlNp1ISSTw1Va2r/cgFlYr53gVENoEeI+q0ZkxNAjTEBWhDigValH\n",
              "EqfCxXjSf3sri70mIN4/AuDvOwUjZUCxKlteRT8ORm903j1orAvz9AnMuuf7amTlvH8Fote0NFkv\n",
              "Q8LgnrgWlB1kPW4ziD5uab28sf3uckbFxutoGdtt0ggeHUa1jEMS8O88GxgbgJUMiq5IXn1RQVdQ\n",
              "mJMFrH2Yl9+E3Mu3uiH76WWL2wAXKj5x9q2v+dc7MP2w86XVEdID11TNOrJfQGimvnBqDK6X47Ej\n",
              "uP22W/w3m9fPggdJM7Q9IkJbvKpxd6uLHOIf4XPrgTu1gvrygD/1W26uDNA/6xLciP4ODqiqBH5R\n",
              "o6O6o7tDe7/3tvgdWhVX/rQpNStmENrETrPqmzMBPQ5zdnA3aNX9m3MggaKMfq2khgtBZpAaBK8x\n",
              "KGDFupQU/gxOAZVbnWqPlM0J980a2nR2W3SbfSPzxPxN20G+6Skm3dgqoQuOCj1kAwTlxJvFEjzb\n",
              "2Sw5QQ9pDjiXdGUxBZTAE68vOKiovFQUT/W/ZAHh+iQkJlCdPB4KgAEnINm9AD5O+jpFPLf2rJ+j\n",
              "2R/8eO2UHSFFSEY6XQSRFw/v4gkUh2bd7b+Nt4StnEeADqayxAB7nVkI/dYFK7pVQXmmnncLpfpg\n",
              "aNkbqBlQ4ZV8RVLDVcQd96nGx9a43eCHGPU325XkkCETLMAytszHCadK+Rr14/i6ECXIxwkFbuzH\n",
              "89SmXZ5mTCTn6BG3DGndun8raV577h0DOwuWpljGNRJC1zyQ59rsjlwSEiJ7o3uY3j8UcF8nrY5L\n",
              "rMIo1issb4wH2judIcCPeXmsHwJOFPkopqNf1pLRLII7t4ciRP9nmazkZj9BSZyEAjjxnCzwiRiW\n",
              "Z4GiJTCxVOWiB9gyTET35QPqg2AcwEM9LwTpTqFh1a6TBAP4iQfV5L8fzlIeuw4txaQ5ev41XUP4\n",
              "yYn+WN9EVsjVkRTytTCclPljvzmOrPLnP25jYEVxsI4j6w84YopKVE7HZidKsv2fcDMNSruTbfOc\n",
              "LN/5wtwWARo44f+wF2cg8Hr44jTLxQ65dfji0w8fJuY5/sRZ2BEdvoj4g9II0t6di9uiKl+02Ex0\n",
              "oIn0xzgC6wMYis0a9K6EJg7bBrpY/AvWaz4XhD+RLCcCpFxFg5rsBz0mwIDo6df2zgnpznDGLP2m\n",
              "AOxr5JvpImIQyJAp9XVtcw0pZ6jLOZc/4L3+iks3AlLStt4c7Rv0I2Zjbiwzh3/U/I2od6yDWjkx\n",
              "B6Ew0awufHNYuTIFS81KqUF4uiL0FfLgpm2IG/fymUWgRjV/plFmbUm64tLZBOsEjrmrgey/XOep\n",
              "dEvV2FXwdmSIgMqzt/dJffFpKLY8J1dVYFC0LxBon1UD8UOAlh5qBohA95xXomN/s4Ru9k7QL9HZ\n",
              "Q19HjdmOu2KdOthFgG8aKuBfiQ7j8TwRZJeZ4g8h4c3DZInVSgnvBtvrlpuCyBZ2pPByV4fMdgvg\n",
              "fF3etywFWFVwxbvrLooAffj9SzeUXLsq2sX/m3vKCDU+mGdda/iKLS5B7N+uwiDqOgA0cQo6P11J\n",
              "gAARMQAADpNBmiJsQT/+tSqACuB5eojAAiU0s31C4wOFXuRS2/2LPuVrZ7PrBA6igdtRRaqPVcEL\n",
              "cJc9WlO1BFJ1D9pgrxihTUMX/GxP5G+etlsNI+x1J3xnPvxu/q5gvFdJHSC1dhz8saPnB7TNaFMo\n",
              "2Qbq8taghXlIgaRFos+9EBB+J4wE2iRRjqvdIgmFeD42YV8WBpwyIP57jdstGW/jYEaj0GTwHRK4\n",
              "LSXceLuVN5fOVQJ0JKqA8HdVcr/knWmgjUlCwFwRmhrq9AU+ktW9Ak1P49oDwNRnxLJB1S+uKUAi\n",
              "DHl5CmJUUwwc2WMEYxZG1Vvmo3E8z7qYO1e1TBImT7X3+YYaQFYwlNBjWw0Z/rXj8LWF1BBsR9gP\n",
              "fvs5kfbB7hfFd2wla+TNCDj2/NuvSdj4A+1kJK7H776Aa1oUDyjpVlQaeVQYfF3Mn0ifdpwgsuaK\n",
              "GzM6MXNaLM8LgJShwVTBeT1192mCcvdG0lO4oc2MgyMVDb9arRGuRKu1TqRnUbExrDPXJEMKNkSS\n",
              "ttFEJ/e7cGGRwiyZDSUjLOKb6idXqthElOj3/3P3sZlQdIDr2g0yVGcsq1LjaZou0eAjlgB10QJL\n",
              "k0TX5sI2ft5LPNfapWJ91iamrjKTf8drhmqKSWFvkb04RTeKKp158yW2Q2BP5BVOo0cLgETG1lOc\n",
              "7PKeKb+/afjB59U3JAL34+Itpx6mYyWtylJTVgUSwl/qRQoKdJkQfyhgB377pNAUVeujSAWCqvM0\n",
              "eJQ3G+1SP5uWm8fxhPaOufNaV1tUEi5IE8FPI8xatblnBirn9t1HENTz9M9IwxwRy92IXA6Ovd8a\n",
              "wG716v89RaiRva2RibdkRwuEkr0Ct3ANuSdz3PcEKwSHeZU6F9N+ts1ez/hMrdGdXBaoFo5lQR2j\n",
              "iwgys2WPtCaG0ZfYIygLHPnTe0EsL09mP6BIVzO0HW3B6htL8xfoWJBdd9NfaqKE3UbK95vYx1/z\n",
              "DwU8esw4NPdD6qCKfoObvBrHaTPhcohMapHgW8xi30l2QQY7dOvK4nuQopCEI1NmBnG75BxEE6pC\n",
              "7uo9pgLp53Zxzm+L9cwqzbav8Yfmd0iRORFdW+KyPH+RvHmSqhNnrYYMMMu2jzbG1YBhoY7XPs9x\n",
              "zIABX89kYiSUdf3Lc7ANFZJYXJ88ZNsaxlwqSCUd2csoXypPD3PJBLf0ezbNxNX5Xl+pL6iY11TR\n",
              "ZiKgdms2BY+prs8zEBrjC8CEdY9o+xP44AEpQQv+HkQgq5GI9AzpyhIrndrnw+wVMRJtitq0wIYD\n",
              "iSrc0scfkCWBUDtIeorSFIPHOE073J4ztHgMedqywj6lZvebIDvuSBka2hFtB7XkpBb6VdYibWyG\n",
              "9V2IIsIkd0GwhmW/3Di9xJXCdVi4BeaQcDV8UVus9IKJtKf5wHt2kRDH4N4lsNicLu2tPc7+Mrbc\n",
              "B1lSr8Nx/73RyU7aYRjHrqDPev8oBAMiIJbYwGrCuFFePku2+GLbopCDLLmYvLObwSX0ADePIDl4\n",
              "nk2BrF9P8PPSfNXKaokV3r0X8ru0VQ/6t42U0LIB2n/8nZxjT0LzrUfX9CV5XdBvbipHtxiKv81f\n",
              "Zqp0sOOu0ZqtRKI4uUVurjAiZ85v9irII0vww6btFNTwrD/XD0pcyAow+c7dFYWccGM2hZsVTvkN\n",
              "+kKCV4gPUkO2mT8PSDBBgvpy3SxO9VJIi/AvMeFJzKqDIQHtcTa537cGLOszehwIeTqQUJfhE+a0\n",
              "FsjOR72NUpb86D7+xHZzXZzPseVDLHcxU6A8BS0d6Amz9fB4HKNbJBF8Y++SPfkx1OHmSYgxodk9\n",
              "SLJg/5A9cFTyGvfHJ1dIePgCu54GdLwDzHir4imPjlKe/vuqmD7ykA0PhEPucPVMOu0K79czf+OJ\n",
              "tVk9HrlJYuK0nyMFnlfkc+PsR1H2+pmHymbfCyPHpZm+e+hUPvawHKWnPnvw3dpn9sntcvYguJDd\n",
              "Ivjsq4CW3KE5ji2dKsWS40pJkCgBx99FuMbm3iLIZ6g7VYsKhpjozrMEDrVoxozSttEc2h+x7rWE\n",
              "kJ9Nb5fDumPJBuvkZ/QEn/0CbGzcY7e66OCobE1Gl02uRFv/8S1SJSgcdcVwXoQGQQ+D8xxzFUiS\n",
              "Ji+gNyrsKXIYvYZ57v7Z1Z5koDlIco/DSrv6Dg7W7d/r4YUgXLWI5/gNa8JV1SuYrmiyIa4RHNMN\n",
              "iOi4NYJ2TLjMmbsI/rl7LiXoKLOn/OfBL5ODxKgX4UqS4fiAtw6jMyXQUsqlXtTzCAt5t9KIsH8e\n",
              "jsTz8if7bpiUx3H3dbdElo2OVCn1etLexuiUO4JM/wcnEfYAI3hLpjLg4df74FyisaXlyR5iw7f9\n",
              "tkxcm2FB3vfLdNPuwalI5xLqJiLWUEfv+aeEEDxqseHzprKEalRIem+95/SrjLV9ZWbHndIr5Fsv\n",
              "XPOxiuvgfvBWXixl73sziBfrEA7HXRo/T9H6hnBRkhaZbT4KDSIuGu2VZdoEpMQQ8Ys+vjvWQ3vP\n",
              "2NVVVlLetJpWnNM70Aw+MLjxg5/mi3EuyYvlowkAelIlfBm8CmYpmQH/StcQtiFLA2dZ3tDPT/Bp\n",
              "0NRY47LB1s39GtTMH5mh4XqlOKRwf98aUMOgqJsB13pixn+spRJRE2imS0MZLKbRfAf8hWaUBp6q\n",
              "K+/VS5I0F7TUjh3cNEECPFd7u3b6rgwtQb6VnFb2j6cV8uwtn0FSKnD7RfVY46JvJ1CZItcVhzDO\n",
              "HpC+tUlyxissfvS21ag4ULI4Na5HgL8FkpKO4nNvBkGudXD8Ta6Q5a051NQaz5glxwMUmduYYC7u\n",
              "DFn8Whm2JTpDH8omiIUSqraAGxPOKSXwSx3MTnq6aRsqw8tXRB8b2h7i9gXp/eeXFaEzFeZ3fKKn\n",
              "bFfUuErgYfXvFBiabledCo9ZT9PM7PHjEuPyNfsxWU2TfpgjDNvqOEPKQAC5+t6Vxnij56TgBAr0\n",
              "EJ/y5Rod6cztv6jRaSMr8iAUgaps6K+JkK8S7LBgZLWmHgNmuyeMQtKDiK8V/wMb+6rKKcFvdPui\n",
              "kYSL3Jw22y9uD1SjjIMl/efK4u45Zqi+fXUGuaSOgjGQ3u9xcZNKGgX1L4BzY0UU6Nkd4CLNjf7X\n",
              "yYSsMWhwTOsrKHWCxVz9R2NLLVpIDqSlaGZS21an6bIqA2iBE+RbEm/ZuIfcOElLkr6cK8pE0P/2\n",
              "0XM6FF1xzDjeKZJNt5QFgjXJZS0Pjo4pe/rXGtzDtH1iA5sKaDHIlqzOA3YcEuqS2rqpgRxqLw0q\n",
              "v7rY4teFk7HUus6SLC3gET3YNq5XT572/IoOIrptej/WuEfLxyNu3N8yp9qWQ4655Tb8EBKw7en2\n",
              "1mVtUyb2dg7eQTIJwsR3y4BzzCULXH0/MbVbuPKG7RrwKOSdsO/K7ZVmBIJm7jNVaJ6Ujc/Gd4FH\n",
              "hUuCTVX1LPN+Nzcok2CQUHnvi2yJ2EeO3Ku8NPUcQ0l8vBoc+62nbAccd1ftc6pmGvC879xDK+Nf\n",
              "TvnPzg88YuocMeAaSbPAW6B9ZotW1mOM2PC/GpE6x/aKyBEan5j0D3TgA0b45cNBkJvYFkygLTpS\n",
              "yOkubbcuKxqk4BFoQKNc9UEDLYqct0BKkZ6AoTMxoCnxLgGxgpacug4qrYzSQVE5FrO2+fpQJ5zm\n",
              "rc9JDwwZmFihzoxPc0228D8tTQH7ifIFsH/oPKaeIbPPX/720AvYpPHZzdx0Q1GYXbWstlysHrj7\n",
              "k/cCU5q6j2Io+ukmVoKifRl7FW9ZM7o4mxvYnCvYDG+cJtxrBq8Ox0tCmfXmk4PpXAWtpPyHKZeQ\n",
              "k1cr7I5MtQDKHv/1VWiKtn3gv7UZQ+ylzHyIzMXLB0kbZ/AZ8pTVb7tyG7dB30JJhYMzWYPVKfsj\n",
              "li5kD/ftcdUkOZUrW6lcc7sCESWI+3Az9ZJU/Pc5BVg/f+Hdm6Tq5EB9vmQu2pHQX7i4NfuR0hxi\n",
              "xgG9Iv5rDiOZidfIISAnfcC1hWuHe+d6GjvDGfXWCUfwFOFXADVOSL+nsovPT81F+VKRhgzWjjDo\n",
              "QjSo4QmKgo6vNR6c6OL6rmyKw67htRhEf5RRCJgePMAop9NsiidIF6ctaQjqUhwXra6BIddBTzpu\n",
              "wI2ilRny2xqSiP8pVQnBhP+ywtY4eDRqIazY1H7D3OKzcFYXsetNFD5sGBSFOmQXLaiQiWnIxr8F\n",
              "W+FDhNKeejhx2JdZlaBAbwBb+GbY77MMEgT5lZK/3HZGtUFv/UmRIkzBBd8UMTHtKgMPk116WBk5\n",
              "ACE1DvGyWmEIViKNeJI8etHBU3fZ7op2zN9FNRGiAx8ed8gGbcSpUc6RAyWptS39MuwvBFtrKdcQ\n",
              "KdioJk/KPQ8uuPNVWsgDM2YzTh1IykpCnee2JMtW62sGTf6/lKx6C2vvo/mUpqBlBtroiaCchSB5\n",
              "0c7Qh+sMlb3gijyhVQUtBcosW4BjAg/sf0fgS8YXkLkSPxubCS5fF1WlYuSuigfvH6+4i72vKxeY\n",
              "M72FiBMbEydL6DGbqKA+dXDcw5OzZaIp4NbrfEaFW4qgliUCLj5JzLRFVeVpJx6mAwDZ0h0dgsFT\n",
              "xTUsl33o/fUU5orlLcFQQhLMg3d1+BfSFkMLvnD9o1B2zUfQoMkNhn5lTOiybwfxs0v9zPObPd6X\n",
              "aQAjQCLHByIawKH+QgITmnaH7iN9F9CEUsI93LlBOHMKBiPUMck9sv1DCqoc/PGHdUQwEjn3sXnZ\n",
              "b3Q+fbuNeQ3LzeAGDvDfOJkuh4Ni3o/GI2C6CPtEBfNHtw/hwBQnlorAHdwDyGOvl4AXipiss6oM\n",
              "0N+Z23rmA5hamh/hmbILSU1apOf1MfsewthTBXby7EVyRMQHo6UV8oz+y3Bexjq1DvGC8KqLyxv6\n",
              "cLfcwlLiiCDdYy8mlu9tMAUGutcvqt+73f47w3A1ueAjxofBlMEYa87YNV0AlWncPqO2d2kC8p4y\n",
              "+4w/VXzOq6CDVCwrsxyUiqU9Gbthq6fh3A0KOOV4mt3B/gAACH4BnkF5D/8AHawhP0Gy3mfXEhAz\n",
              "agA2lETmunDMcwtnXFKwUG6KNx1Gg5LygiA/d4hZHcK0wRSeDW3HfiPLwOe17n+7/XjoZU7W+/lY\n",
              "BTyb2Q3xVy7Y+jy6jRafqCGdiCXc5U/OpmMekLZfCjI3++quPUPExfj7NV/PIZeiDro0wUhBxqK9\n",
              "8r4kqdjZEQFQZJzlHMGq/oqk5xwW1MkbjTThkmizxHsyreq3bZVcgHaDBd7Cpi7unRjJuMD6cULF\n",
              "ihoMYFw93xsHQ+ehwWJkG+rLx+LUmqWbC4wAADV+H745onJ3X5hvgPGZZdcv24hNkKnTzSu7UdWT\n",
              "qcWhlzXRExs88WXySuUESYtuYKVOIviuOppOiSW+G7f5kQYpcgJ3BT4Z7w4Uik7ZDcCFEUq10ggP\n",
              "dKbe4cmpObOvE5oTRf1mSc9HSA1NLIU1wY9/bjlwNnf9PApDiHyn9PDVjtgD1vgaG0mgVD7ywze2\n",
              "Xu2vAE5yL+4oW9D+cR1YViCuLVJkFSHm7yUXPflKTxuD8NOVG0KzNgRLrfis6IcOyOt0PGqUe5NN\n",
              "1Gq09YNNot2Rms1jWjRYcNHg5GN9GQxoOZw8veEZ/w6YyT7AA2xGmnBfuqHfP64Dgl8H+fYHUoPb\n",
              "lvz8WTIot+Por8z1zXRzO+X5HJRFzCIokQ8ailc0Y8a1DPIEwOl3vM92sgepNNxqg5vRpG6OFkZZ\n",
              "PydAdapMLcDjY7ucPAa5D87EDMiQ10tbGACfEeIg4M+ou0dadTB1L8KyNHU8gJHkUxaSuM4ZknJN\n",
              "HqyPaO5zILy/g197wXPE+9pY4HGLNEd9yrt9sGrAlD2zYpSuJRiJquyrztu86fBA32JTj/I0qilL\n",
              "nnOeApJlqDW8QbviZBmdjJIMIgUjLbErUJaxpkpPWZzAqE1a1W9fKGS35LA2p+juIpaSSkn4YZVP\n",
              "V06chHWarqvor4uRH0u8p02keS1i2U/7YqFSE/I7Ich9SQ0Vx++D/P2HcPYptBLNG42HVHBs65ZH\n",
              "qoHDuaJ0SGi/Q0qs/yDKUVo62eaX4gGHAyJGgA/idp0u1uch8pkMqDZy8pChOqC+InAIm1wcLuWY\n",
              "VXemUrlNPPo3quI15ltz1MFe9ZsnnC4nDn42za1yuqqOQP0GupP72FHn4SiLu6MeXeLg0xsKOc0d\n",
              "z/EVyKmA3QtgXwsh7f9gTsuX+YJ3ETw8h4XkUn70MOHWH4yyncL7+RYGaAAWMyenqNWGkMvURf7K\n",
              "OxNZVnW5o9uKSmIE+jnnj97GUfeBgVm6PQBbGb/ykS6o+MQQM0Uf9VVUS2ktO4iEqyRpomtFmMzT\n",
              "lf32AWD8WVSCN8axqTEZMkE/+MgDxGXw6FAPdWnEYXlG7jk4CkeHrB2zfl7zF/Cfq/d0HHkVoWPd\n",
              "FetEDStUxipytpv65pXm6bquRSkV2i3pqgB8IS1tsOPI3KGC/HRslyCHjp0dfif9w1NGDmURTMTy\n",
              "fyeLwPV5mzPj3ziACICRXk3vgDD97tO0X7M4MYKLJd2HPmhUWW03kYyYoVebCpA/b6DZC28Zo8ua\n",
              "A00uNRzDakJYrIzEElhKiDt31jhSjt3avY+1nqHrDEisdxOOF9tRbafH9sEU/m+c2RtOtAZUuF2z\n",
              "wR9MneVidsNEv0ntCk6Whm+JlrhW3iqoo4jHWrilqiTiXhkRzfNGGbnCaW5JWyfOC1w1Yq3GIo1s\n",
              "Rg+kk5j80QmVTVIui1ufVmC5Jga/EZbWdYFAI+jzPBL59ekuFk4nwxDXoHmrfgrJmgKpMxWTjOcs\n",
              "2HH8kPyikPjJBMaWSTkU6H88ktysK7miK44UpSBGZEkGvplmXmVuFwgCDnAJpf9um8ATZBa6xYb+\n",
              "WnC10W2rKilUjJcd8JrS73QP9glAN6RYUbxJhaIQPWy7ZPdgDJSTw7bQxNTwnE7wCN7MOY+5/DDe\n",
              "eY988wNzqiuqMHHyFfEEATqMorusWtyls5vIXSddgs0Wv/QW7WcYd5QBAk3iTw2oMunJ8//Fnnnj\n",
              "+nwBdpZ6cXyrlBjqH2UQBgP2kA5MpevYVRQDcj20t3dBL/P7i6GJrv76lXt5BACO3ce39nfigjcO\n",
              "M+NEdP8FglMleakwn1hfWTcPJxdS3ctVbkpP1+0mcq3IxJuobj5TmbokTeQQf9GU2eJB81CbcGSW\n",
              "m+LfvMIKFHLWZYyRfM2vcQVBMkyDzYS/nXU/IQkSbZNMbe5DJS+lF8mOECKuGrl6vPCKZyTFYohi\n",
              "h3KqOB4mUxdAoezGi3h9d0Sua+rrzWmcRul9L2tYFIe3bS7mzKPFaoFjCMMTADz53NazHSp4qnM5\n",
              "Rlm9WqfM35Sr17OF58aJ5bgMZiK7LUukfiAKnxLD+JbwdruukmEE3Iu2VdiiCOBIE5k6D7f2snbb\n",
              "b7Wsor0cJ31AIoetnni/SwZZZFgGId7Uy1w70NAvsM64bsCguQ7ZX74osF86DG8GdMc0yYebyIn9\n",
              "wEgyHyP7MNYHEAo9DDhc8fCyu7jmj52uf//joDoo5DcL6itldeipaAF3RdkU1pVYb1tVEwUCed72\n",
              "uvNDDUSnSFOvvkCBjCkoQO94WU3UiMFwTbJhY1BsBKKfdjhVlLCpGsPfVMcgnSBXAcWtGbQKSqNI\n",
              "PQpWm+xst5JBJIs3RNr5BB69KP33ZZUAubw4nznJY57TwckfGKlZ+vNXqSf8xLK5rSn+TszwCGRh\n",
              "RSI/pdwSeBLYxH3T3OikDGkjH/Xvv53Cc/0LhTSgl58ZCaLWX0OK1kYjDZlmTBM1pNOi633YPI4N\n",
              "pTqyGJngj1KQemI5fUuXGsSdVs9fawftWONcLuPSf8MsUk3yHmqJyVd+SuwH5GjsiU2BAZUNh/Pf\n",
              "8spZh9qC4Tu0aOf02uoj4RyZpidZiPwwaRC4tstx/ms2EYD3xR1PA7wq1ABlQQAACmJBmkY8IZMp\n",
              "hBP//rUqgArhIHLpFSJku1FV+YrjS7xRRc/4bY5VQAbVvOwSwD47TtjzaJQhW1L9k/4d/CKT5/H0\n",
              "7Hpdgxc4p8CLhC5Yrv0quiv/IPAftwb/z0kC83apZQ5+anPP3i+RlORyDhlmQ4EJSz0PnI0Asaih\n",
              "+uhWpCjchSs7kcIPGO8BGvVclSZpU4ilqoyArFPOpfNZ7nNhMSHJRNnUr/0/1fKacqEOhZYkPlWc\n",
              "Gy8TaaF3+KIw7W65bx4l/IHodFSqwFcxwGhM+ZPjIW+/pwfwPz62v8Bzl6VOV0EWDcXMWxiPS/Bt\n",
              "5uwTfQBXwC5JWeNqcXlI7TTuVIKBJlWQyGfrJQJchd+0ZL9cLDTvKLoq1OSqC/h34QSGU1lNb6fN\n",
              "Mwx7e/V5joghQfXO4Jhw6EvWBRQ4XLgTH2qJfsrHcUB33VORwwgSsQo7VQKqQV40a7xXjet9j+Zf\n",
              "SOqu51Kf3uPSqKy7/gJ8V+6yk1wcPwPCJx7sysGzGzp2TaROBwUyfVjhMjQSqdg32XnD2EnnF+q1\n",
              "y9GUZzqv+s6mnMHIcXWGp/oaLqqI8Jq3oMybpIj3eY8JRogCGCcrRSxb0VYtMBOPzDIZFIdVmK8U\n",
              "jJ+MPIsUf6vSGLsnnZxhpHRCky2H5L3iRiEAAAMA48kDYAAAC6v84Wj1T0EzfYs6wdbsOtCbva7D\n",
              "9IuTKKhxDdPSCncHofNe+w7PraQ/OqCpi44A/n2avrwkDa6trimTBc6lfFfpxtG2A9N1CZjisI8X\n",
              "aT9BU1uYq07bGIc55QjyUseOL0oW4bjXqgGdSGdVaXcOWBvIyD7rk6lA1khqMilzIkrOgfFrIjX3\n",
              "GTP0OMZbA9Tf5jew7j4fqw/qaCDzSBMeGZO+qNrndVBDD7dhM+UeuQUjfO4OZnPlu6j1zL/ieWUf\n",
              "U/nOHS0eBYYBzOzKS95ZyAg5z16RZjMtrba9lKqhaKET+MFPLE97WbKau0VtDww7lARkgKz50+Bi\n",
              "+lXkqAv9s0kk0z1eSM8K6EmB6v/I05fz0jZCpLrQon+tq1GRk4jWYuu6y/+XtorZTKNPPvc2xwQZ\n",
              "D4mbjqqXFr0GGR52y+SqUxztCu0+vyiYxV48QRb2g3b+vQeySWZmopibWzyDGd2soi4KPzCv6yeA\n",
              "KToZjfUjSMT3Od58lk/aHQM34/I1/mzfiRQSAzb9ok/6vUVPbFFWXn6zv0zRzdjBQQr5wRcTRhVY\n",
              "sfLGMo00hDh2UMKkgtbODr6Hvuvm/3ogg1SenUbIty1Wa+gvwSujOTxg27fLpktz8tYcp9XrMZ8i\n",
              "sDnB4MXecZw5tY1Fpxp+dWB/BbpJCnYC5pgL9h9oCQIFypcR+ZkDrrAtJQ5TnJv8+nfzgJqR4hdh\n",
              "BqApHY/pMMtdqQhnn9txf/nu64aIGVKETfDU391EfV0tCCokg0joZAE8ltQbDQwiHzGZOVR5BjQ/\n",
              "XMr8kP9qCZIIlcPkgHXcaMeoDcPDUKp2pNyy5m17ckysbypjupL5kdfojBK54Cd4BAl5lrJdytVz\n",
              "FaPrhU6GaoIaaRRC/XUulmpFZvrxf/7iKQmbDhn+BpcTly8fnl4QMq2B8mTQJWmS2mGDOZ9pkF6y\n",
              "UQqOfALGPfXzQF+jBqaJQqdFv0WoB40Y2BI7SCykK3EGwJxICb0YChHJ43Mv47EC+QMCQ/npxgPl\n",
              "/777bQsVkYt5z097LxKNMvwpchhOlbFQq9tyQRYTWarVCke11Thfe0h6wdrybgW8QiMNRqGsVY8x\n",
              "ShDpFe2IE7cWXtHQhYcGEqEIDF5YEVnkxHK7EgXpJYoZJnNBIG+k04y+AmhyC8JdK59vFFdtKV+F\n",
              "X1ME4iaWPDHGyZo46IIM/Q55leKJxI9ehfejd2JhmSNlGP+OW5HjMJQ1mQMQeUTPsls8LmoKxx2F\n",
              "qL26bajXWqIB8dWV+6IKAzgtX9c0471pBtuU9KYnsC21pYZMeCocNcBEtXGbd6h0TFZUAJe6hbQF\n",
              "H4YWgT+l+wE7pYUGYDFysjzNqla01dTrLCNp8/Ti9MAlmEbs1x0LtlJD5YiR/83f2C1oisxbHL0s\n",
              "Q4GuBGeW4GOEYEuE8uFWDxkozj1kGbKQGKZR8N9e/GmJV5rSWD41Gu60VfPDB3zeS30cr6HQxLJF\n",
              "iEm4Bg9vdPsBQf6QgoLbdg6AcBg4ufR4rVpeZLBj/BVkktrH2vVaX8HJzuXP6oIHvyzBwRhsSPd5\n",
              "L3YdyLAv/A/r8yDVcfWd1kny7dpPGGHRc3e6YJt72ey+STcZRLyOX5LVFiqV3AgnSrpbWloqbbIb\n",
              "QHexcjUZo7hAaXP/7A8g2dimJSueg431Lt++DPzdfKdxzQ8GW0JGyNalOit0SCjXQi4STe4M8Gw6\n",
              "CQ8yCORT4aV0LOs7E5RkB0juMx3MoHYTGFROJlgjPubRJrFBSgA7FoFuE/Y6c6diwDe0zoyjMjH2\n",
              "0crVPUdct6GzkjzT4Q82yo1sKA3A6ey+V1ZlaYIksUYCTARqH11odp8HUcxl6EzjGceTCstlEu7U\n",
              "tJYsQOQkw+56+2EoVN8Xy59T8cPI7rERlNnspMfV87MSO6zBbjUN8whKcskHJgWwMmCc3FI6DKRD\n",
              "aOS2xQokp/DYwziFTRI0HZqHU6KHx7jSh4fKnG6usXvEJjMS55HhjRDin67R0WQlhUIiXfkSpq2f\n",
              "0JPo5e17vNhJP/uTGm7lo8QuAmE1S2eYoz5dBTLUoIfwKvK7nK1NGDrG42bgikNTxi/2kFyiNFTm\n",
              "g5bKs7/EpkkT/B8rWmkbyiOgbTiZnQgBpPv+hLSYqCgKE5cwAwZ2j/c30sfntJWw/KIU1mZMMc5/\n",
              "2ST6kfyYRcoUxxXy+chYkA9okMfycmMbGfbT2x4GnH3qViXyMbMoj6l0X+2nMBs23HtNCSFyqKqd\n",
              "fSgTK1DoYrH5QHZuC+FZ6JtP4OCygBmAsgOWB5q366FS+eF4ZrYXe1n13ckq/hH9igCgFzvUvTcd\n",
              "yDL8pXXdG+G6JLrU8QTik+ZiZBcom6QTYR4K7c6H5o2s3wDHZSYt7WJi+HdqbRkMI41AAmf4udXi\n",
              "rgf5kFv10g1UG70ERt5w3uuUmX5eqlD29JTWyBmY7GFaBAw99TupV7ldH2Co9415MFs0cmdOqEJ/\n",
              "Htu46yKuxU5OZZyJetQKy26fQP0KJHM0kCkTS2VXt/oRLNYsinOQivZLhCfpjdzNvx0QKU/YKlUH\n",
              "fuj2lEPvzHx2MMsfzjP7Zbk4NXEVXWAOLX52cmeRfOaapixLNQnQN+5U+j+7trY9E/4ukFwKe+7s\n",
              "QuZozxhBmx8wpjvYoW/SIbAsrb90dMEo0g1X1rFpSwhXBxOHfQwmvAlovRFUPwe/77GwJYUNMF1A\n",
              "8vj+Bkx4hAkxaZJ2+aQ+lcA0PMsmEdu6UrTq1Gc4utihzYZuB8q0YuCfD21oRlWlWF8rxr4GOjYb\n",
              "HlWVe9Bu1BAwH+OxZtpD4V3I26PHAC1wnfOVLdBaw4wgdp0YQx/Xx8VRvr6FMQnAWwl19PCMGD+k\n",
              "NwSBJqRgFiTYUxBhvwwsugBFUqb4PdkgzAAAYsAAAAitQZ5kalPBDwANff1jQ/rugpSShBsGXJIc\n",
              "qABD9X8KhFDgSLPnQ4Bj1DGqJQb4oT/YF6LjmnOsTCt8YMIVh1B1HNhWMXS0Y6dcBMyx5bvRY/vr\n",
              "XwDZoDAilX/nMQJOc2lR8GxYxxRXsPm6iTYSLO7F4JJZgSBOA+d7j+TN/pMUPtatJ7ZtggkCql4A\n",
              "EoZYq/kjimvzJEN7/rg1LNxdlkU++a4KoH25WRQp3J4RYJ9YwzByvv0OWVLMHCsnJ5zxoTFnr3RW\n",
              "XI/5YuT8wF4juG6UXWdzxWioc3OAiBMYnvEQf2589a788QhZjW1Nwl9400rOeecyRg3pTtsr/GPx\n",
              "eyPqK/CadiIExXamrsFSR5w1BKzi0aP+N5B/sTcwP8+vboXinNW9LHPTrW8e5PFQ5NrBpoEekPXR\n",
              "Tkkj0qozSy6pkif7zKl66HkX1hZ5XHIAiOnwaC98xIyDzeSC5I5Zoxt/hqjSosxhpI2KI8U0o3zR\n",
              "ANPiXaV+cfgVWd4HwoyqdQas9vQbyO9lyjex51qfzQAP6NmJwFj7CMBy6PK1SJ8l25Na9lHxprbe\n",
              "lErqOFLjGnj+bv9QYXHLh6VMpphrKBZpYp64UaSbMqng3bHgec+EE9oLQ7ag4NqEhvR7UA/UlJTc\n",
              "k71mbT/opFtwfTe8pUNdSlkckTpzo8OSLej13x6wHLfD81k3R1GoGWfvj3RlgjWbejuhxsf1/Wq4\n",
              "B0ScMFHFfQc7i3xpb9yx4HY+SosYab16gY8LHqA6/urcHAl2QtnZ2oBMoR8XqzuwCbb+5DST3wYK\n",
              "HdbIFuNlpUHpKOlTxth6zQlXu/ZeWHn2YRpz3AAW2oigLL6LgEYndduVUsf9JYCbIc0qiZiEyVEp\n",
              "WoRLbgSZCKW+mbFxsE8zGS96OvjBA5v/vCojoa/LRWY7dh3Cec2EixL9bFpZlTO7gDDsbbkgIHRK\n",
              "5PWNXQc4PQAncMDjd8BuRTrcUG1PDHGt29ygUWA6bnrtS84D6760MVrYgdqoVdbF+Ta/SCBw2MDk\n",
              "41BxtGdebXQUbGuIhP5MMWJDiV6zZdTeJ2MWGmqZ8gqyMq3bY+67/qxN7A8QsXRmKWHHsw2KCzMk\n",
              "1/0o5QXUyF5HqNy2tT7/Lbm9XraG3LdsYR3XXXE0TAjI4foALY5U3YxcaDf91epVyuaAqeTFSKJr\n",
              "7AEKa+cVioKEJfcXRttL8u9HO1xfnP6Yc5H38Uy5m33tr6BmgOOXv3U3Qk7r1HHSd/kx9iKxiaah\n",
              "TQjoE0xDIkc6YI5qNuM789oI9apm6GbkjAveFBdLU1d54OOpqVUsNa0Vx6tas0iQCwMRZ488wePZ\n",
              "xvLh9AFHZ5PqH/jkI+kYhAj02ofb8MiZs8WZ1yqOpjBZQ9JuNiMkKFPj/F/DZd8+nceGS5jAzMOH\n",
              "cohWKyqe6bdVQnrpjEChclSB7tISGxxIQiSTItdObB9IcXHQMitxVYnA3saWJbUkd4KPc7KxrAuq\n",
              "49MAn54gAdfvB5L5IDO0W7WGc7ZuIY6odHLGXA0zNtcQVr+1nSUY3oPdlCoTT/csqPSlsSdGbBDL\n",
              "wcWLgyhZCuksmSLvGj5wnpwcSuK43K+Sv1sXTJ7k1sUb+bONVcaPy784HoQxUtpEnAif4NlkCle7\n",
              "KwwL5leWaJi3Vzr5LWU7DswX6FgSkMm7ZGhCThsCVrA5MgAkSn1ZNfC17r29PXCNEOsChmMzWcbr\n",
              "0dWoSWQEzVA43P/TyY/xpze/FrpX5MNO50fNVWAAM3BAr9vYW9zCbIEYckL7cls+gNl0LYG7mm2u\n",
              "FE2RQ2h+qux8auVLADMvl4lwXfzWCYq4outoCH8ounhyrV2JHuL8YwnQLiyjSnfr6TRqwlSaFFQD\n",
              "y6UXlUwqV0LD6rOUgXouN4HYtHsNB2ABVfDMlcTNXGQVz8beyBODMkt1VwTCgcI3+JvMRqMxoAmt\n",
              "aay7BslrE7NPbUN/1V72xm0jLcnLojeSsyYp2+ce2Rq47UJK2rmwhjoMDmHaWU3aCpNiHRS7PoFa\n",
              "MoNzxFwaLZ9Xb0ZA8t1DFhVPKOzyGkBOqWMJZ+KWSInwwvTjL/ICfMxk0eEBaEPUqXMDhmrnHtL0\n",
              "ciPAcIAr7bWVfdFOh5hCXUM9Lr6sv/RVGxtGqd0gE0uRRUGp4OzQXWIAmCMxxNc4yTk9riqanmvW\n",
              "PHck6rUhCj4wvK2wdPdW+o1Icxs856oHNUaPOJC6V3esqbmn3NoezD3P2JpHyTCotY1zM626ehDg\n",
              "v4Mk/PZ9CKJnSEdgzzx/76n4bfvQydBMqOqP70+7+uwfP7JfyCYHcPnmGi4JkRlXaiSVKPovXxiI\n",
              "6EG+bQlvRVL8qA4ahNZ+tO+vSkxkUVez9bJfO3pOKNSjqN+pMjQrxNk2DTYPaLvF4PdtRaXUoEe8\n",
              "XwXJ83i6kjwY968U3aJ/fL5zmh7sOP4C9rDWO7OwGPn7k9u3U28eVEGXPz5qzm4zcCMzEPi7paKI\n",
              "l0hjbQU/4IRC7Uztq7V4s+mva9/M7/B9LJwT1z64SEqS3x4hC4fqqCJa7cBgy7+/I7BgfephZVMa\n",
              "z3vltLT5NAgDuvVW1wOFLvpCQW6IbNzeBsKXVUVgYhL9b7U73fDUolNGaYvrwHZiJmJ6UDyHpLdx\n",
              "Ot4drnuaDvJXzm36qzzJLAGfpF9o0PKZkEIRdCoEswqHayRTO55y58Rgg5oBAt1c4Mj3O+FMIabg\n",
              "e+294BJV7Gqy8hs74okD3G0MvITEPLs/ufvfPf3fQiwoOK5OeDVG8GTk581gNHrwdhgeZziAzJ01\n",
              "5VDnH+qefimLmR/gAtka+A01lIUOcZ2FCGlMRGo10yQSAhHqM10OKWr8K2g81qjgrjR5DvdQJGmM\n",
              "PQPfc43m5ebqMpjU3qdI7kjgpbNcm8vIV6lBVp4Za0nEW7QQlvdocYHuNII48R1o0++vZUkydlmL\n",
              "xDsu8O9k7kKy2rCLLZnKoEQejwIXAjVfKr18jEAFlQAABAkBnoN0Q/8AGM9AIg4/2YANn1RLXsHp\n",
              "KSni299/InDUoWJIpK8T6YiLHquov8iw0KMJjWF7ZwjA+lwbXVfaNIJ9HnRQ+LYUZj08UWTL3+Us\n",
              "1ZA3J4v8e92VZOCv7gcK3bYdPzagkwJu+rWU3yElkn3wOV9VUPGsy3r9aUxoZczjpO63h4VXM248\n",
              "4VQsA9rHK6Ozaj1Zca/mxZP5T8rMziILx4fe+uqsbyITI+MDTFRE4E9h7CTwq1oTWY/oeiDddpV7\n",
              "mmiKe/ajZpsomRPn/2BTwRyp24s/Ww1ep38/tFYiKwQX2c4CD3dGezY2osXn5zxJG9MLJZeo1aAL\n",
              "riem4tkVOeApNGNkGGApX7vP6o3i6Rk3dXthblttdnhhpXI85Jz35WVuNzKbcEM5OlzbxzXDlU2s\n",
              "iIEHAVxqq2DTo2WoVhDXwUyhYcOV+GaaCs32xmBhlFMg7PmBNXFvmS8ealTsxelkigrUux6iWlpa\n",
              "zjGRv3Rp6qiDxcTnjLn32ZNzVMuYR0Wh4UGxuI6yg+PK6HHU3B7MRclzeHGzW++cGqCs2IzI+S+n\n",
              "oL2QlfbrJuZtCb25UrcRS65r5wFxhNfPIsjlSWFepniWSbd7FX+w3cxFeG00MUH4nW4Ff5jMM8qM\n",
              "YSFQ0oRb8eXQtZkHjcAv+TyykHy0jAV4FLhtMSVP9STP8UExmE5PNFhwh5OBbt3fNXwUtoBqrCwO\n",
              "TMtS9dARoqDblmb0X+hYBl+nXkImY8u5QxPwHpwwT6N3fUNPRc6ocmmat/GqwN5Qz31pRwTqKe8A\n",
              "GnFqc+lO/SMbuSPw+hnXx/54dxx8J1i/fnOhMXWRRsRBNgTYMn6Js+vgAN8jeeBlaoq/BfYJZs/p\n",
              "9ng54sgu3J7KXLT8xY3MLWMZPtKJw/vgJ7+Yo2Q2b+CmHCabYV3q/fKrgL5OlNo8M1F08YpzGcNp\n",
              "zsr+IP3fj9s/oiVR+9Q83BZJXHbt2Yt9Pa6hrLOgk+yRQbeXjeNmz1HPldDCHrvwkWGjRbsgBps/\n",
              "MsoMVBEdALFalk2XkaOzGUnZLhsKYjSnRr7Udu+6xRrAzUSyXrYovY5HqVCHzxC1lBVNbaCKlEzW\n",
              "W00NvxvSfvNppTpOtSa9FLslKPsBHsLuA5eB4ZF5blBEdvzoTzKK0SAAh32nn7lL0XQtnxpUW6+F\n",
              "eVeTp3gKhCqKPNI215a+z9Eey04OtsYvqviZo8pKxgiz11vTgHkfPRgLqN1ciwV90i6wrD+NhWCp\n",
              "EPM+vUUezNiP24S4B0zmUECWK5myKsg5fWR5Mxb+KSJbjdd83aUS8gkZ39fVibdd2XLONgPHoiSx\n",
              "bcH8GPK9dc1JPVmbd/A2NDC5ECUl3jMvzbzhlan8dQcvP3ner+lfIAF3AAADDQGehWpD/wAdrCE/\n",
              "QbLeaHpQAEQfIld3RGkV2nnXa21St6yxDkXsWtrmRXLk5foOwNsgNNzXbUmaWQhh3fSC+oKFpBpr\n",
              "Wi16ApTdrMih+wnEXunJ9cvLbzi63qmZ6F/eyUS+rPs5jPZzR7gcWAoBehLMXxEbJaUVEWkKHPQW\n",
              "9SoynxHAcBGheh3mAV9+sCwY/n7YrGQiItIrky1a18MrhqYpa7j0seJ8khUnEdD3C0FxDp8r8GPq\n",
              "FyEFL9GSJE9L7rM7TxMAVWDQp93T6qZNrjnDoM/dBq7XrH9ZvnbGbTuzF+vX+zp+LVnZSMek3rtx\n",
              "PNX9LKgrB+iyV6ITwnj94Vfc6q+PUN1Yd6pWaVu4zv4yyG2QawN16xbOaEia1v5d6nSPIa47ceFH\n",
              "nsaDV4w9BV60JLHkq/eRgQEE7XH0eF7dZAs9dUZAJwxeXOwSbZu6dghN2PgBev3RMhieOJggBXzj\n",
              "lqAAeP3VbqvgAVupONA2Y98gdWNkGpI9eq1+1A3dpeHpqItJGxL7P9G4WUAIC3SwDujwDvUf0gZT\n",
              "YIa1+7l4V2e6sh1Se9hvpTEzr4v15EIl257EDpJu4wmILwL/kWY5PadV/vCsiQwiyZlacDkNaXM6\n",
              "+mGbh7zgSRMC/t80gFFwFHx0SQkgR+z6NxtlO1/nsgQLt+GKKvZcARkiCdEK/TKVqpWGr22p+014\n",
              "6a1AgZG0Pvel32u5oX+zbZq4vZ0pcy/o2Pi740k5Yg//v68kiypXr0ii1JF12AwPFFindhjVdorK\n",
              "SZgzrDdroSA0+9oOq6jYD/9qbg2j29/ktxLHbQF+hm0IZCB8n6ncm8iqMP/52uLMsvPZVxFv1RS4\n",
              "/+6q8lneLWYJE/tAa2gc2TrwQsDh5bG8CEaXXF5YavzDifLMvxsLAmoOmdXE6C7ezfI+DoBqlh21\n",
              "f77hJsQWnBd1NBwFz4L1DjeC5Fm7XJJTC1i5DI3x83Ie6vWk6VMuxkMhGGvkUIP9U8nyNIN3MM+9\n",
              "VjEdMfMQ6aR+y+6HbjepDIhXJ8VfrWcttr2AA6cAAAajQZqKSahBaJlMCCf//rUqgAkPNXKaRejq\n",
              "igAEQp1+IWPdwRjDNk9QPpVeEChailtfn5Zx69sJQFhE7BMoCWEN36q/3AChxcNsFO1sOymzEo91\n",
              "VoTPWpMlaO0XZe72m9//yODJAp1mO5yxNUXMG1+Rm7B7obg8Ooxhu3O4zlEmG4cg7/6PKzQFrPZL\n",
              "h2UX+COOAcZ5LGMR8zKxwdeiGU7I6FiQ7zln81VDKT8zio89sslLA0tR14N02d9o3ws2ejkHF4hP\n",
              "ZAReMZewPzooUn1v+gddZHB3KyBWA7DMmvpu08xWtPubttIbgu54pMKhMCCWcNK/NtOmuz5+Moyp\n",
              "VawatGOy883Za9jEZjiR9anqtbxH+JfAVo6WHZ+aTTZ607tjUbsqxoiUB/ubRlSms3H1Y3mUQ5lR\n",
              "2pHW8FmqwARgm6PEwCgwGQtdRPUdlTT/dX8KnMlaAAB1gJdNnj5SMYb0Ejs8Cs3EMNyQZpUHJkDd\n",
              "Yd95PUR9XPpkt7WbFGmv96H1EM535SdzhjTgy/StdRYVwiMzadriUdxhGKMpMxKiLSN31pDM/F9A\n",
              "Ge2l/+DYetf9pQx8hKErfqR0kHghwion/kkALmI7Art6RRHPLC530o1ypur43F9ba+BTE6rPAdQk\n",
              "Ec4zkPnw/Umw1tJ2Y5aBSCKW23oIPjSdM0ZEbo3veuWOYbYYvFpjvUpY2upEogD2ljX96VNhD80i\n",
              "h+rq6NfmanCwM5yNG6jDTFGe3UMb5oMgT2pblKz8Tagf3ToFprwZ+N51m7G+MhvzAfGJ0gJlauBN\n",
              "2hDqfd8xfl+/CXfVw5f75p9am+YdHk3Y7bnWE+8krxDNZyHwYSCG/dfCpDQviA9j8FYxM1JICRx4\n",
              "GTryV2P8I3BH9HENquT0Bcrp4pEbYSVTrTOn+OaZ93Wvg08mWjgrrn7j8wMB10kT9qVL/vKWZvYe\n",
              "9i/W5r8vGxxo3ZL8BWO02bPyrMEd42g7hTLgL0An3H8yI04hn1WVGuRd3lgsYv1jQLL8HoPYKKSY\n",
              "+kY5WaDscJT7aSWAnUI+GW0ckBL1oXCaLhg3OuCxYa3rw1c1zVrEG/eUW1wyaOGltRo9PlkUSm84\n",
              "MxBxvSXBiz5oX6jbOpMQqlRaMPClQ5guswVz/Kf8cLli5GcwoXSTqnRqKrJP9by9XXCTyzaa2L3i\n",
              "J3Pmswd+eD0PT24ujGmUX1jqyA/TIKhMA8wd0uLfomRWSqt+Z8fxWKWsXTrlsCnug1mCSNk8iOIa\n",
              "jDY9POx3+3JqobDsG2s9PXb4j3v30JY2VfVB0CwediZxqhfkxbH4siliyhOAuoT0bd12BjQ6ESY+\n",
              "XtZK/CMHrSGA31YcaZCTCi11NPX67551BjDK6eDqdLyzLLW6D4B27JIanXsKU6CRRqH4LE3rAw7k\n",
              "Dj+Y0DMfSikdGFCpHnvVYylZawCHxUPPSw5q07NpBER991oYyll/oTtxZSFdfVaRHezH1XmTsDyq\n",
              "VYW7qT6mQyorZt1b3MLpeOb4FZI9PKSrO0FufhDh8CSJOTr6PEMocnYExtAPYiJkiha/bFLPdJqV\n",
              "czy+XnyBK+BU6mOCZnlLtVZzW+kQKMB8FjDq1Hqen5qWxIQf0iN0uMuDyHFzLvBsLXKUMs2qorNa\n",
              "2Qy3a1NNcmnh3f2J01thiu2JrRSeU6uqZKQesy1AigHkbRUrw65Lg4egjOQP41Xm8sEK9sXrciUI\n",
              "PrDRBS6tprg9+N6UEIAX3UTdr770JmzFcbrpVl8eSIbIwM0/BYNl4u9N3n4auxmUMHR7D5NS8IrK\n",
              "np7pRCMaD4CmQ3CHx3UnUrE4NEw3ekFqPdgsKF+jyiV3Gx5/ktE0Rt+OF9G3EZLcuJVc9P7l3ibv\n",
              "SrckawgFg4/4CI3SwC27Y2JllTJzS3msHULogkjbzrz0JZf4FgKt2uILrFjHTmtYo1TjgsAvtjGy\n",
              "9/cU1+vrGi/m1GiD24jPcxCYLLLpxvP6IbMgAu36XY6vD4rRDPTCvSSsBfTyb0949vmWxZ0dNIHP\n",
              "q2M8BlRIP7pZFgc1m7pNLHMoEQNtaRUdkcUFmESDll+HLeEOIiO3IuQo7t+otUzmXfHbYHS2bUta\n",
              "jGO/UZuh7/W2QgxGoaOA3/oJlBIxKwn6UH/6Bw//urStk5tSASBk2CPbh4w3QqpIRLpwJQR2olAE\n",
              "xqM0aa9e1PHPdg4uYPsZcqcEufkjmzq4ntUND96ugFw0nebdKEweoxD9kc3Uxfh+mS3/gxtLwzib\n",
              "TwK03hqk8+F6SRvGVpCsH4StQAA6oQAAA+hBnqhFESwQ/wALWM8mACdt/IiIsqX6AVlFIWZ3QnKu\n",
              "O7LsbLZJMctFwAD49tUZSO9nkmH77EnzLY/WvhkfKNNZPmO/k+I4yAWqk21Jl7I0KmaJ8gzrK3gM\n",
              "KS9Qc1cVRKTZcZdEvJZJz4LcUAM4E63zno4qBcsyPcFUF1mX1EABckX/mrGpZUxDx+SKsC+cm4xH\n",
              "WDGzVQeCJX5Wf8I9ebE87FK5cu4S+4nOfbNnBKji6UaaHyPYpY9VIE16La1au59hwj7tdU9+yr4x\n",
              "zJNzaNvXS93VpzwOw+R0KXZ/IQdIZyon9EMgjUWhCFv4+34WXLIb+FDO4StAX58brZBF2VaIp95W\n",
              "DVpQuri+bMGGMHpFaCNVaaeGjNWYfVMJaXJ68LntHFGanECahh7xyJgGEx+/hIHibKVnnzTmhqF6\n",
              "LuVpv+E43gRLiTh2nnV+H3M1jKu+YJzZuI4QwR/5i4iCEQ5D089kmsC9r2OOaym1zrr1BPaNrW6t\n",
              "7OEol55oSRphjGcM2nZ1yS/9x167Hrr7F7ORc3LtKw5eMZorMkw8Su7Y8w4O4mcMZr9OyCphhp4S\n",
              "7PQ4i1P3J3p7yEscQtg6LeastIr7eI5OA+a2TjGREwmp+EkLjOiSZ/fvYNN8IPnDICUN4al0AzoA\n",
              "LZazcWqNvUzr2zHpZsOlQ8XpQqo8XPNDCcKTNH6KUFm0wS4xi9rPEr3dbfjx4mq8/VqmohN/HtmC\n",
              "INWfL/S2fjkK0d61y0U0cmHlbkRsXKNgjGObbDBoItw+e8D7mkJ51I8kuitsbkJ58hz2tJNrkGSq\n",
              "NLZRqu/4cCpC3qdmdimeB2vIwGjQELpwy+IfP9JVXWF2a9rlNp56x0UCe5HjZpG0B9n5sYXC85m8\n",
              "REJguY41uSEMyuYg1Ct74/3F1HxLKFWCpu/3CrF67ddg3RSu9NIOZmEerzEYVOlwtjwtmmPIXSds\n",
              "SOt5U91CQxdsSWe+DdbULXdCxfaKKU+YXpvvgi18cHONWACZRfDEEqc0JorsGeiTEnim5afCPAUN\n",
              "veBX0QoVjVJV+xCyyLBvDs69TtlZYGucba1nBasCZF305UI5sb/Psa2d9NTO8nfFNhPJ5wu5QRLF\n",
              "WRaEXsAG8+zmv2QUIIFaY+XDoBjJYomZsukAFs7maibH1SBTJrJ1qIeRqVTIzYF5FmR31/MFh1tf\n",
              "7OMlMH8ps6qUd4WWAmiDa9E9AM9tmTT0IrogBKqh89i7olJQUIUvdNyMibZuA/yT2xhI5zWk426P\n",
              "Kta/mQF+1i723OTimLOq7dL8uM4Noc4gmx+hnqz3l7bKXoF+Be8cN7YNyjky9axZKe7Fi21gACmg\n",
              "AAACKQGex3RD/wAZMrMAG1XZWKacIrRUG0fja1LKAzdak4YipJj2jtK6qS/Y9ZgO6gHJHr9Floqc\n",
              "BkyLS1cb1QrMksazL2IoR4qMAuWcNwAg54TqXNZedYfswNVSEIw8d+FeWOfIXVh5qxDiTJHFaVG9\n",
              "9Tw+90QJFKl8lL87+s6KAxnrfly/jhvW93XfUEfEcBvuIyoO9F88xHh23hmi52qh6YLaxzrB8XzL\n",
              "Lky2FQTchE041yl8eDIQ+vmQchqnyuk18pOUeo9RMpU28h4X06K4MdmLS1RJCRcVCZSUABK1m6Nu\n",
              "jkyIW+fHyUG8pihyUtANfO1adYiVZEEvJfG29BfnynNpkA1Iufl3A8zQaacH0leB09JeNvhXX/gv\n",
              "65lRsNOoG7UoOF01003UqUvct5cv0QPktv/Bdm+mZ2upo7+2prAEJZTeW1L/NTJD8ISi85f3xaPh\n",
              "mTNcya9XbvjmITGUtg4jluF3p0S37Z55LxZNaP6BPH5c1JIxxUiOHJJzPIYX4JSuAc/mHYotLXWW\n",
              "IgDxwWXtYEJ6lyfHZtqeH1CM6wk02F0SBFIJJnTZ+ix29JyPnRH70rQUIxyGhgyNmtEz0v5HGFzq\n",
              "Qy3hCfBBaH5BOePR5O/bzfEtpW/bariOv/nc/KrTAdtj/mlq/JBIVKoc7V7tqNB91Nx8E7ocrhyF\n",
              "/eu9qaTACRF3yxs3a6CcztEmZEIjvPlSCBLnAu5vU9VtzOKufUqh/+gAGVAAAAHgAZ7JakP/ABkf\n",
              "P+wAbVXdnIvgpdPgVrtO1HCWOHTY12Jh1hhvHPWHPY8WmiuW2sDNyLriaYPSwSdfXfC7SxFPSlWz\n",
              "/Z9jgdF4j3csVU3Ey5hRIFxMt6a1sK5mAa/kxRNZoKW0mJ/oXVnuIdWOI6AsFctQU7Gg5lBQNwF3\n",
              "oiyJRQw2LJse1b22x2/5Om+DRuaugLAXAzud98HzliBJRPM6kxasITW+Eu276cE1/j6Dd1RgPUt+\n",
              "CE7pU0i39DD0mKdwwZElmNuiIGdgmfqOuJrC/pbKkDOCKaOHTPAKzDATL+1Reeae7uMB4CzglGaj\n",
              "Gp+pMgfotJ8/oLTtbTTkWEXbf1rNiznT3Czn0W02qcAOVHx0qLyc31ncGqWIqFSpHyKidBlPGO0P\n",
              "vskXtv1GwgVN44/0QIMA3CV4G1Kw6XTiFesMwUmO2io/jETNTlkUWtgxvjI7Pvs1SlRsRy8s4V/G\n",
              "m9hoYVlAyQYDhF7mxrbQQH6ro9/fVRXFrFZB5Xd5Ase7xjwF9n/13xsOHrNS9pfAVUA//k/rjxll\n",
              "XLNs/mbvRcNPv8Rol14tgL8ZsIjm6aCc70EarYcG4C+4AfG5Cos/vsdslLcVZx7zgf7L76lB37vp\n",
              "uPmbbE8nckld4ZAAABxxAAADWUGazkmoQWyZTAgl//61KoAJA4u2ADat3nyW0ubNuFHw57oNr6e8\n",
              "pF27wokgFQkOwTfs7Qh5ICrrPGdDcbsfYiBGOPcGITQs4uCxf5FWzYzXgCAV76DHPl4WAv9yJMOz\n",
              "m9ke7nbEtT2BGUlE5e/yfUoXPUchZZAFXt4ABWuv/Bk+TkHXgcPgP/IXkfHcISZlrD5C2hofC24M\n",
              "Z4aMaD31lRB37Ba4AvS9wlx745fn4RVqFgK+j/KIh0vdknIm2ySeovJ8XFzXajv57VqKAow9Ev8e\n",
              "QDUbeUPdWaprtWao26DmACtHU/xYLZj6uhN6hA6EPfBZMl0jcEEeSoEKgHvhg3DdPjWz5AFoORR3\n",
              "7SsFl8fR89As6XWUAmD9bm2+qADAK8PSq+4eRfsthPne+6GK/aZW5SV55xp8T27wXWSchUqlOpmi\n",
              "ogHnt7ArsJLjgWEvTKFORHPMiFP1Ipdeloo7FE/9bkBsoMq2DwHSIxOo+MvDacHZQSC90y/xZX8I\n",
              "QjNrubMHgZErFhM9e7K9XIAXLaeZLheADd4+/lxw92oV6+SXVjZrGROvcEV8bko/S3WajNykstDO\n",
              "Dp5r3lARUtW4O/fQLOAbEqUTLCWTuB/JJ0YR4OdrMUlg+Gl7ehUxMvYTbdMhgr+LhvlCVk52teLb\n",
              "5fk1ULDI4K9/IqTLp1DMcS51F/8mqIz1r/QRbC24TAP6GUH9IvFLCpg7DmUuUYLsWOBlXAjxeCMe\n",
              "L+I5SgOs8SC9Tv8Bm40/TsV3P7rzIDzJjz27Jv2uejvgIo9BfOYJIwOeC/7iZxLlolOd4Bmgj46P\n",
              "PXAxO6b0tA3NViaZmgQDdsHoXUCwoZ0pZT+K30HD8YxCtQ4iCBVjktYlVUVxjUqhaubKjxyFmptg\n",
              "/4Zt7HaJpd1bTjzg0VhfMJM5vHaYoUW6ZbbicQJ+30BmvfZInqVRIbhg5m6uoiWGupbq/YPHvzXb\n",
              "V12fARksCejaq6AzddPNvGZARqu6d8opXWcKB6YuGJ4n1y+OjWryIdWjS8wFCIkPrnyr16/61Qg9\n",
              "M9U9FITqyB2upgvhF9bBQjM3Ao0SKI3fc0l88s0Kc6JlEgjAAwXRzmr+saU/+n5U/tPCeRjRRmeZ\n",
              "ciAfRh9Z7KSgTO+mFH1TdUywAANWAAAC6EGe7EUVLBD/AAthWYAJ2+e9Gal1YgGrJ+l1XC2TFLK5\n",
              "cgWN6TXsqpr0lCSeQB9FpGXECRfwOok3sA/veA+pbtgqcgb7FON47G23wq1hxD6dHRx/+UG1Pxt2\n",
              "+1ABfdTiJvWPJ/fKC3ZrgYuG+5sWdDfy0yYOmo3/nK1MIXQRMHrMngUQpUD/Fo/6PS2y4vckMNhb\n",
              "nlr4Bjk5tUQB6QVRUmoDBS6qF9kmaNokeJvoKfH79KYy5rnNdKVX2T//bDhku4lIfsMsxebcrmFd\n",
              "uO/ll5i58XPBnnB2j/tdhus9D1A8cUuD10aRsOulAVv7qVjfLNhd9Z85vvnde0F+p4XWVT3d+S28\n",
              "bx/1CvHTwm97wkiIZJIjcoECHJGigWkpTqeff4kHFoWszQ89WGC9R3yNckRoh3Lqi+M3TK/SQKxW\n",
              "2tuMAXxciF1SPnIhsurXGMJqWGIQqCxQe7ZSEb5va2StfaJCMqjYIEJgJG0ExjWg7hqdT0tEWj1W\n",
              "gR/6oFFKEeUCuGwCg9GvErsUDHWzLpjKntvXYpfnsFR4EcpgXzuBIVCoz7rhfotkvFvR5EjCXbmK\n",
              "mupmSGzKYwGTtrPmb7yBpHi7zXerZM20pkvR7YEsrXcsZaAb1tfIhWNPbys0DXyA5xPQ8aca1+Ic\n",
              "EIx99HwGlsBnD+45iy46q1Hfl054fk8hKVI1XN2V9dMG1bUSvYe/mJMdXbTuVUwCERtTipAsefcd\n",
              "DAKYaSvjurM9G1kHH+XBgtrtnUqM3l4evGl2TPwCgowKpUrMfYcfTPMAUMImz8BuOwE8baqSwE7s\n",
              "c5+49pY4sbFLKA43SfUdvOoo4zHIbL9OXgrn44WE+7gXCDPewNXI6ILMz8GIgpajUaUwZapU6JPo\n",
              "v58OslPQBHJVaSHcM6F3P/hSpxpwUedFf3F54XVtNNMiFIQqu2ssdmDxoYe0tLR7QHbweui86Qqv\n",
              "IWKO/CuR1p5Sc9gbw39UkUPZ5xKd1QtzAAB6wAAAAmoBnwt0Q/8AGR3/VgA2q7JhU8A0ETLX+iy1\n",
              "pzy4HzELd2nxRcvVcwDonQ8eN9kwkD1t9693ZMxpaAA3cduqL7ZVVDY6Q4QwQJZWzg+f256wcydV\n",
              "qWsOypxvlVelrmUe4b/yHgPpPtAXBRSWIa+Lr5daIq2eeSEW9U/HdRO5nxpN5lTOtWiNpKRd2zoo\n",
              "i5KJRUCtGMT8nkCOjRrfWzuIAZD8jSHIZimqxx3iV2mTJ3XqZk68TlBuH7/zt8oRzI5O/nkuM016\n",
              "h3LW54eK+OVujAxMVUZGN2EinYP08fIVo/Xbk6HteS2noxyFHHYhzDSb+1IU5veYVhOWHz6K2ZAE\n",
              "6IuUMKIV1TQEFUrERMaHlwtEWQBjsNXong1DfJBrzoz7lBotxNEy7w5Jftvm3Hbe8EF1wUwujcZM\n",
              "dy+6SBebk3Vu+xq1AymyWeLIr+LAMlGxCNnldSQADCua8HPEi42CKwPrX17Bi99XYFdmlXKUJTDf\n",
              "BN5ibAGz9xGdJuQOwLEeS6jABBnr3kcylok8Uzcz8WrjjkCPpBqlzTJ+GirNFG1K4sEWAcpbgvKx\n",
              "hNZ/zYQNIqnxBfuXlZTin+0f0AF5YjuKupA5pfEFqTTzaoelIMab/HhIgfrlzGogEdLS+EcTv9km\n",
              "Lzv6RkJoWv2zkSdp0FANbkA50DQ3cFtscVXdCw6x4WgQgg1f68dnIzmGF3TnlFWD609Z7FgmuntQ\n",
              "O0krfB7L6RDO6qQtmgI1cjHxpcZUnsy/C+yVQdO27aDH9/wXzgCyQ/RID5bYkLSrrgag0KzMfQ1j\n",
              "nkJFRacsX1EqoIOF+Pjy0rgWeGAAA0MAAAGhAZ8NakP/ABkg2cfABtVVjD5EBskSVc5Ab224/I15\n",
              "GRClAEPMGv+Hi4EAyIuBKWSAF5/VUs86uvPLzQsFSKji2ZVUxfu4NcqUKCxnfxT8NW78izHehoWu\n",
              "E190uivRpTFsigoFj02wNeYRilR99LkMaae3YMH0pUoUI4T88YHBhw9VhzDOMlzcck4BfmazADgg\n",
              "au+RwXoBYl4xbRvhgexeZIe0hXPaMAF79tdU0EMrxdkNM5TucJ1i0BULy9FfU0Rbhvg5D1rHiKKc\n",
              "oXGffoY/6nRFOwV4UYdRq9idWsa4fNrdWijhd2rk/vQANG8SwPzi4Ibq8YZV8gXND5QogFCgi4sB\n",
              "LUdhTwNjBiUC7xy236GMWmDjWwA4uj4Dr+AxO9KA5wwyAED9oXPlcNGfDq4IapkCv5QrlJYI+mdC\n",
              "JxRMH2PmdOkgEhR1cE+shirD21V0XZzFp2XIF5KDr8+mM/WxQyEn72YAwWyHF7yiDWFsOSlY2BQ1\n",
              "FePb1RhgopR/geoSrhV4vsNuR9o8tAPa4r84QTFD5/M1yguo6JJPazwAABNxAAACFUGbEkmoQWyZ\n",
              "TAgh//6qVQASGnXiuAATV7oc0HtQ+K9W3GUAhPw3wzKDVAcWf5hkqtzSG+IEvCbOqK8aZQw70KNA\n",
              "3axUc+TLpaiph1mhduNfJi33IRH3+dtKZ70LQS7KYEzprnFgGPlKrxhhNQWvWe/H7vz+1qMudQoO\n",
              "l/Cn67IPk9kCDrkAhwoW+l2I4XU+YyJdrrGSFMvuq/cwACbFYb3Fe30xMMlwE2y3LcUVYKBg4tE5\n",
              "dA4NXXkfGc75hSNsLYP2lwlKCziDtO2dvL+gmu3/oZUsXHcSYYiTTa6ssQcAsgc/t9nvcburCU/w\n",
              "YQLm+W9aHePRnrikcNEnUS9qejQguf/RKojKBYmmFn8wgByCn/zTVfyoEbyvBaeW9miYZMCxAaDJ\n",
              "8E+f0kBmq4bxwUKFJL0PxJqX82vs5FvEPmGXZ+RutoMs81Hx1G1Jkl51XTvBUjiHWeBTn2BOZGJ/\n",
              "9CKKQknk4SzRg8YMvX5QubEbWogGDhIP0Mga8N1JxBejeouCTJPgi3eD3+7HmJiAWKhlYeDezaxZ\n",
              "Epvf3EXGeHBfn+jVDY2FnflfIHrX5P4H5/t09/rA7n0y71Y8qYgTCin9pL/W4ODI/KxTnx3TttID\n",
              "mc+VjljiR1K7m7hkGY9L7F7ws8O6lA0LQRvQl7lLfDkiC47Q3WOD2liYMO8r0cfktb34OlTWx2wi\n",
              "MNO1TLGSg9HsALaBAAACHEGfMEUVLBD/AAtX8kwATtv5EToNQs5vdmw3i4fpBW3QBpIVZORv4lSN\n",
              "FejTZKeqcJyzz6vctwMRwh2fGoXj/j0oQofOLF6OaXXo0ZrVb2zhXUoYxYqdgr3SoYn71oSGcrib\n",
              "ruk+0ijgRNZz9bbw4Fd6Q7F5+AA1Sv7T1+dYyGAhQt+CO1abG5xQ3Ep2hdkJlRE+9wx6itvAS/Pm\n",
              "wkA2hyb6lhHmK85z2Zerhm2OKJwEp8mTDqZ5tIBAkUvHBpj6+JPA/tge8PkFhm1nN3GnWbEMdShg\n",
              "K/e3fIEo4qAkyGQowSCix3wb4dh8F4jP4SRMyDfEGKPVU64es+rm4T//q14FKfx71/DJUXi5wuZL\n",
              "B9rIg4UAHpScwVBoXPWzo0mY1suY2TST9zOquLafjzGEU5t1QyCOLeBPSadad0LZXJOOJdaA5ae7\n",
              "9grXsJ7Zf9hbCg15yThrHJSim0WbZpB5k0ChxkEIKNTGKJZIVLO9JGtLpO1GwFNOEkr1BvWZWCQj\n",
              "q1nIpvMqXuael3lgQJazvvahuDH2rpLjItG3705leIHdF8S5w0OpPPd6o6dcggdoI7DUWQ9tM6S2\n",
              "oRIr4Mmlb1B8CpbdS7TLq3dqvgwC7qNBvLfbBQ7bk2eYTl/c4Q8aQs9Q3mHIYzy8tU8S05zUOQcK\n",
              "ow75xlywV3DL4n1TcYM2ry8bUFUJlRD3LsJVIQyn9AEG/SctjPJVIAAKqAAAAOwBn090Q/8AGR4B\n",
              "LoAIg90pq4gtmbeKCHe7widppAVD9u9iFnqMsNKPqWQ8yvgFW3mbeEaZDety+JyEffkYvVQPvura\n",
              "ENl6xCVm/tOBtj5pRQAsl9ka7D0z/VdNATA7w2j5PtgVWqhWnMu6ak7t/hvUwTvp9Ouyx5v7j0vZ\n",
              "8faoPmv23h3urOEQtGWnKMVY9x21114u0xZ8QAAW9QFbcQIN0+H5Eg1kAuOSpIZuy4QAH6GIhHYA\n",
              "AEbgJr5+m4HD7QW6U1yo6MhCLhAOS7QB67YEf91LAqMDykakmsIdStHhjRvBJsSSnEvqdiAA/wAA\n",
              "APwBn1FqQ/8AGTKzABtVWmZTfrsfpWGoLA/u/p+FuVSqnzcynYGPtxj4pgKcy656ifK89c01TKZE\n",
              "YDDGwGRRt/0god8KMEeM1PSfpYJqB4xWBP4xfGNRHmE6McB4P6CPHmWrUY9cc8qg3okLFD5TO8eL\n",
              "spLov6zooJj1EXxG9NIWr+Ut6Dam2uM/TLhyev6AE+rvwrGBwDw8cVFGd/cOsy2bxN6Omf0Ipjn/\n",
              "uCvQIPBY8NE7vPKfwn7cH9rnx+MsuVIKOIcQ8huw72rz85TsXnr8esplRTzbLk4SUMfOehgz+xh/\n",
              "24ahu1/7cJoxQNtYYWSVYBMua1GzYCAAVsEAAACyQZtTSahBbJlMCH///qmWAEYQdWADaqq2SSQf\n",
              "4yA0Esjn+Rn+EIyVLDER+2EDpc6/QZcoCiAAEs5Tl4Sf346C3RVZ0vw5gIRsbVXwYAfEwQe2GH9w\n",
              "IXC6hmd/8wOEvYwH/bbZ5QeLP+ZDDDiNmO0IYL21L8LdJS1vodArLgkJ7yT5z10QV0Z/bTKw59OH\n",
              "7Xyli2HU5QJYDRhxmho79BK4ARznHA3Y7RCol8tr7b10z7Ns+AAABB5tb292AAAAbG12aGQAAAAA\n",
              "AAAAAAAAAAAAAAPoAAAPoAABAAABAAAAAAAAAAAAAAAAAQAAAAAAAAAAAAAAAAAAAAEAAAAAAAAA\n",
              "AAAAAAAAAEAAAAAAAAAAAAAAAAAAAAAAAAAAAAAAAAAAAAAAAAACAAADSHRyYWsAAABcdGtoZAAA\n",
              "AAMAAAAAAAAAAAAAAAEAAAAAAAAPoAAAAAAAAAAAAAAAAAAAAAAAAQAAAAAAAAAAAAAAAAAAAAEA\n",
              "AAAAAAAAAAAAAAAAAEAAAAACgAAAAeAAAAAAACRlZHRzAAAAHGVsc3QAAAAAAAAAAQAAD6AAABAA\n",
              "AAEAAAAAAsBtZGlhAAAAIG1kaGQAAAAAAAAAAAAAAAAAACgAAACgAFXEAAAAAAAtaGRscgAAAAAA\n",
              "AAAAdmlkZQAAAAAAAAAAAAAAAFZpZGVvSGFuZGxlcgAAAAJrbWluZgAAABR2bWhkAAAAAQAAAAAA\n",
              "AAAAAAAAJGRpbmYAAAAcZHJlZgAAAAAAAAABAAAADHVybCAAAAABAAACK3N0YmwAAACzc3RzZAAA\n",
              "AAAAAAABAAAAo2F2YzEAAAAAAAAAAQAAAAAAAAAAAAAAAAAAAAACgAHgAEgAAABIAAAAAAAAAAEA\n",
              "AAAAAAAAAAAAAAAAAAAAAAAAAAAAAAAAAAAAAAAAAAAY//8AAAAxYXZjQwFkABb/4QAYZ2QAFqzZ\n",
              "QKA9oQAAAwABAAADAAoPFi2WAQAGaOvjyyLAAAAAHHV1aWRraEDyXyRPxbo5pRvPAyPzAAAAAAAA\n",
              "ABhzdHRzAAAAAAAAAAEAAAAUAAAIAAAAABRzdHNzAAAAAAAAAAEAAAABAAAAsGN0dHMAAAAAAAAA\n",
              "FAAAAAEAABAAAAAAAQAAGAAAAAABAAAIAAAAAAEAACgAAAAAAQAAEAAAAAABAAAAAAAAAAEAAAgA\n",
              "AAAAAQAAKAAAAAABAAAQAAAAAAEAAAAAAAAAAQAACAAAAAABAAAoAAAAAAEAABAAAAAAAQAAAAAA\n",
              "AAABAAAIAAAAAAEAACgAAAAAAQAAEAAAAAABAAAAAAAAAAEAAAgAAAAAAQAAEAAAAAAcc3RzYwAA\n",
              "AAAAAAABAAAAAQAAABQAAAABAAAAZHN0c3oAAAAAAAAAAAAAABQAACfsAAAOlwAACIIAAApmAAAI\n",
              "sQAABA0AAAMRAAAGpwAAA+wAAAItAAAB5AAAA10AAALsAAACbgAAAaUAAAIZAAACIAAAAPAAAAEA\n",
              "AAAAtgAAABRzdGNvAAAAAAAAAAEAAAAsAAAAYnVkdGEAAABabWV0YQAAAAAAAAAhaGRscgAAAAAA\n",
              "AAAAbWRpcmFwcGwAAAAAAAAAAAAAAAAtaWxzdAAAACWpdG9vAAAAHWRhdGEAAAABAAAAAExhdmY1\n",
              "OC4yOS4xMDA=\n",
              "\">\n",
              "  Your browser does not support the video tag.\n",
              "</video>"
            ]
          },
          "metadata": {},
          "execution_count": 378
        },
        {
          "output_type": "display_data",
          "data": {
            "text/plain": [
              "<Figure size 640x480 with 1 Axes>"
            ],
            "image/png": "[encoded data removed]"
          },
          "metadata": {}
        }
      ]
    },
    {
      "cell_type": "code",
      "source": [],
      "metadata": {
        "id": "KMN1RqzFQrSq"
      },
      "execution_count": null,
      "outputs": []
    }
  ]
}